{
 "cells": [
  {
   "cell_type": "markdown",
   "id": "04048101",
   "metadata": {},
   "source": [
    "**NEWS HEADLINES DATASET FOR SARCASM DETECTION PART 2**"
   ]
  },
  {
   "cell_type": "markdown",
   "id": "ce2a907c",
   "metadata": {},
   "source": [
    "*In this part we will build the module for toidentify sarcastic sentences.*\n",
    "\n",
    "***Plan to work:***\n",
    "\n",
    "        >>> Load and preprocess data  \n",
    "   \n",
    "        >>> Define the Deep Lerning models \n",
    "       \n",
    "        >>> Get the best model to solve the problem \n",
    "       \n",
    "        >>> Save model. "
   ]
  },
  {
   "cell_type": "markdown",
   "id": "fb6d04e0",
   "metadata": {},
   "source": [
    "**Import library necessary**"
   ]
  },
  {
   "cell_type": "code",
   "execution_count": 32,
   "id": "a5ade9d6",
   "metadata": {},
   "outputs": [],
   "source": [
    "import numpy as np\n",
    "import pandas as pd\n",
    "import seaborn as sns\n",
    "import matplotlib.pyplot as plt\n",
    "import os\n",
    "import sys\n",
    "import tensorflow as tf\n",
    "from keras.models import Sequential\n",
    "from keras.layers import Dense\n",
    "from keras.callbacks import LearningRateScheduler\n",
    "from keras.callbacks import ModelCheckpoint\n",
    "from keras.callbacks import EarlyStopping\n",
    "from keras.layers import Dropout\n",
    "from keras.layers import BatchNormalization\n",
    "from keras.layers import Activation\n",
    "from keras.layers import Flatten\n",
    "from keras.layers.convolutional import Conv2D, MaxPooling2D, AveragePooling2D\n",
    "from keras.layers import Dense, Dropout, Embedding, SimpleRNN, LSTM, Bidirectional\n",
    "from keras.callbacks import History"
   ]
  },
  {
   "cell_type": "code",
   "execution_count": 33,
   "id": "a2b1e626",
   "metadata": {
    "scrolled": true
   },
   "outputs": [],
   "source": [
    "import nltk\n",
    "#nltk.download()"
   ]
  },
  {
   "cell_type": "markdown",
   "id": "26ee32ce",
   "metadata": {},
   "source": [
    "**Reading the Data**"
   ]
  },
  {
   "cell_type": "code",
   "execution_count": 34,
   "id": "8e1ecb08",
   "metadata": {},
   "outputs": [],
   "source": [
    "# load the data\n",
    "data = pd.read_json('Sarcasm_Headlines_Dataset_v2.json', lines=True)"
   ]
  },
  {
   "cell_type": "code",
   "execution_count": 35,
   "id": "3058af67",
   "metadata": {},
   "outputs": [
    {
     "data": {
      "text/html": [
       "<div>\n",
       "<style scoped>\n",
       "    .dataframe tbody tr th:only-of-type {\n",
       "        vertical-align: middle;\n",
       "    }\n",
       "\n",
       "    .dataframe tbody tr th {\n",
       "        vertical-align: top;\n",
       "    }\n",
       "\n",
       "    .dataframe thead th {\n",
       "        text-align: right;\n",
       "    }\n",
       "</style>\n",
       "<table border=\"1\" class=\"dataframe\">\n",
       "  <thead>\n",
       "    <tr style=\"text-align: right;\">\n",
       "      <th></th>\n",
       "      <th>is_sarcastic</th>\n",
       "      <th>headline</th>\n",
       "      <th>article_link</th>\n",
       "    </tr>\n",
       "  </thead>\n",
       "  <tbody>\n",
       "    <tr>\n",
       "      <th>0</th>\n",
       "      <td>1</td>\n",
       "      <td>thirtysomething scientists unveil doomsday clo...</td>\n",
       "      <td>https://www.theonion.com/thirtysomething-scien...</td>\n",
       "    </tr>\n",
       "    <tr>\n",
       "      <th>1</th>\n",
       "      <td>0</td>\n",
       "      <td>dem rep. totally nails why congress is falling...</td>\n",
       "      <td>https://www.huffingtonpost.com/entry/donna-edw...</td>\n",
       "    </tr>\n",
       "    <tr>\n",
       "      <th>2</th>\n",
       "      <td>0</td>\n",
       "      <td>eat your veggies: 9 deliciously different recipes</td>\n",
       "      <td>https://www.huffingtonpost.com/entry/eat-your-...</td>\n",
       "    </tr>\n",
       "    <tr>\n",
       "      <th>3</th>\n",
       "      <td>1</td>\n",
       "      <td>inclement weather prevents liar from getting t...</td>\n",
       "      <td>https://local.theonion.com/inclement-weather-p...</td>\n",
       "    </tr>\n",
       "    <tr>\n",
       "      <th>4</th>\n",
       "      <td>1</td>\n",
       "      <td>mother comes pretty close to using word 'strea...</td>\n",
       "      <td>https://www.theonion.com/mother-comes-pretty-c...</td>\n",
       "    </tr>\n",
       "    <tr>\n",
       "      <th>5</th>\n",
       "      <td>0</td>\n",
       "      <td>my white inheritance</td>\n",
       "      <td>https://www.huffingtonpost.com/entry/my-white-...</td>\n",
       "    </tr>\n",
       "    <tr>\n",
       "      <th>6</th>\n",
       "      <td>0</td>\n",
       "      <td>5 ways to file your taxes with less stress</td>\n",
       "      <td>https://www.huffingtonpost.com/entry/5-ways-to...</td>\n",
       "    </tr>\n",
       "    <tr>\n",
       "      <th>7</th>\n",
       "      <td>1</td>\n",
       "      <td>richard branson's global-warming donation near...</td>\n",
       "      <td>https://www.theonion.com/richard-bransons-glob...</td>\n",
       "    </tr>\n",
       "    <tr>\n",
       "      <th>8</th>\n",
       "      <td>1</td>\n",
       "      <td>shadow government getting too large to meet in...</td>\n",
       "      <td>https://politics.theonion.com/shadow-governmen...</td>\n",
       "    </tr>\n",
       "    <tr>\n",
       "      <th>9</th>\n",
       "      <td>0</td>\n",
       "      <td>lots of parents know this scenario</td>\n",
       "      <td>https://www.huffingtonpost.comhttp://pubx.co/6...</td>\n",
       "    </tr>\n",
       "  </tbody>\n",
       "</table>\n",
       "</div>"
      ],
      "text/plain": [
       "   is_sarcastic                                           headline  \\\n",
       "0             1  thirtysomething scientists unveil doomsday clo...   \n",
       "1             0  dem rep. totally nails why congress is falling...   \n",
       "2             0  eat your veggies: 9 deliciously different recipes   \n",
       "3             1  inclement weather prevents liar from getting t...   \n",
       "4             1  mother comes pretty close to using word 'strea...   \n",
       "5             0                               my white inheritance   \n",
       "6             0         5 ways to file your taxes with less stress   \n",
       "7             1  richard branson's global-warming donation near...   \n",
       "8             1  shadow government getting too large to meet in...   \n",
       "9             0                 lots of parents know this scenario   \n",
       "\n",
       "                                        article_link  \n",
       "0  https://www.theonion.com/thirtysomething-scien...  \n",
       "1  https://www.huffingtonpost.com/entry/donna-edw...  \n",
       "2  https://www.huffingtonpost.com/entry/eat-your-...  \n",
       "3  https://local.theonion.com/inclement-weather-p...  \n",
       "4  https://www.theonion.com/mother-comes-pretty-c...  \n",
       "5  https://www.huffingtonpost.com/entry/my-white-...  \n",
       "6  https://www.huffingtonpost.com/entry/5-ways-to...  \n",
       "7  https://www.theonion.com/richard-bransons-glob...  \n",
       "8  https://politics.theonion.com/shadow-governmen...  \n",
       "9  https://www.huffingtonpost.comhttp://pubx.co/6...  "
      ]
     },
     "execution_count": 35,
     "metadata": {},
     "output_type": "execute_result"
    }
   ],
   "source": [
    "# view the data\n",
    "data.head(10)"
   ]
  },
  {
   "cell_type": "code",
   "execution_count": 36,
   "id": "79baedf1",
   "metadata": {},
   "outputs": [
    {
     "data": {
      "text/plain": [
       "(28619, 3)"
      ]
     },
     "execution_count": 36,
     "metadata": {},
     "output_type": "execute_result"
    }
   ],
   "source": [
    "# shape of the data\n",
    "data.shape"
   ]
  },
  {
   "cell_type": "code",
   "execution_count": 37,
   "id": "faa7d48d",
   "metadata": {},
   "outputs": [
    {
     "data": {
      "text/plain": [
       "Index(['is_sarcastic', 'headline', 'article_link'], dtype='object')"
      ]
     },
     "execution_count": 37,
     "metadata": {},
     "output_type": "execute_result"
    }
   ],
   "source": [
    "# check th columns names\n",
    "data.columns"
   ]
  },
  {
   "cell_type": "code",
   "execution_count": 38,
   "id": "825c65a1",
   "metadata": {},
   "outputs": [
    {
     "data": {
      "text/plain": [
       "is_sarcastic     int64\n",
       "headline        object\n",
       "article_link    object\n",
       "dtype: object"
      ]
     },
     "execution_count": 38,
     "metadata": {},
     "output_type": "execute_result"
    }
   ],
   "source": [
    "# check the data types in the columns\n",
    "data.dtypes"
   ]
  },
  {
   "cell_type": "code",
   "execution_count": 39,
   "id": "e8995586",
   "metadata": {},
   "outputs": [
    {
     "data": {
      "text/plain": [
       "array([1, 0], dtype=int64)"
      ]
     },
     "execution_count": 39,
     "metadata": {},
     "output_type": "execute_result"
    }
   ],
   "source": [
    "#checking the unique values in 'is_sarcastic' column\n",
    "data.is_sarcastic.unique()"
   ]
  },
  {
   "cell_type": "code",
   "execution_count": 40,
   "id": "ba5b8be1",
   "metadata": {},
   "outputs": [
    {
     "data": {
      "text/plain": [
       "0    14985\n",
       "1    13634\n",
       "Name: is_sarcastic, dtype: int64"
      ]
     },
     "execution_count": 40,
     "metadata": {},
     "output_type": "execute_result"
    }
   ],
   "source": [
    "#checking the value counts in 'is_sarcastic' column\n",
    "data.is_sarcastic.value_counts()"
   ]
  },
  {
   "cell_type": "code",
   "execution_count": 41,
   "id": "151f5f65",
   "metadata": {},
   "outputs": [
    {
     "data": {
      "text/plain": [
       "is_sarcastic    0\n",
       "headline        0\n",
       "article_link    0\n",
       "dtype: int64"
      ]
     },
     "execution_count": 41,
     "metadata": {},
     "output_type": "execute_result"
    }
   ],
   "source": [
    "# check the null values in data\n",
    "data.isna().sum() "
   ]
  },
  {
   "cell_type": "code",
   "execution_count": 42,
   "id": "9d149e1b",
   "metadata": {},
   "outputs": [],
   "source": [
    "# drop 'article_link' column\n",
    "data = data.drop('article_link', axis=1)"
   ]
  },
  {
   "cell_type": "code",
   "execution_count": 43,
   "id": "11bfc984",
   "metadata": {},
   "outputs": [
    {
     "data": {
      "text/html": [
       "<div>\n",
       "<style scoped>\n",
       "    .dataframe tbody tr th:only-of-type {\n",
       "        vertical-align: middle;\n",
       "    }\n",
       "\n",
       "    .dataframe tbody tr th {\n",
       "        vertical-align: top;\n",
       "    }\n",
       "\n",
       "    .dataframe thead th {\n",
       "        text-align: right;\n",
       "    }\n",
       "</style>\n",
       "<table border=\"1\" class=\"dataframe\">\n",
       "  <thead>\n",
       "    <tr style=\"text-align: right;\">\n",
       "      <th></th>\n",
       "      <th>is_sarcastic</th>\n",
       "      <th>headline</th>\n",
       "    </tr>\n",
       "  </thead>\n",
       "  <tbody>\n",
       "    <tr>\n",
       "      <th>0</th>\n",
       "      <td>1</td>\n",
       "      <td>thirtysomething scientists unveil doomsday clo...</td>\n",
       "    </tr>\n",
       "    <tr>\n",
       "      <th>1</th>\n",
       "      <td>0</td>\n",
       "      <td>dem rep. totally nails why congress is falling...</td>\n",
       "    </tr>\n",
       "    <tr>\n",
       "      <th>2</th>\n",
       "      <td>0</td>\n",
       "      <td>eat your veggies: 9 deliciously different recipes</td>\n",
       "    </tr>\n",
       "    <tr>\n",
       "      <th>3</th>\n",
       "      <td>1</td>\n",
       "      <td>inclement weather prevents liar from getting t...</td>\n",
       "    </tr>\n",
       "    <tr>\n",
       "      <th>4</th>\n",
       "      <td>1</td>\n",
       "      <td>mother comes pretty close to using word 'strea...</td>\n",
       "    </tr>\n",
       "  </tbody>\n",
       "</table>\n",
       "</div>"
      ],
      "text/plain": [
       "   is_sarcastic                                           headline\n",
       "0             1  thirtysomething scientists unveil doomsday clo...\n",
       "1             0  dem rep. totally nails why congress is falling...\n",
       "2             0  eat your veggies: 9 deliciously different recipes\n",
       "3             1  inclement weather prevents liar from getting t...\n",
       "4             1  mother comes pretty close to using word 'strea..."
      ]
     },
     "execution_count": 43,
     "metadata": {},
     "output_type": "execute_result"
    }
   ],
   "source": [
    "#ckeck the data\n",
    "data.head()"
   ]
  },
  {
   "cell_type": "code",
   "execution_count": 44,
   "id": "dafe91ed",
   "metadata": {},
   "outputs": [
    {
     "name": "stdout",
     "output_type": "stream",
     "text": [
      "We have 287674 words in the headline\n"
     ]
    }
   ],
   "source": [
    "data_len = data['headline'].apply(lambda x: len(x.split(' '))).sum()\n",
    "print(f'We have {data_len} words in the headline')"
   ]
  },
  {
   "cell_type": "code",
   "execution_count": 45,
   "id": "93f4fe3a",
   "metadata": {},
   "outputs": [
    {
     "data": {
      "text/plain": [
       "5505    terrifying server whole-heartedly cares about ...\n",
       "5506    pennsylvania diocese releases names of 51 cler...\n",
       "5507    cupid cop gave out roses, cards on valentine's...\n",
       "5508                             to my muslim best friend\n",
       "5509    ted cruz probably can't save the gop establish...\n",
       "Name: headline, dtype: object"
      ]
     },
     "execution_count": 45,
     "metadata": {},
     "output_type": "execute_result"
    }
   ],
   "source": [
    "data['headline'][5505:5510]"
   ]
  },
  {
   "cell_type": "markdown",
   "id": "aef967d6",
   "metadata": {},
   "source": [
    "***Text pre-processing***\n",
    "\n",
    "For the text cleaning we can use a some libreries as nltk and spacy. "
   ]
  },
  {
   "cell_type": "code",
   "execution_count": 46,
   "id": "a0438285",
   "metadata": {},
   "outputs": [],
   "source": [
    "from nltk.tokenize import word_tokenize, sent_tokenize\n",
    "from nltk.corpus import stopwords\n",
    "import spacy\n",
    "import string\n",
    "import re\n",
    "\n",
    "nlp = spacy.load('en_core_web_sm')  #load spacy\n",
    "stop_words = set(stopwords.words('english')) # get the english stropwords\n",
    "def text_clean(text):                        #define function for clean the data  \n",
    "    doc = nlp(text)\n",
    "    lem_tok = [token.lemma_ for token in doc] # tokenize the words using spacy\n",
    "    lem_al = [lemma.lower() for lemma in lem_tok if lemma.isalpha() and lemma not in stop_words]\n",
    "    lem_text = ' '.join(lem_al)\n",
    "    return lem_text\n",
    "\n",
    "data['headline'] = data['headline'].apply(text_clean)"
   ]
  },
  {
   "cell_type": "code",
   "execution_count": 47,
   "id": "0a9ecf29",
   "metadata": {},
   "outputs": [
    {
     "name": "stdout",
     "output_type": "stream",
     "text": [
      "We have 204866 words in the headline\n"
     ]
    }
   ],
   "source": [
    "data_len = data['headline'].apply(lambda x: len(x.split(' '))).sum()\n",
    "print(f'We have {data_len} words in the headline')"
   ]
  },
  {
   "cell_type": "code",
   "execution_count": 48,
   "id": "5f63487a",
   "metadata": {},
   "outputs": [],
   "source": [
    "text = data['headline'].tolist()\n",
    "labels = data['is_sarcastic'].tolist()"
   ]
  },
  {
   "cell_type": "markdown",
   "id": "8b9f6d74",
   "metadata": {},
   "source": [
    "*Split, tokenize and padding the text with keras*"
   ]
  },
  {
   "cell_type": "code",
   "execution_count": 49,
   "id": "364d1491",
   "metadata": {},
   "outputs": [],
   "source": [
    "max_words = 10000 # max number of words in \n",
    "max_length = 200 # max length\n",
    "trunc_type='post' # types of padding\n",
    "padding_type='post'\n",
    "oov_tok = \"<OOV>\"  # out-of-vocab\n",
    "training_size = 20000 # size of training data"
   ]
  },
  {
   "cell_type": "code",
   "execution_count": 50,
   "id": "5782c1d3",
   "metadata": {},
   "outputs": [],
   "source": [
    "# split the dataset into training and testing datasets \n",
    "x_train = text[0:training_size]\n",
    "x_test = text[training_size:]\n",
    "y_train  = labels[0:training_size]\n",
    "y_test  = labels[training_size:]\n",
    "\n",
    "from sklearn.preprocessing import LabelEncoder\n",
    "# label encode the target variable \n",
    "encoder = LabelEncoder()\n",
    "train_y = encoder.fit_transform(y_train)\n",
    "valid_y = encoder.fit_transform(y_test)"
   ]
  },
  {
   "cell_type": "code",
   "execution_count": 51,
   "id": "5b316451",
   "metadata": {},
   "outputs": [],
   "source": [
    "#import library for tokenize text\n",
    "from tensorflow.keras.preprocessing.text import Tokenizer\n",
    "from tensorflow.keras.preprocessing.sequence import pad_sequences\n",
    "\n",
    "token = Tokenizer(num_words=max_words, oov_token=oov_tok)\n",
    "token.fit_on_texts(x_train)\n",
    "word_index = token.word_index\n",
    "\n",
    "# Transforming train_text to a sequence of integers\n",
    "train_seq = token.texts_to_sequences(x_train)             \n",
    "\n",
    "# Pading train_sequences to the same length\n",
    "train_pad = pad_sequences(train_seq, maxlen=max_length, padding=padding_type, truncating=trunc_type) \n",
    "\n",
    "# Transforming test_text to a sequence of integers\n",
    "test_seq = token.texts_to_sequences(x_test) \n",
    "\n",
    "# Pading test_sequences to the same length\n",
    "test_pad = pad_sequences(test_seq, maxlen=max_length, padding=padding_type, truncating=trunc_type)"
   ]
  },
  {
   "cell_type": "code",
   "execution_count": 52,
   "id": "c8dcbdf2",
   "metadata": {},
   "outputs": [
    {
     "name": "stdout",
     "output_type": "stream",
     "text": [
      "int32\n"
     ]
    }
   ],
   "source": [
    "# conwert the data into numpy array\n",
    "x_train = np.array(train_pad)\n",
    "y_train = np.array(train_y)\n",
    "x_test  = np.array(test_pad)\n",
    "y_test  = np.array(valid_y)\n",
    "\n",
    "x_train.shape, y_train.shape, x_test.shape, y_test.shape #check the shapes\n",
    "print(x_train.dtype) # check the type of train values"
   ]
  },
  {
   "cell_type": "markdown",
   "id": "bdad56f0",
   "metadata": {},
   "source": [
    "***Modeling the data***\n",
    "\n",
    "*TensorFlow*"
   ]
  },
  {
   "cell_type": "code",
   "execution_count": 53,
   "id": "3997de3b",
   "metadata": {
    "scrolled": true
   },
   "outputs": [
    {
     "name": "stdout",
     "output_type": "stream",
     "text": [
      "Epoch 1/10\n",
      "625/625 - 2s - loss: 7.2790 - accuracy: 0.5234 - 2s/epoch - 3ms/step\n",
      "Epoch 2/10\n",
      "625/625 - 1s - loss: 7.3569 - accuracy: 0.5231 - 1s/epoch - 2ms/step\n",
      "Epoch 3/10\n",
      "625/625 - 1s - loss: 7.3569 - accuracy: 0.5231 - 1s/epoch - 2ms/step\n",
      "Epoch 4/10\n",
      "625/625 - 1s - loss: 7.3569 - accuracy: 0.5231 - 1s/epoch - 2ms/step\n",
      "Epoch 5/10\n",
      "625/625 - 1s - loss: 7.3569 - accuracy: 0.5231 - 1s/epoch - 2ms/step\n",
      "Epoch 6/10\n",
      "625/625 - 1s - loss: 7.3569 - accuracy: 0.5231 - 1s/epoch - 2ms/step\n",
      "Epoch 7/10\n",
      "625/625 - 1s - loss: 7.3569 - accuracy: 0.5231 - 1s/epoch - 2ms/step\n",
      "Epoch 8/10\n",
      "625/625 - 1s - loss: 7.3569 - accuracy: 0.5231 - 1s/epoch - 2ms/step\n",
      "Epoch 9/10\n",
      "625/625 - 1s - loss: 7.3569 - accuracy: 0.5231 - 1s/epoch - 2ms/step\n",
      "Epoch 10/10\n",
      "625/625 - 1s - loss: 7.3569 - accuracy: 0.5231 - 1s/epoch - 2ms/step\n"
     ]
    }
   ],
   "source": [
    "#import the library\n",
    "from keras.models import Sequential\n",
    "from keras.layers import Dense\n",
    "\n",
    "#using Sequential model and Dense layer for biulding the first model\n",
    "model_0 = Sequential()\n",
    "model_0.add(Dense(8, activation='sigmoid'))\n",
    "model_0.add(Dense(1))\n",
    "history_0 = History()\n",
    "#getting an optimizer with SGD\n",
    "opt = tf.keras.optimizers.SGD(learning_rate=0.01, momentum=0.9)\n",
    "\n",
    "#compile the model\n",
    "model_0.compile(optimizer=opt, loss='binary_crossentropy', metrics=['accuracy'])\n",
    "\n",
    "#fit the model\n",
    "history_0 = model_0.fit(x_train, y_train, epochs=10, batch_size=32,verbose=2)"
   ]
  },
  {
   "cell_type": "code",
   "execution_count": 54,
   "id": "7548582c",
   "metadata": {},
   "outputs": [
    {
     "name": "stdout",
     "output_type": "stream",
     "text": [
      "270/270 [==============================] - 1s 2ms/step - loss: 7.3286 - accuracy: 0.5249\n"
     ]
    },
    {
     "data": {
      "text/plain": [
       "[7.328596115112305, 0.5248869061470032]"
      ]
     },
     "execution_count": 54,
     "metadata": {},
     "output_type": "execute_result"
    }
   ],
   "source": [
    "# evaluate the model\n",
    "model_0.evaluate(x_test,y_test)"
   ]
  },
  {
   "cell_type": "code",
   "execution_count": 55,
   "id": "4b30612e",
   "metadata": {},
   "outputs": [
    {
     "name": "stdout",
     "output_type": "stream",
     "text": [
      "[[-5.1902637]\n",
      " [-5.39772  ]\n",
      " [-5.478161 ]\n",
      " ...\n",
      " [-5.1902637]\n",
      " [-5.39772  ]\n",
      " [-5.1902637]]\n"
     ]
    }
   ],
   "source": [
    "# make a prediction\n",
    "pred = model_0.predict(x_test)\n",
    "print(pred)"
   ]
  },
  {
   "cell_type": "code",
   "execution_count": 56,
   "id": "16a8ae5f",
   "metadata": {},
   "outputs": [
    {
     "name": "stdout",
     "output_type": "stream",
     "text": [
      "[[-5.1902637]\n",
      " [-5.478161 ]]\n"
     ]
    }
   ],
   "source": [
    "#check the model\n",
    "sentences = ['lesbian consider father indiana amazing one', \"terrifying server whole heartedly care guest dining experience\"]\n",
    "sequencess = token.texts_to_sequences(sentences)\n",
    "padded = pad_sequences(sequencess, maxlen=max_length, padding=padding_type, truncating=trunc_type)\n",
    "\n",
    "# make a prediction\n",
    "pred_0 = model_0.predict(padded)\n",
    "print(pred_0)"
   ]
  },
  {
   "cell_type": "markdown",
   "id": "1da4bf03",
   "metadata": {},
   "source": [
    "Using Embedding and GlobalAveragePooling1D layers"
   ]
  },
  {
   "cell_type": "code",
   "execution_count": 57,
   "id": "e76cec19",
   "metadata": {},
   "outputs": [
    {
     "name": "stdout",
     "output_type": "stream",
     "text": [
      "Model: \"sequential_2\"\n",
      "_________________________________________________________________\n",
      " Layer (type)                Output Shape              Param #   \n",
      "=================================================================\n",
      " embedding (Embedding)       (None, 200, 50)           500000    \n",
      "                                                                 \n",
      " global_average_pooling1d (G  (None, 50)               0         \n",
      " lobalAveragePooling1D)                                          \n",
      "                                                                 \n",
      " dense_4 (Dense)             (None, 24)                1224      \n",
      "                                                                 \n",
      " dense_5 (Dense)             (None, 1)                 25        \n",
      "                                                                 \n",
      "=================================================================\n",
      "Total params: 501,249\n",
      "Trainable params: 501,249\n",
      "Non-trainable params: 0\n",
      "_________________________________________________________________\n",
      "INFO:tensorflow:Assets written to: /models/model_1\\assets\n",
      "Epoch 1/10\n",
      "625/625 - 6s - loss: 0.6921 - accuracy: 0.5231 - val_loss: 0.6918 - val_accuracy: 0.5249 - lr: 0.0100 - 6s/epoch - 9ms/step\n",
      "Epoch 2/10\n",
      "625/625 - 5s - loss: 0.6921 - accuracy: 0.5231 - val_loss: 0.6918 - val_accuracy: 0.5249 - lr: 0.0100 - 5s/epoch - 8ms/step\n",
      "Epoch 3/10\n",
      "625/625 - 5s - loss: 0.6920 - accuracy: 0.5231 - val_loss: 0.6918 - val_accuracy: 0.5249 - lr: 0.0100 - 5s/epoch - 7ms/step\n",
      "Epoch 4/10\n",
      "625/625 - 5s - loss: 0.6921 - accuracy: 0.5231 - val_loss: 0.6918 - val_accuracy: 0.5249 - lr: 0.0100 - 5s/epoch - 7ms/step\n",
      "Epoch 5/10\n",
      "625/625 - 7s - loss: 0.6920 - accuracy: 0.5231 - val_loss: 0.6920 - val_accuracy: 0.5249 - lr: 0.0100 - 7s/epoch - 11ms/step\n",
      "Epoch 6/10\n",
      "625/625 - 10s - loss: 0.6920 - accuracy: 0.5231 - val_loss: 0.6918 - val_accuracy: 0.5249 - lr: 0.0100 - 10s/epoch - 15ms/step\n",
      "Epoch 7/10\n",
      "625/625 - 9s - loss: 0.6920 - accuracy: 0.5231 - val_loss: 0.6918 - val_accuracy: 0.5249 - lr: 0.0100 - 9s/epoch - 15ms/step\n",
      "Epoch 8/10\n",
      "625/625 - 10s - loss: 0.6920 - accuracy: 0.5231 - val_loss: 0.6919 - val_accuracy: 0.5249 - lr: 0.0100 - 10s/epoch - 16ms/step\n",
      "Epoch 9/10\n",
      "625/625 - 10s - loss: 0.6920 - accuracy: 0.5231 - val_loss: 0.6918 - val_accuracy: 0.5249 - lr: 0.0100 - 10s/epoch - 16ms/step\n",
      "Epoch 10/10\n",
      "625/625 - 9s - loss: 0.6920 - accuracy: 0.5231 - val_loss: 0.6918 - val_accuracy: 0.5249 - lr: 0.0100 - 9s/epoch - 15ms/step\n"
     ]
    }
   ],
   "source": [
    "from keras.models import Sequential\n",
    "from keras.layers import Dense,Embedding, GlobalAveragePooling1D\n",
    "from keras.callbacks import LearningRateScheduler, ModelCheckpoint\n",
    "\n",
    "# define function for lerning rate schedule \n",
    "def scheduler(epoch, lr): \n",
    "      if epoch < 10:\n",
    "        return lr\n",
    "      else:\n",
    "        return lr * tf.math.exp(-0.1)\n",
    "\n",
    "# max number of words to use into model\n",
    "max_words = 10000\n",
    "# max embedding number\n",
    "embedding_dim = 50\n",
    "# number epochs to use\n",
    "max_epochs = 10 \n",
    "# Add Embedding and GlobalAveragePooling1D layers in model\n",
    "model_1 = Sequential() \n",
    "model_1.add(Embedding(max_words, embedding_dim, input_length = max_length))\n",
    "model_1.add(GlobalAveragePooling1D())\n",
    "model_1.add(Dense(24, activation='relu'))\n",
    "model_1.add(Dense(1, activation='sigmoid'))\n",
    "\n",
    "#compile the model \n",
    "model_1.compile(loss='binary_crossentropy',optimizer='sgd',metrics=['accuracy'])\n",
    "\n",
    "#summarize the model\n",
    "model_1.summary()\n",
    "\n",
    "#saving the model\n",
    "save_model1 = model_1.save(\"/models/model_1\")\n",
    "l_rate = LearningRateScheduler(scheduler)\n",
    "# fit the model\n",
    "history_1 = model_1.fit(x_train, y_train, \n",
    "                    epochs=max_epochs,\n",
    "                    batch_size=32,\n",
    "                    callbacks=[l_rate], \n",
    "                    validation_data=(x_test, y_test), \n",
    "                    verbose=2)"
   ]
  },
  {
   "cell_type": "code",
   "execution_count": 114,
   "id": "a0f223b7",
   "metadata": {},
   "outputs": [
    {
     "name": "stdout",
     "output_type": "stream",
     "text": [
      "Train accuracy for Emb_GlobalAv: 52.31\n",
      "Test accuracy for  Emb_GlobalAv: 52.49\n"
     ]
    }
   ],
   "source": [
    "# model evaluation\n",
    "train_gru_results =model_1.evaluate(x_train, y_train, verbose=0, batch_size=32)\n",
    "test_gru_results = model_1.evaluate(x_test, y_test, verbose=0, batch_size=32)\n",
    "print(f'Train accuracy for Emb_GlobalAv: {train_gru_results[1]*100:0.2f}')\n",
    "print(f'Test accuracy for  Emb_GlobalAv: {test_gru_results[1]*100:0.2f}')"
   ]
  },
  {
   "cell_type": "code",
   "execution_count": 59,
   "id": "92341b05",
   "metadata": {},
   "outputs": [
    {
     "name": "stdout",
     "output_type": "stream",
     "text": [
      "[[0.47617975]\n",
      " [0.47665116]]\n"
     ]
    }
   ],
   "source": [
    "#check the model\n",
    "sentences = ['lesbian consider father indiana amazing one', \"terrifying server whole heartedly care guest dining experience\"]\n",
    "sequencess = token.texts_to_sequences(sentences)\n",
    "\n",
    "padded = pad_sequences(sequencess, maxlen=max_length, padding=padding_type, truncating=trunc_type)\n",
    "\n",
    "# make a prediction\n",
    "pred_1 = model_1.predict(padded)\n",
    "print(pred_1)"
   ]
  },
  {
   "cell_type": "code",
   "execution_count": 60,
   "id": "6b91bee9",
   "metadata": {},
   "outputs": [
    {
     "data": {
      "image/png": "[encoded data removed]",
      "text/plain": [
       "<Figure size 432x288 with 1 Axes>"
      ]
     },
     "metadata": {
      "needs_background": "light"
     },
     "output_type": "display_data"
    },
    {
     "data": {
      "image/png": "[encoded data removed]",
      "text/plain": [
       "<Figure size 432x288 with 1 Axes>"
      ]
     },
     "metadata": {
      "needs_background": "light"
     },
     "output_type": "display_data"
    }
   ],
   "source": [
    "#plot the accuracy\n",
    "plt.plot(history_1.history['accuracy'], label = \"accuracy\")\n",
    "plt.plot(history_1.history['val_accuracy'], label = \"val_accuracy\")\n",
    "\n",
    "plt.xlabel(\"Epochs\")\n",
    "plt.ylabel(\"Accuracy\")\n",
    "plt.legend()\n",
    "plt.show()\n",
    "\n",
    "plt.plot(history_1.history['loss'], label = \"loss\")\n",
    "plt.plot(history_1.history['val_loss'], label = \"val_loss\")\n",
    "plt.xlabel(\"Epochs\")\n",
    "plt.ylabel(\"Loss\")\n",
    "plt.legend()\n",
    "plt.show()"
   ]
  },
  {
   "cell_type": "markdown",
   "id": "47e6d839",
   "metadata": {},
   "source": [
    "*Using the Adam optimizer*"
   ]
  },
  {
   "cell_type": "code",
   "execution_count": 61,
   "id": "f98b438e",
   "metadata": {},
   "outputs": [
    {
     "name": "stdout",
     "output_type": "stream",
     "text": [
      "Model: \"sequential_3\"\n",
      "_________________________________________________________________\n",
      " Layer (type)                Output Shape              Param #   \n",
      "=================================================================\n",
      " dense_6 (Dense)             (None, 100)               20100     \n",
      "                                                                 \n",
      " dense_7 (Dense)             (None, 50)                5050      \n",
      "                                                                 \n",
      " dense_8 (Dense)             (None, 10)                510       \n",
      "                                                                 \n",
      " dense_9 (Dense)             (None, 1)                 11        \n",
      "                                                                 \n",
      "=================================================================\n",
      "Total params: 25,671\n",
      "Trainable params: 25,671\n",
      "Non-trainable params: 0\n",
      "_________________________________________________________________\n",
      "INFO:tensorflow:Assets written to: /models/model_2\\assets\n",
      "Epoch 1/15\n",
      "625/625 - 7s - loss: 0.6824 - accuracy: 0.5584 - val_loss: 0.6777 - val_accuracy: 0.5680 - lr: 0.0010 - 7s/epoch - 11ms/step\n",
      "Epoch 2/15\n",
      "625/625 - 6s - loss: 0.6757 - accuracy: 0.5709 - val_loss: 0.6760 - val_accuracy: 0.5736 - lr: 0.0010 - 6s/epoch - 9ms/step\n",
      "Epoch 3/15\n",
      "625/625 - 5s - loss: 0.6738 - accuracy: 0.5742 - val_loss: 0.6743 - val_accuracy: 0.5750 - lr: 0.0010 - 5s/epoch - 8ms/step\n",
      "Epoch 4/15\n",
      "625/625 - 5s - loss: 0.6726 - accuracy: 0.5747 - val_loss: 0.6741 - val_accuracy: 0.5714 - lr: 0.0010 - 5s/epoch - 7ms/step\n",
      "Epoch 5/15\n",
      "625/625 - 5s - loss: 0.6710 - accuracy: 0.5795 - val_loss: 0.6732 - val_accuracy: 0.5738 - lr: 0.0010 - 5s/epoch - 9ms/step\n",
      "Epoch 6/15\n",
      "625/625 - 5s - loss: 0.6697 - accuracy: 0.5810 - val_loss: 0.6733 - val_accuracy: 0.5758 - lr: 0.0010 - 5s/epoch - 8ms/step\n",
      "Epoch 7/15\n",
      "625/625 - 4s - loss: 0.6698 - accuracy: 0.5789 - val_loss: 0.6727 - val_accuracy: 0.5735 - lr: 0.0010 - 4s/epoch - 7ms/step\n",
      "Epoch 8/15\n",
      "625/625 - 5s - loss: 0.6692 - accuracy: 0.5798 - val_loss: 0.6735 - val_accuracy: 0.5744 - lr: 0.0010 - 5s/epoch - 8ms/step\n",
      "Epoch 9/15\n",
      "625/625 - 5s - loss: 0.6700 - accuracy: 0.5752 - val_loss: 0.6736 - val_accuracy: 0.5749 - lr: 0.0010 - 5s/epoch - 9ms/step\n",
      "Epoch 10/15\n",
      "625/625 - 5s - loss: 0.6701 - accuracy: 0.5766 - val_loss: 0.6737 - val_accuracy: 0.5662 - lr: 0.0010 - 5s/epoch - 8ms/step\n",
      "Epoch 11/15\n",
      "625/625 - 5s - loss: 0.6703 - accuracy: 0.5744 - val_loss: 0.6741 - val_accuracy: 0.5685 - lr: 9.0484e-04 - 5s/epoch - 8ms/step\n",
      "Epoch 12/15\n",
      "625/625 - 5s - loss: 0.6695 - accuracy: 0.5767 - val_loss: 0.6738 - val_accuracy: 0.5766 - lr: 8.1873e-04 - 5s/epoch - 9ms/step\n",
      "Epoch 13/15\n",
      "625/625 - 5s - loss: 0.6688 - accuracy: 0.5814 - val_loss: 0.6724 - val_accuracy: 0.5732 - lr: 7.4082e-04 - 5s/epoch - 8ms/step\n",
      "Epoch 14/15\n",
      "625/625 - 5s - loss: 0.6678 - accuracy: 0.5817 - val_loss: 0.6730 - val_accuracy: 0.5686 - lr: 6.7032e-04 - 5s/epoch - 9ms/step\n",
      "Epoch 15/15\n",
      "625/625 - 5s - loss: 0.6672 - accuracy: 0.5834 - val_loss: 0.6720 - val_accuracy: 0.5711 - lr: 6.0653e-04 - 5s/epoch - 8ms/step\n"
     ]
    }
   ],
   "source": [
    "from tensorflow import keras as keras\n",
    "from tensorflow.keras.models import Sequential\n",
    "from tensorflow.keras.layers import Dense\n",
    "from tensorflow.keras.callbacks import LearningRateScheduler\n",
    "from tensorflow.keras.callbacks import ModelCheckpoint\n",
    "\n",
    "def scheduler(epoch, lr): # define function for lerning rate schedule \n",
    "      if epoch < 10:\n",
    "        return lr\n",
    "      else:\n",
    "        return lr * tf.math.exp(-0.1)\n",
    "\n",
    "max_epochs = 15 #number epochs to use\n",
    "Adam_history = History()\n",
    "model_2 = Sequential()\n",
    "model_2.add(Dense(100, activation=\"sigmoid\",input_shape =(x_train.shape[1],)))\n",
    "model_2.add(Dense(50,activation=\"sigmoid\"))\n",
    "model_2.add(Dense(10,activation=\"sigmoid\"))\n",
    "model_2.add(Dense(1,activation=\"sigmoid\"))\n",
    "model_2.summary()\n",
    "\n",
    "Adam = keras.optimizers.Adam(learning_rate=0.001, beta_1=0.9, beta_2=0.999, amsgrad=False)\n",
    "model_2.compile(loss=\"binary_crossentropy\",optimizer=Adam, metrics=[\"accuracy\"])\n",
    "\n",
    "# save the model\n",
    "save_model_2 = model_2.save(\"/models/model_2\") \n",
    "l_rate = LearningRateScheduler(scheduler)\n",
    "\n",
    "Adam_history = model_2.fit(x_train, y_train, \n",
    "                    epochs=max_epochs,\n",
    "                    batch_size=32,\n",
    "                    callbacks=[l_rate],\n",
    "                    validation_data=(x_test, y_test),\n",
    "                    verbose=2)"
   ]
  },
  {
   "cell_type": "code",
   "execution_count": 113,
   "id": "397265c4",
   "metadata": {},
   "outputs": [
    {
     "name": "stdout",
     "output_type": "stream",
     "text": [
      "Train accuracy for SeqDense: 59.17\n",
      "Test accuracy for  SeqDense: 57.11\n"
     ]
    }
   ],
   "source": [
    "# model evaluation\n",
    "train_gru_results =model_2.evaluate(x_train, y_train, verbose=0, batch_size=32)\n",
    "test_gru_results = model_2.evaluate(x_test, y_test, verbose=0, batch_size=32)\n",
    "print(f'Train accuracy for SeqDense: {train_gru_results[1]*100:0.2f}')\n",
    "print(f'Test accuracy for  SeqDense: {test_gru_results[1]*100:0.2f}')"
   ]
  },
  {
   "cell_type": "code",
   "execution_count": 115,
   "id": "effab86f",
   "metadata": {},
   "outputs": [
    {
     "name": "stdout",
     "output_type": "stream",
     "text": [
      "[[0.38186264]\n",
      " [0.4443144 ]]\n"
     ]
    }
   ],
   "source": [
    "#check the model\n",
    "sentences = ['lesbian consider father indiana amazing one', \"terrifying server whole heartedly care guest dining experience\"]\n",
    "sequencess = token.texts_to_sequences(sentences)\n",
    "\n",
    "padded = pad_sequences(sequencess, maxlen=max_length, padding=padding_type, truncating=trunc_type)\n",
    "\n",
    "# make a prediction\n",
    "pred_2 = model_2.predict(padded)\n",
    "print(pred_2)"
   ]
  },
  {
   "cell_type": "code",
   "execution_count": 63,
   "id": "922fc640",
   "metadata": {},
   "outputs": [
    {
     "data": {
      "image/png": "[encoded data removed]",
      "text/plain": [
       "<Figure size 432x288 with 1 Axes>"
      ]
     },
     "metadata": {
      "needs_background": "light"
     },
     "output_type": "display_data"
    },
    {
     "data": {
      "image/png": "[encoded data removed]",
      "text/plain": [
       "<Figure size 432x288 with 1 Axes>"
      ]
     },
     "metadata": {
      "needs_background": "light"
     },
     "output_type": "display_data"
    }
   ],
   "source": [
    "plt.plot(Adam_history.history['accuracy'], label = \"acc_Adam\")\n",
    "plt.plot(Adam_history.history['val_accuracy'], label = \"val_acc_Adam\")\n",
    "plt.xlabel(\"Epochs\")\n",
    "plt.ylabel(\"Accuracy\")\n",
    "plt.legend()\n",
    "plt.show()\n",
    "\n",
    "plt.plot(Adam_history.history['loss'], label = \"loss_Adam\")\n",
    "plt.plot(Adam_history.history['val_loss'], label = \"val_Adam\")\n",
    "plt.xlabel(\"Epochs\")\n",
    "plt.ylabel(\"Accuracy\")\n",
    "plt.legend()\n",
    "plt.show()"
   ]
  },
  {
   "cell_type": "code",
   "execution_count": 65,
   "id": "4e3c0bd4",
   "metadata": {},
   "outputs": [
    {
     "name": "stdout",
     "output_type": "stream",
     "text": [
      "Model: \"sequential_4\"\n",
      "_________________________________________________________________\n",
      " Layer (type)                Output Shape              Param #   \n",
      "=================================================================\n",
      " embedding_1 (Embedding)     (None, 200, 50)           500000    \n",
      "                                                                 \n",
      " dense_10 (Dense)            (None, 200, 128)          6528      \n",
      "                                                                 \n",
      " dense_11 (Dense)            (None, 200, 1)            129       \n",
      "                                                                 \n",
      " dropout (Dropout)           (None, 200, 1)            0         \n",
      "                                                                 \n",
      "=================================================================\n",
      "Total params: 506,657\n",
      "Trainable params: 506,657\n",
      "Non-trainable params: 0\n",
      "_________________________________________________________________\n",
      "INFO:tensorflow:Assets written to: /models/model_3\\assets\n",
      "Epoch 1/20\n",
      "625/625 - 37s - loss: 1.3745 - accuracy: 0.5125 - val_loss: 0.7111 - val_accuracy: 0.5249 - lr: 0.0010 - 37s/epoch - 60ms/step\n",
      "Epoch 2/20\n",
      "625/625 - 35s - loss: 1.3606 - accuracy: 0.5160 - val_loss: 0.6944 - val_accuracy: 0.5249 - lr: 0.0010 - 35s/epoch - 55ms/step\n",
      "Epoch 3/20\n",
      "625/625 - 33s - loss: 1.3603 - accuracy: 0.5136 - val_loss: 0.6944 - val_accuracy: 0.5249 - lr: 0.0010 - 33s/epoch - 53ms/step\n",
      "Epoch 4/20\n",
      "625/625 - 33s - loss: 1.3603 - accuracy: 0.5141 - val_loss: 0.6948 - val_accuracy: 0.5249 - lr: 0.0010 - 33s/epoch - 52ms/step\n",
      "Epoch 5/20\n",
      "625/625 - 34s - loss: 1.3614 - accuracy: 0.5158 - val_loss: 0.7018 - val_accuracy: 0.5249 - lr: 0.0010 - 34s/epoch - 55ms/step\n",
      "Epoch 6/20\n",
      "625/625 - 36s - loss: 1.3607 - accuracy: 0.5158 - val_loss: 0.7011 - val_accuracy: 0.5249 - lr: 0.0010 - 36s/epoch - 57ms/step\n",
      "Epoch 7/20\n",
      "625/625 - 33s - loss: 1.3604 - accuracy: 0.5135 - val_loss: 0.6981 - val_accuracy: 0.5249 - lr: 0.0010 - 33s/epoch - 53ms/step\n",
      "Epoch 8/20\n",
      "625/625 - 22s - loss: 1.3590 - accuracy: 0.5135 - val_loss: 0.6952 - val_accuracy: 0.5249 - lr: 0.0010 - 22s/epoch - 35ms/step\n",
      "Epoch 9/20\n",
      "625/625 - 12s - loss: 1.3579 - accuracy: 0.5173 - val_loss: 0.6964 - val_accuracy: 0.5249 - lr: 0.0010 - 12s/epoch - 19ms/step\n",
      "Epoch 10/20\n",
      "625/625 - 12s - loss: 1.3578 - accuracy: 0.5176 - val_loss: 0.6975 - val_accuracy: 0.5249 - lr: 0.0010 - 12s/epoch - 19ms/step\n",
      "Epoch 11/20\n",
      "625/625 - 11s - loss: 1.3624 - accuracy: 0.5173 - val_loss: 0.6933 - val_accuracy: 0.5249 - lr: 9.0484e-04 - 11s/epoch - 18ms/step\n",
      "Epoch 12/20\n",
      "625/625 - 11s - loss: 1.3587 - accuracy: 0.5198 - val_loss: 0.6976 - val_accuracy: 0.5249 - lr: 8.1873e-04 - 11s/epoch - 17ms/step\n",
      "Epoch 13/20\n",
      "625/625 - 10s - loss: 1.3598 - accuracy: 0.5168 - val_loss: 0.6979 - val_accuracy: 0.5249 - lr: 7.4082e-04 - 10s/epoch - 17ms/step\n",
      "Epoch 14/20\n",
      "625/625 - 11s - loss: 1.3611 - accuracy: 0.5186 - val_loss: 0.6945 - val_accuracy: 0.5249 - lr: 6.7032e-04 - 11s/epoch - 18ms/step\n",
      "Epoch 15/20\n",
      "625/625 - 11s - loss: 1.3586 - accuracy: 0.5197 - val_loss: 0.6954 - val_accuracy: 0.5249 - lr: 6.0653e-04 - 11s/epoch - 18ms/step\n",
      "Epoch 16/20\n",
      "625/625 - 11s - loss: 1.3599 - accuracy: 0.5198 - val_loss: 0.6940 - val_accuracy: 0.5249 - lr: 5.4881e-04 - 11s/epoch - 17ms/step\n",
      "Epoch 17/20\n",
      "625/625 - 10s - loss: 1.3579 - accuracy: 0.5220 - val_loss: 0.7019 - val_accuracy: 0.5249 - lr: 4.9659e-04 - 10s/epoch - 17ms/step\n",
      "Epoch 18/20\n",
      "625/625 - 11s - loss: 1.3586 - accuracy: 0.5217 - val_loss: 0.6948 - val_accuracy: 0.5249 - lr: 4.4933e-04 - 11s/epoch - 17ms/step\n",
      "Epoch 19/20\n",
      "625/625 - 10s - loss: 1.3585 - accuracy: 0.5208 - val_loss: 0.6950 - val_accuracy: 0.5249 - lr: 4.0657e-04 - 10s/epoch - 17ms/step\n",
      "Epoch 20/20\n",
      "625/625 - 10s - loss: 1.3591 - accuracy: 0.5185 - val_loss: 0.6975 - val_accuracy: 0.5249 - lr: 3.6788e-04 - 10s/epoch - 17ms/step\n"
     ]
    }
   ],
   "source": [
    "from tensorflow.keras.layers import Dense, Embedding, Dropout\n",
    "from tensorflow.keras.callbacks import History\n",
    "\n",
    "\n",
    "max_epochs = 20 #number epochs to use\n",
    "\n",
    "history_3 = History()\n",
    "model_3 = Sequential()\n",
    "model_3.add(Embedding(max_words, embedding_dim, input_length = max_length))\n",
    "model_3.add(Dense(128, activation='relu'))\n",
    "model_3.add(Dense(1))\n",
    "model_3.add(Dropout(.1))\n",
    "model_3.compile(loss='binary_crossentropy',optimizer='adam',metrics=['accuracy'])\n",
    "\n",
    "model_3.summary()\n",
    "save_model3 = model_3.save(\"/models/model_3\") # saving model\n",
    "l_rate = LearningRateScheduler(scheduler)\n",
    "\n",
    "history_3 = model_3.fit(x_train, y_train, \n",
    "                    epochs=max_epochs,batch_size=32, \n",
    "                    validation_data=(x_test, y_test),\n",
    "                    callbacks=[l_rate],\n",
    "                    verbose=2)\n"
   ]
  },
  {
   "cell_type": "code",
   "execution_count": 112,
   "id": "53c4a8fc",
   "metadata": {},
   "outputs": [
    {
     "name": "stdout",
     "output_type": "stream",
     "text": [
      "Train accuracy for Seq_Embd: 52.31\n",
      "Test accuracy for  Seq_Embd: 52.49\n"
     ]
    }
   ],
   "source": [
    "# model evaluation\n",
    "train_gru_results =model_3.evaluate(x_train, y_train, verbose=0, batch_size=32)\n",
    "test_gru_results = model_3.evaluate(x_test, y_test, verbose=0, batch_size=32)\n",
    "print(f'Train accuracy for Seq_Embd: {train_gru_results[1]*100:0.2f}')\n",
    "print(f'Test accuracy for  Seq_Embd: {test_gru_results[1]*100:0.2f}')"
   ]
  },
  {
   "cell_type": "code",
   "execution_count": 117,
   "id": "d214b408",
   "metadata": {},
   "outputs": [
    {
     "name": "stdout",
     "output_type": "stream",
     "text": [
      "[[[0.40534323]\n",
      "  [0.43847445]\n",
      "  [0.4270319 ]\n",
      "  [0.40886226]\n",
      "  [0.40892246]\n",
      "  [0.4243759 ]\n",
      "  [0.4224148 ]\n",
      "  [0.4224148 ]\n",
      "  [0.4224148 ]\n",
      "  [0.4224148 ]\n",
      "  [0.4224148 ]\n",
      "  [0.4224148 ]\n",
      "  [0.4224148 ]\n",
      "  [0.4224148 ]\n",
      "  [0.4224148 ]\n",
      "  [0.4224148 ]\n",
      "  [0.4224148 ]\n",
      "  [0.4224148 ]\n",
      "  [0.4224148 ]\n",
      "  [0.4224148 ]\n",
      "  [0.4224148 ]\n",
      "  [0.4224148 ]\n",
      "  [0.4224148 ]\n",
      "  [0.4224148 ]\n",
      "  [0.4224148 ]\n",
      "  [0.4224148 ]\n",
      "  [0.4224148 ]\n",
      "  [0.4224148 ]\n",
      "  [0.4224148 ]\n",
      "  [0.4224148 ]\n",
      "  [0.4224148 ]\n",
      "  [0.4224148 ]\n",
      "  [0.4224148 ]\n",
      "  [0.4224148 ]\n",
      "  [0.4224148 ]\n",
      "  [0.4224148 ]\n",
      "  [0.4224148 ]\n",
      "  [0.4224148 ]\n",
      "  [0.4224148 ]\n",
      "  [0.4224148 ]\n",
      "  [0.4224148 ]\n",
      "  [0.4224148 ]\n",
      "  [0.4224148 ]\n",
      "  [0.4224148 ]\n",
      "  [0.4224148 ]\n",
      "  [0.4224148 ]\n",
      "  [0.4224148 ]\n",
      "  [0.4224148 ]\n",
      "  [0.4224148 ]\n",
      "  [0.4224148 ]\n",
      "  [0.4224148 ]\n",
      "  [0.4224148 ]\n",
      "  [0.4224148 ]\n",
      "  [0.4224148 ]\n",
      "  [0.4224148 ]\n",
      "  [0.4224148 ]\n",
      "  [0.4224148 ]\n",
      "  [0.4224148 ]\n",
      "  [0.4224148 ]\n",
      "  [0.4224148 ]\n",
      "  [0.4224148 ]\n",
      "  [0.4224148 ]\n",
      "  [0.4224148 ]\n",
      "  [0.4224148 ]\n",
      "  [0.4224148 ]\n",
      "  [0.4224148 ]\n",
      "  [0.4224148 ]\n",
      "  [0.4224148 ]\n",
      "  [0.4224148 ]\n",
      "  [0.4224148 ]\n",
      "  [0.4224148 ]\n",
      "  [0.4224148 ]\n",
      "  [0.4224148 ]\n",
      "  [0.4224148 ]\n",
      "  [0.4224148 ]\n",
      "  [0.4224148 ]\n",
      "  [0.4224148 ]\n",
      "  [0.4224148 ]\n",
      "  [0.4224148 ]\n",
      "  [0.4224148 ]\n",
      "  [0.4224148 ]\n",
      "  [0.4224148 ]\n",
      "  [0.4224148 ]\n",
      "  [0.4224148 ]\n",
      "  [0.4224148 ]\n",
      "  [0.4224148 ]\n",
      "  [0.4224148 ]\n",
      "  [0.4224148 ]\n",
      "  [0.4224148 ]\n",
      "  [0.4224148 ]\n",
      "  [0.4224148 ]\n",
      "  [0.4224148 ]\n",
      "  [0.4224148 ]\n",
      "  [0.4224148 ]\n",
      "  [0.4224148 ]\n",
      "  [0.4224148 ]\n",
      "  [0.4224148 ]\n",
      "  [0.4224148 ]\n",
      "  [0.4224148 ]\n",
      "  [0.4224148 ]\n",
      "  [0.4224148 ]\n",
      "  [0.4224148 ]\n",
      "  [0.4224148 ]\n",
      "  [0.4224148 ]\n",
      "  [0.4224148 ]\n",
      "  [0.4224148 ]\n",
      "  [0.4224148 ]\n",
      "  [0.4224148 ]\n",
      "  [0.4224148 ]\n",
      "  [0.4224148 ]\n",
      "  [0.4224148 ]\n",
      "  [0.4224148 ]\n",
      "  [0.4224148 ]\n",
      "  [0.4224148 ]\n",
      "  [0.4224148 ]\n",
      "  [0.4224148 ]\n",
      "  [0.4224148 ]\n",
      "  [0.4224148 ]\n",
      "  [0.4224148 ]\n",
      "  [0.4224148 ]\n",
      "  [0.4224148 ]\n",
      "  [0.4224148 ]\n",
      "  [0.4224148 ]\n",
      "  [0.4224148 ]\n",
      "  [0.4224148 ]\n",
      "  [0.4224148 ]\n",
      "  [0.4224148 ]\n",
      "  [0.4224148 ]\n",
      "  [0.4224148 ]\n",
      "  [0.4224148 ]\n",
      "  [0.4224148 ]\n",
      "  [0.4224148 ]\n",
      "  [0.4224148 ]\n",
      "  [0.4224148 ]\n",
      "  [0.4224148 ]\n",
      "  [0.4224148 ]\n",
      "  [0.4224148 ]\n",
      "  [0.4224148 ]\n",
      "  [0.4224148 ]\n",
      "  [0.4224148 ]\n",
      "  [0.4224148 ]\n",
      "  [0.4224148 ]\n",
      "  [0.4224148 ]\n",
      "  [0.4224148 ]\n",
      "  [0.4224148 ]\n",
      "  [0.4224148 ]\n",
      "  [0.4224148 ]\n",
      "  [0.4224148 ]\n",
      "  [0.4224148 ]\n",
      "  [0.4224148 ]\n",
      "  [0.4224148 ]\n",
      "  [0.4224148 ]\n",
      "  [0.4224148 ]\n",
      "  [0.4224148 ]\n",
      "  [0.4224148 ]\n",
      "  [0.4224148 ]\n",
      "  [0.4224148 ]\n",
      "  [0.4224148 ]\n",
      "  [0.4224148 ]\n",
      "  [0.4224148 ]\n",
      "  [0.4224148 ]\n",
      "  [0.4224148 ]\n",
      "  [0.4224148 ]\n",
      "  [0.4224148 ]\n",
      "  [0.4224148 ]\n",
      "  [0.4224148 ]\n",
      "  [0.4224148 ]\n",
      "  [0.4224148 ]\n",
      "  [0.4224148 ]\n",
      "  [0.4224148 ]\n",
      "  [0.4224148 ]\n",
      "  [0.4224148 ]\n",
      "  [0.4224148 ]\n",
      "  [0.4224148 ]\n",
      "  [0.4224148 ]\n",
      "  [0.4224148 ]\n",
      "  [0.4224148 ]\n",
      "  [0.4224148 ]\n",
      "  [0.4224148 ]\n",
      "  [0.4224148 ]\n",
      "  [0.4224148 ]\n",
      "  [0.4224148 ]\n",
      "  [0.4224148 ]\n",
      "  [0.4224148 ]\n",
      "  [0.4224148 ]\n",
      "  [0.4224148 ]\n",
      "  [0.4224148 ]\n",
      "  [0.4224148 ]\n",
      "  [0.4224148 ]\n",
      "  [0.4224148 ]\n",
      "  [0.4224148 ]\n",
      "  [0.4224148 ]\n",
      "  [0.4224148 ]\n",
      "  [0.4224148 ]\n",
      "  [0.4224148 ]\n",
      "  [0.4224148 ]\n",
      "  [0.4224148 ]\n",
      "  [0.4224148 ]\n",
      "  [0.4224148 ]\n",
      "  [0.4224148 ]]\n",
      "\n",
      " [[0.40865245]\n",
      "  [0.42853335]\n",
      "  [0.42981526]\n",
      "  [0.4499983 ]\n",
      "  [0.41786233]\n",
      "  [0.43167415]\n",
      "  [0.44944063]\n",
      "  [0.43334082]\n",
      "  [0.4224148 ]\n",
      "  [0.4224148 ]\n",
      "  [0.4224148 ]\n",
      "  [0.4224148 ]\n",
      "  [0.4224148 ]\n",
      "  [0.4224148 ]\n",
      "  [0.4224148 ]\n",
      "  [0.4224148 ]\n",
      "  [0.4224148 ]\n",
      "  [0.4224148 ]\n",
      "  [0.4224148 ]\n",
      "  [0.4224148 ]\n",
      "  [0.4224148 ]\n",
      "  [0.4224148 ]\n",
      "  [0.4224148 ]\n",
      "  [0.4224148 ]\n",
      "  [0.4224148 ]\n",
      "  [0.4224148 ]\n",
      "  [0.4224148 ]\n",
      "  [0.4224148 ]\n",
      "  [0.4224148 ]\n",
      "  [0.4224148 ]\n",
      "  [0.4224148 ]\n",
      "  [0.4224148 ]\n",
      "  [0.4224148 ]\n",
      "  [0.4224148 ]\n",
      "  [0.4224148 ]\n",
      "  [0.4224148 ]\n",
      "  [0.4224148 ]\n",
      "  [0.4224148 ]\n",
      "  [0.4224148 ]\n",
      "  [0.4224148 ]\n",
      "  [0.4224148 ]\n",
      "  [0.4224148 ]\n",
      "  [0.4224148 ]\n",
      "  [0.4224148 ]\n",
      "  [0.4224148 ]\n",
      "  [0.4224148 ]\n",
      "  [0.4224148 ]\n",
      "  [0.4224148 ]\n",
      "  [0.4224148 ]\n",
      "  [0.4224148 ]\n",
      "  [0.4224148 ]\n",
      "  [0.4224148 ]\n",
      "  [0.4224148 ]\n",
      "  [0.4224148 ]\n",
      "  [0.4224148 ]\n",
      "  [0.4224148 ]\n",
      "  [0.4224148 ]\n",
      "  [0.4224148 ]\n",
      "  [0.4224148 ]\n",
      "  [0.4224148 ]\n",
      "  [0.4224148 ]\n",
      "  [0.4224148 ]\n",
      "  [0.4224148 ]\n",
      "  [0.4224148 ]\n",
      "  [0.4224148 ]\n",
      "  [0.4224148 ]\n",
      "  [0.4224148 ]\n",
      "  [0.4224148 ]\n",
      "  [0.4224148 ]\n",
      "  [0.4224148 ]\n",
      "  [0.4224148 ]\n",
      "  [0.4224148 ]\n",
      "  [0.4224148 ]\n",
      "  [0.4224148 ]\n",
      "  [0.4224148 ]\n",
      "  [0.4224148 ]\n",
      "  [0.4224148 ]\n",
      "  [0.4224148 ]\n",
      "  [0.4224148 ]\n",
      "  [0.4224148 ]\n",
      "  [0.4224148 ]\n",
      "  [0.4224148 ]\n",
      "  [0.4224148 ]\n",
      "  [0.4224148 ]\n",
      "  [0.4224148 ]\n",
      "  [0.4224148 ]\n",
      "  [0.4224148 ]\n",
      "  [0.4224148 ]\n",
      "  [0.4224148 ]\n",
      "  [0.4224148 ]\n",
      "  [0.4224148 ]\n",
      "  [0.4224148 ]\n",
      "  [0.4224148 ]\n",
      "  [0.4224148 ]\n",
      "  [0.4224148 ]\n",
      "  [0.4224148 ]\n",
      "  [0.4224148 ]\n",
      "  [0.4224148 ]\n",
      "  [0.4224148 ]\n",
      "  [0.4224148 ]\n",
      "  [0.4224148 ]\n",
      "  [0.4224148 ]\n",
      "  [0.4224148 ]\n",
      "  [0.4224148 ]\n",
      "  [0.4224148 ]\n",
      "  [0.4224148 ]\n",
      "  [0.4224148 ]\n",
      "  [0.4224148 ]\n",
      "  [0.4224148 ]\n",
      "  [0.4224148 ]\n",
      "  [0.4224148 ]\n",
      "  [0.4224148 ]\n",
      "  [0.4224148 ]\n",
      "  [0.4224148 ]\n",
      "  [0.4224148 ]\n",
      "  [0.4224148 ]\n",
      "  [0.4224148 ]\n",
      "  [0.4224148 ]\n",
      "  [0.4224148 ]\n",
      "  [0.4224148 ]\n",
      "  [0.4224148 ]\n",
      "  [0.4224148 ]\n",
      "  [0.4224148 ]\n",
      "  [0.4224148 ]\n",
      "  [0.4224148 ]\n",
      "  [0.4224148 ]\n",
      "  [0.4224148 ]\n",
      "  [0.4224148 ]\n",
      "  [0.4224148 ]\n",
      "  [0.4224148 ]\n",
      "  [0.4224148 ]\n",
      "  [0.4224148 ]\n",
      "  [0.4224148 ]\n",
      "  [0.4224148 ]\n",
      "  [0.4224148 ]\n",
      "  [0.4224148 ]\n",
      "  [0.4224148 ]\n",
      "  [0.4224148 ]\n",
      "  [0.4224148 ]\n",
      "  [0.4224148 ]\n",
      "  [0.4224148 ]\n",
      "  [0.4224148 ]\n",
      "  [0.4224148 ]\n",
      "  [0.4224148 ]\n",
      "  [0.4224148 ]\n",
      "  [0.4224148 ]\n",
      "  [0.4224148 ]\n",
      "  [0.4224148 ]\n",
      "  [0.4224148 ]\n",
      "  [0.4224148 ]\n",
      "  [0.4224148 ]\n",
      "  [0.4224148 ]\n",
      "  [0.4224148 ]\n",
      "  [0.4224148 ]\n",
      "  [0.4224148 ]\n",
      "  [0.4224148 ]\n",
      "  [0.4224148 ]\n",
      "  [0.4224148 ]\n",
      "  [0.4224148 ]\n",
      "  [0.4224148 ]\n",
      "  [0.4224148 ]\n",
      "  [0.4224148 ]\n",
      "  [0.4224148 ]\n",
      "  [0.4224148 ]\n",
      "  [0.4224148 ]\n",
      "  [0.4224148 ]\n",
      "  [0.4224148 ]\n",
      "  [0.4224148 ]\n",
      "  [0.4224148 ]\n",
      "  [0.4224148 ]\n",
      "  [0.4224148 ]\n",
      "  [0.4224148 ]\n",
      "  [0.4224148 ]\n",
      "  [0.4224148 ]\n",
      "  [0.4224148 ]\n",
      "  [0.4224148 ]\n",
      "  [0.4224148 ]\n",
      "  [0.4224148 ]\n",
      "  [0.4224148 ]\n",
      "  [0.4224148 ]\n",
      "  [0.4224148 ]\n",
      "  [0.4224148 ]\n",
      "  [0.4224148 ]\n",
      "  [0.4224148 ]\n",
      "  [0.4224148 ]\n",
      "  [0.4224148 ]\n",
      "  [0.4224148 ]\n",
      "  [0.4224148 ]\n",
      "  [0.4224148 ]\n",
      "  [0.4224148 ]\n",
      "  [0.4224148 ]\n",
      "  [0.4224148 ]\n",
      "  [0.4224148 ]\n",
      "  [0.4224148 ]\n",
      "  [0.4224148 ]\n",
      "  [0.4224148 ]\n",
      "  [0.4224148 ]\n",
      "  [0.4224148 ]\n",
      "  [0.4224148 ]\n",
      "  [0.4224148 ]]]\n"
     ]
    }
   ],
   "source": [
    "#check the model\n",
    "sentences = ['lesbian consider father indiana amazing one', \"terrifying server whole heartedly care guest dining experience\"]\n",
    "sequencess = token.texts_to_sequences(sentences)\n",
    "\n",
    "padded = pad_sequences(sequencess, maxlen=max_length, padding=padding_type, truncating=trunc_type)\n",
    "\n",
    "# make a prediction\n",
    "pred_3 = model_3.predict(padded)\n",
    "print(pred_3)"
   ]
  },
  {
   "cell_type": "code",
   "execution_count": 67,
   "id": "c5003038",
   "metadata": {},
   "outputs": [
    {
     "data": {
      "image/png": "[encoded data removed]",
      "text/plain": [
       "<Figure size 432x288 with 1 Axes>"
      ]
     },
     "metadata": {
      "needs_background": "light"
     },
     "output_type": "display_data"
    }
   ],
   "source": [
    "plt.plot(history_3.history['accuracy'], label = \"acc_mod_3\")\n",
    "plt.plot(history_3.history['val_accuracy'], label = \"val_acc_mod_3\")\n",
    "plt.xlabel(\"Epochs\")\n",
    "plt.ylabel(\"Accuracy\")\n",
    "plt.legend()\n",
    "plt.show()"
   ]
  },
  {
   "cell_type": "code",
   "execution_count": 68,
   "id": "80e89cd3",
   "metadata": {
    "scrolled": true
   },
   "outputs": [
    {
     "data": {
      "image/png": "[encoded data removed]",
      "text/plain": [
       "<Figure size 432x288 with 1 Axes>"
      ]
     },
     "metadata": {
      "needs_background": "light"
     },
     "output_type": "display_data"
    }
   ],
   "source": [
    "\n",
    "plt.plot(history_1.history['accuracy'], label = \"acc_mod_1\")\n",
    "plt.plot(history_1.history['val_accuracy'], label = \"val_acc_mod_1\")\n",
    "\n",
    "plt.plot(Adam_history.history['accuracy'], label = \"acc_mod_2\")\n",
    "plt.plot(Adam_history.history['val_accuracy'], label = \"val_acc_mod2\")\n",
    "\n",
    "plt.plot(history_3.history['accuracy'], label = \"acc_mod_3\")\n",
    "plt.plot(history_3.history['val_accuracy'], label = \"val_acc_mod_3\")\n",
    "\n",
    "\n",
    "plt.xlabel(\"Epochs\")\n",
    "plt.ylabel(\"Accuracy\")\n",
    "plt.legend()\n",
    "plt.show()"
   ]
  },
  {
   "cell_type": "code",
   "execution_count": 69,
   "id": "73cd5255",
   "metadata": {},
   "outputs": [
    {
     "name": "stdout",
     "output_type": "stream",
     "text": [
      "Model: \"sequential_5\"\n",
      "_________________________________________________________________\n",
      " Layer (type)                Output Shape              Param #   \n",
      "=================================================================\n",
      " embedding_2 (Embedding)     (None, 200, 50)           500000    \n",
      "                                                                 \n",
      " global_average_pooling1d_1   (None, 50)               0         \n",
      " (GlobalAveragePooling1D)                                        \n",
      "                                                                 \n",
      " dense_12 (Dense)            (None, 150)               7650      \n",
      "                                                                 \n",
      " dense_13 (Dense)            (None, 100)               15100     \n",
      "                                                                 \n",
      " dense_14 (Dense)            (None, 50)                5050      \n",
      "                                                                 \n",
      " dropout_1 (Dropout)         (None, 50)                0         \n",
      "                                                                 \n",
      " dense_15 (Dense)            (None, 1)                 51        \n",
      "                                                                 \n",
      "=================================================================\n",
      "Total params: 527,851\n",
      "Trainable params: 527,851\n",
      "Non-trainable params: 0\n",
      "_________________________________________________________________\n",
      "INFO:tensorflow:Assets written to: /models/model_4\\assets\n",
      "Epoch 1/10\n",
      "625/625 - 7s - loss: 0.7026 - accuracy: 0.5088 - val_loss: 0.6891 - val_accuracy: 0.5249 - 7s/epoch - 12ms/step\n",
      "Epoch 2/10\n",
      "625/625 - 6s - loss: 0.5887 - accuracy: 0.6674 - val_loss: 0.4696 - val_accuracy: 0.7801 - 6s/epoch - 10ms/step\n",
      "Epoch 3/10\n",
      "625/625 - 6s - loss: 0.4033 - accuracy: 0.8191 - val_loss: 0.4416 - val_accuracy: 0.7970 - 6s/epoch - 9ms/step\n",
      "Epoch 4/10\n",
      "625/625 - 6s - loss: 0.3391 - accuracy: 0.8558 - val_loss: 0.4469 - val_accuracy: 0.7968 - 6s/epoch - 10ms/step\n",
      "Epoch 5/10\n",
      "625/625 - 6s - loss: 0.3050 - accuracy: 0.8723 - val_loss: 0.4593 - val_accuracy: 0.7985 - 6s/epoch - 10ms/step\n",
      "Epoch 6/10\n",
      "625/625 - 6s - loss: 0.2775 - accuracy: 0.8870 - val_loss: 0.4926 - val_accuracy: 0.7859 - 6s/epoch - 9ms/step\n",
      "Epoch 7/10\n",
      "625/625 - 6s - loss: 0.2519 - accuracy: 0.9018 - val_loss: 0.5037 - val_accuracy: 0.7894 - 6s/epoch - 10ms/step\n",
      "Epoch 8/10\n",
      "625/625 - 6s - loss: 0.2308 - accuracy: 0.9102 - val_loss: 0.5260 - val_accuracy: 0.7934 - 6s/epoch - 10ms/step\n",
      "Epoch 9/10\n",
      "625/625 - 6s - loss: 0.2199 - accuracy: 0.9143 - val_loss: 0.5613 - val_accuracy: 0.7809 - 6s/epoch - 10ms/step\n",
      "Epoch 10/10\n",
      "625/625 - 6s - loss: 0.2025 - accuracy: 0.9252 - val_loss: 0.6172 - val_accuracy: 0.7745 - 6s/epoch - 10ms/step\n"
     ]
    }
   ],
   "source": [
    "from keras.models import Sequential\n",
    "from keras.layers import Dense, GlobalAveragePooling1D\n",
    "from keras.callbacks import LearningRateScheduler, ModelCheckpoint\n",
    "\n",
    "max_epochs = 10 #number epochs to use\n",
    "\n",
    "model_4 = Sequential()\n",
    "model_4.add(Embedding(max_words, embedding_dim, input_length = max_length))\n",
    "model_4.add(GlobalAveragePooling1D())\n",
    "model_4.add(Dense(150, activation='relu'))\n",
    "model_4.add(Dense(100, activation='relu'))\n",
    "model_4.add(Dense(50, activation='sigmoid'))\n",
    "model_4.add(Dropout(.2))\n",
    "model_4.add(Dense(1, activation='sigmoid'))\n",
    "\n",
    "model_4.compile(loss='binary_crossentropy',optimizer='adam',metrics=['accuracy'])\n",
    "model_4.summary()\n",
    "\n",
    "save_model4 = model_4.save(\"/models/model_4\") # saving model\n",
    "\n",
    "history_4 = model_4.fit(x_train, y_train, \n",
    "                    epochs=max_epochs,\n",
    "                    batch_size=32, \n",
    "                    validation_data=(x_test, y_test),\n",
    "                    verbose=2)"
   ]
  },
  {
   "cell_type": "code",
   "execution_count": 111,
   "id": "098b9636",
   "metadata": {},
   "outputs": [
    {
     "name": "stdout",
     "output_type": "stream",
     "text": [
      "Train accuracy for GlobalAv: 92.02\n",
      "Test accuracy for  GlobalAv: 77.45\n"
     ]
    }
   ],
   "source": [
    "# model evaluation\n",
    "train_gru_results =model_4.evaluate(x_train, y_train, verbose=0, batch_size=32)\n",
    "test_gru_results = model_4.evaluate(x_test, y_test, verbose=0, batch_size=32)\n",
    "print(f'Train accuracy for GlobalAv: {train_gru_results[1]*100:0.2f}')\n",
    "print(f'Test accuracy for  GlobalAv: {test_gru_results[1]*100:0.2f}')"
   ]
  },
  {
   "cell_type": "code",
   "execution_count": 118,
   "id": "1310343d",
   "metadata": {},
   "outputs": [
    {
     "name": "stdout",
     "output_type": "stream",
     "text": [
      "[[0.01881319]\n",
      " [0.9934243 ]]\n"
     ]
    }
   ],
   "source": [
    "#check the model\n",
    "sentences = ['lesbian consider father indiana amazing one', \"terrifying server whole heartedly care guest dining experience\"]\n",
    "sequencess = token.texts_to_sequences(sentences)\n",
    "\n",
    "padded = pad_sequences(sequencess, maxlen=max_length, padding=padding_type, truncating=trunc_type)\n",
    "\n",
    "# make a prediction\n",
    "pred_4 = model_4.predict(padded)\n",
    "print(pred_4)"
   ]
  },
  {
   "cell_type": "code",
   "execution_count": 71,
   "id": "ac3fd7da",
   "metadata": {},
   "outputs": [
    {
     "data": {
      "text/plain": [
       "[<matplotlib.lines.Line2D at 0x1b435b38f70>]"
      ]
     },
     "execution_count": 71,
     "metadata": {},
     "output_type": "execute_result"
    },
    {
     "data": {
      "image/png": "[encoded data removed]",
      "text/plain": [
       "<Figure size 432x288 with 1 Axes>"
      ]
     },
     "metadata": {
      "needs_background": "light"
     },
     "output_type": "display_data"
    }
   ],
   "source": [
    "plt.plot(history_4.history['accuracy'], label = \"acc_mod_4\")\n",
    "plt.plot(history_4.history['val_accuracy'], label = \"val_acc_mod_4\")"
   ]
  },
  {
   "cell_type": "markdown",
   "id": "fbc4627e",
   "metadata": {},
   "source": [
    "Using the GlobalAveragePooling1D & Convolution1D layers"
   ]
  },
  {
   "cell_type": "code",
   "execution_count": 72,
   "id": "3c4b3a48",
   "metadata": {},
   "outputs": [
    {
     "name": "stdout",
     "output_type": "stream",
     "text": [
      "Model: \"sequential_6\"\n",
      "_________________________________________________________________\n",
      " Layer (type)                Output Shape              Param #   \n",
      "=================================================================\n",
      " embedding_3 (Embedding)     (None, 200, 50)           500000    \n",
      "                                                                 \n",
      " conv1d (Conv1D)             (None, 198, 100)          15100     \n",
      "                                                                 \n",
      " global_average_pooling1d_2   (None, 100)              0         \n",
      " (GlobalAveragePooling1D)                                        \n",
      "                                                                 \n",
      " dense_16 (Dense)            (None, 50)                5050      \n",
      "                                                                 \n",
      " dropout_2 (Dropout)         (None, 50)                0         \n",
      "                                                                 \n",
      " dense_17 (Dense)            (None, 1)                 51        \n",
      "                                                                 \n",
      "=================================================================\n",
      "Total params: 520,201\n",
      "Trainable params: 520,201\n",
      "Non-trainable params: 0\n",
      "_________________________________________________________________\n",
      "INFO:tensorflow:Assets written to: /models/model_5\\assets\n",
      "Epoch 1/10\n",
      "625/625 - 12s - loss: 0.5781 - accuracy: 0.6829 - val_loss: 0.4712 - val_accuracy: 0.7774 - 12s/epoch - 20ms/step\n",
      "Epoch 2/10\n",
      "625/625 - 12s - loss: 0.3850 - accuracy: 0.8290 - val_loss: 0.4470 - val_accuracy: 0.7900 - 12s/epoch - 18ms/step\n",
      "Epoch 3/10\n",
      "625/625 - 12s - loss: 0.3010 - accuracy: 0.8745 - val_loss: 0.4687 - val_accuracy: 0.7905 - 12s/epoch - 18ms/step\n",
      "Epoch 4/10\n",
      "625/625 - 11s - loss: 0.2456 - accuracy: 0.9035 - val_loss: 0.5032 - val_accuracy: 0.7894 - 11s/epoch - 18ms/step\n",
      "Epoch 5/10\n",
      "625/625 - 11s - loss: 0.2000 - accuracy: 0.9243 - val_loss: 0.5446 - val_accuracy: 0.7858 - 11s/epoch - 18ms/step\n",
      "Epoch 6/10\n",
      "625/625 - 11s - loss: 0.1602 - accuracy: 0.9426 - val_loss: 0.6347 - val_accuracy: 0.7815 - 11s/epoch - 18ms/step\n",
      "Epoch 7/10\n",
      "625/625 - 11s - loss: 0.1278 - accuracy: 0.9575 - val_loss: 0.6904 - val_accuracy: 0.7780 - 11s/epoch - 18ms/step\n",
      "Epoch 8/10\n",
      "625/625 - 12s - loss: 0.0965 - accuracy: 0.9694 - val_loss: 0.7668 - val_accuracy: 0.7763 - 12s/epoch - 20ms/step\n",
      "Epoch 9/10\n",
      "625/625 - 12s - loss: 0.0745 - accuracy: 0.9765 - val_loss: 0.8932 - val_accuracy: 0.7728 - 12s/epoch - 20ms/step\n",
      "Epoch 10/10\n",
      "625/625 - 12s - loss: 0.0531 - accuracy: 0.9836 - val_loss: 1.0270 - val_accuracy: 0.7692 - 12s/epoch - 19ms/step\n"
     ]
    }
   ],
   "source": [
    "from keras.models import Sequential\n",
    "from keras.layers import Dense, GlobalAveragePooling1D, Convolution1D\n",
    "from keras.callbacks import LearningRateScheduler, ModelCheckpoint\n",
    "\n",
    "# define the function for lerning rate schedule \n",
    "\n",
    "max_epochs = 10 # number epochs to use\n",
    "\n",
    "model_5 = Sequential()  # define the model\n",
    "model_5.add(Embedding(max_words, embedding_dim, input_length = max_length))\n",
    "model_5.add(Convolution1D(100,3, activation='relu'))  # add the convolutional Layer\n",
    "model_5.add(GlobalAveragePooling1D())                 # add the average polling\n",
    "model_5.add(Dense(50, activation='relu'))             # add the dense layers\n",
    "model_5.add(Dropout(.1))\n",
    "model_5.add(Dense(1, activation='sigmoid'))\n",
    "\n",
    "model_5.compile(loss='binary_crossentropy',optimizer='adam',metrics=['accuracy']) # compile the model\n",
    "\n",
    "model_5.summary() # model summarize\n",
    "\n",
    "save_model5 = model_5.save(\"/models/model_5\") # saving model\n",
    "\n",
    "# fit the model\n",
    "history_5 = model_5.fit(x_train, y_train, \n",
    "                    epochs=max_epochs,\n",
    "                    batch_size=32,\n",
    "                    validation_data=(x_test, y_test),\n",
    "                    verbose=2)"
   ]
  },
  {
   "cell_type": "code",
   "execution_count": 110,
   "id": "79dff06f",
   "metadata": {},
   "outputs": [
    {
     "name": "stdout",
     "output_type": "stream",
     "text": [
      "Train accuracy for Conv: 99.20\n",
      "Test accuracy for  Conv: 76.92\n"
     ]
    }
   ],
   "source": [
    "# model evaluation\n",
    "train_gru_results =model_5.evaluate(x_train, y_train, verbose=0, batch_size=32)\n",
    "test_gru_results = model_5.evaluate(x_test, y_test, verbose=0, batch_size=32)\n",
    "print(f'Train accuracy for Conv: {train_gru_results[1]*100:0.2f}')\n",
    "print(f'Test accuracy for  Conv: {test_gru_results[1]*100:0.2f}')"
   ]
  },
  {
   "cell_type": "code",
   "execution_count": 120,
   "id": "086666b9",
   "metadata": {},
   "outputs": [
    {
     "name": "stdout",
     "output_type": "stream",
     "text": [
      "[[9.4392896e-04]\n",
      " [9.9999857e-01]]\n"
     ]
    }
   ],
   "source": [
    "#check the model\n",
    "sentences = ['lesbian consider father indiana amazing one', \"terrifying server whole heartedly care guest dining experience\"]\n",
    "sequencess = token.texts_to_sequences(sentences)\n",
    "\n",
    "padded = pad_sequences(sequencess, maxlen=max_length, padding=padding_type, truncating=trunc_type)\n",
    "\n",
    "# make a prediction\n",
    "pred_5 = model_5.predict(padded)\n",
    "print(pred_5)"
   ]
  },
  {
   "cell_type": "code",
   "execution_count": 74,
   "id": "4485743e",
   "metadata": {},
   "outputs": [
    {
     "data": {
      "image/png": "[encoded data removed]",
      "text/plain": [
       "<Figure size 432x288 with 1 Axes>"
      ]
     },
     "metadata": {
      "needs_background": "light"
     },
     "output_type": "display_data"
    }
   ],
   "source": [
    "plt.plot(history_5.history['accuracy'], label = \"acc_m_5\")\n",
    "plt.plot(history_5.history['val_accuracy'], label = \"val_acc_m_5\")\n",
    "#\n",
    "#plt.plot(Adam_history.history['binary_accuracy'], label = \"acc_m_2\")\n",
    "#plt.plot(Adam_history.history['val_binary_accuracy'], label = \"val_acc_m2\")\n",
    "#\n",
    "#plt.plot(history_4.history['accuracy'], label = \"acc_mod_4\")\n",
    "#plt.plot(history_4.history['accuracy'], label = \"val_acc_mod_4\")\n",
    "\n",
    "\n",
    "plt.xlabel(\"Epochs\")\n",
    "plt.ylabel(\"Accuracy\")\n",
    "plt.legend()\n",
    "plt.show()"
   ]
  },
  {
   "cell_type": "code",
   "execution_count": 75,
   "id": "3eb12850",
   "metadata": {},
   "outputs": [
    {
     "data": {
      "image/png": "[encoded data removed]",
      "text/plain": [
       "<Figure size 432x288 with 1 Axes>"
      ]
     },
     "metadata": {
      "needs_background": "light"
     },
     "output_type": "display_data"
    }
   ],
   "source": [
    "plt.plot(history_5.history['accuracy'], label = \"acc_mod_5\")\n",
    "plt.plot(history_5.history['val_accuracy'], label = \"val_acc_mod_5\")\n",
    "\n",
    "#plt.plot(Adam_history.history['binary_accuracy'], label = \"acc_mod_2\")\n",
    "#plt.plot(Adam_history.history['val_binary_accuracy'], label = \"val_acc_mod2\")\n",
    "#\n",
    "plt.plot(history_4.history['accuracy'], label = \"acc_mod_4\")\n",
    "plt.plot(history_4.history['val_accuracy'], label = \"val_acc_mod_4\")\n",
    "#\n",
    "\n",
    "plt.xlabel(\"Epochs\")\n",
    "plt.ylabel(\"Accuracy\")\n",
    "plt.legend()\n",
    "plt.show()"
   ]
  },
  {
   "cell_type": "markdown",
   "id": "5a8979bc",
   "metadata": {},
   "source": [
    "Using EarlyStopping"
   ]
  },
  {
   "cell_type": "code",
   "execution_count": 76,
   "id": "9824ae79",
   "metadata": {},
   "outputs": [
    {
     "name": "stdout",
     "output_type": "stream",
     "text": [
      "Model: \"sequential_7\"\n",
      "_________________________________________________________________\n",
      " Layer (type)                Output Shape              Param #   \n",
      "=================================================================\n",
      " embedding_4 (Embedding)     (None, 200, 50)           500000    \n",
      "                                                                 \n",
      " conv1d_1 (Conv1D)           (None, 198, 100)          15100     \n",
      "                                                                 \n",
      " global_average_pooling1d_3   (None, 100)              0         \n",
      " (GlobalAveragePooling1D)                                        \n",
      "                                                                 \n",
      " dense_18 (Dense)            (None, 50)                5050      \n",
      "                                                                 \n",
      " dropout_3 (Dropout)         (None, 50)                0         \n",
      "                                                                 \n",
      " dense_19 (Dense)            (None, 1)                 51        \n",
      "                                                                 \n",
      "=================================================================\n",
      "Total params: 520,201\n",
      "Trainable params: 520,201\n",
      "Non-trainable params: 0\n",
      "_________________________________________________________________\n",
      "INFO:tensorflow:Assets written to: /models/model_6\\assets\n",
      "Epoch 1/10\n",
      "625/625 - 13s - loss: 0.5840 - accuracy: 0.6735 - val_loss: 0.4718 - val_accuracy: 0.7780 - 13s/epoch - 21ms/step\n",
      "Epoch 2/10\n",
      "625/625 - 12s - loss: 0.3880 - accuracy: 0.8317 - val_loss: 0.4468 - val_accuracy: 0.7936 - 12s/epoch - 18ms/step\n",
      "Epoch 3/10\n",
      "625/625 - 11s - loss: 0.3038 - accuracy: 0.8762 - val_loss: 0.4709 - val_accuracy: 0.7938 - 11s/epoch - 18ms/step\n",
      "Epoch 4/10\n",
      "625/625 - 12s - loss: 0.2450 - accuracy: 0.9066 - val_loss: 0.5035 - val_accuracy: 0.7902 - 12s/epoch - 20ms/step\n",
      "Epoch 5/10\n",
      "625/625 - 12s - loss: 0.1990 - accuracy: 0.9274 - val_loss: 0.5760 - val_accuracy: 0.7879 - 12s/epoch - 19ms/step\n"
     ]
    }
   ],
   "source": [
    "from keras.models import Sequential\n",
    "from keras.layers import Dense, GlobalAveragePooling1D, Convolution1D, Dropout\n",
    "from keras.callbacks import LearningRateScheduler, ModelCheckpoint, EarlyStopping\n",
    "\n",
    "  \n",
    "max_epochs = 10 # number epochs to use\n",
    "\n",
    "model_6 = Sequential()  # define the model\n",
    "model_6.add(Embedding(max_words, embedding_dim, input_length = max_length))\n",
    "model_6.add(Convolution1D(100,3, activation='relu'))  # add the convolutional Layer\n",
    "model_6.add(GlobalAveragePooling1D())                 # add the average polling\n",
    "model_6.add(Dense(50, activation='relu'))             # add the dense layers\n",
    "model_6.add(Dropout(0.25))                            # add the drop out layer\n",
    "model_6.add(Dense(1, activation='sigmoid'))\n",
    "\n",
    "model_6.compile(loss='binary_crossentropy',optimizer='adam',metrics=['accuracy']) # compile the model\n",
    "\n",
    "model_6.summary() # model summarize\n",
    "\n",
    "save_model6 = model_6.save(\"/models/model_6\") # saving model\n",
    "\n",
    "early_stopping = EarlyStopping(monitor=\"val_loss\", \n",
    "                               patience=3, \n",
    "                               restore_best_weights=True)\n",
    "\n",
    "# fit the model\n",
    "history_6 = model_6.fit(x_train, y_train, \n",
    "                        epochs=max_epochs,\n",
    "                        batch_size=32, \n",
    "                        validation_data=(x_test, y_test),\n",
    "                        callbacks=[early_stopping],\n",
    "                        verbose=2)"
   ]
  },
  {
   "cell_type": "code",
   "execution_count": 109,
   "id": "8aa65163",
   "metadata": {},
   "outputs": [
    {
     "name": "stdout",
     "output_type": "stream",
     "text": [
      "Train accuracy for Conv_EarlSTOP: 89.90\n",
      "Test accuracy for  Conv_EarlSTOP: 79.36\n"
     ]
    }
   ],
   "source": [
    "# model evaluation\n",
    "train_gru_results =model_6.evaluate(x_train, y_train, verbose=0, batch_size=32)\n",
    "test_gru_results = model_6.evaluate(x_test, y_test, verbose=0, batch_size=32)\n",
    "print(f'Train accuracy for Conv_EarlSTOP: {train_gru_results[1]*100:0.2f}')\n",
    "print(f'Test accuracy for  Conv_EarlSTOP: {test_gru_results[1]*100:0.2f}')"
   ]
  },
  {
   "cell_type": "code",
   "execution_count": 122,
   "id": "f220013b",
   "metadata": {},
   "outputs": [
    {
     "name": "stdout",
     "output_type": "stream",
     "text": [
      "[[0.11320841]\n",
      " [0.97000694]]\n"
     ]
    }
   ],
   "source": [
    "#check the model\n",
    "sentences = ['lesbian consider father indiana amazing one', \"terrifying server whole heartedly care guest dining experience\"]\n",
    "sequencess = token.texts_to_sequences(sentences)\n",
    "\n",
    "padded = pad_sequences(sequencess, maxlen=max_length, padding=padding_type, truncating=trunc_type)\n",
    "\n",
    "# make a prediction\n",
    "pred_6 = model_6.predict(padded)\n",
    "print(pred_6)"
   ]
  },
  {
   "cell_type": "code",
   "execution_count": 78,
   "id": "e7769f8b",
   "metadata": {},
   "outputs": [
    {
     "data": {
      "image/png": "[encoded data removed]",
      "text/plain": [
       "<Figure size 432x288 with 1 Axes>"
      ]
     },
     "metadata": {
      "needs_background": "light"
     },
     "output_type": "display_data"
    }
   ],
   "source": [
    "plt.plot(history_6.history['accuracy'], label = \"acc_m_6\")\n",
    "plt.plot(history_6.history['val_accuracy'], label = \"val_acc_m_6\")\n",
    "#\n",
    "#plt.plot(Adam_history.history['binary_accuracy'], label = \"acc_m_2\")\n",
    "#plt.plot(Adam_history.history['val_binary_accuracy'], label = \"val_acc_m2\")\n",
    "#\n",
    "#plt.plot(history_5.history['accuracy'], label = \"acc_mod_5\")\n",
    "#plt.plot(history_5.history['accuracy'], label = \"val_acc_mod_5\")\n",
    "\n",
    "\n",
    "plt.xlabel(\"Epochs\")\n",
    "plt.ylabel(\"Accuracy\")\n",
    "plt.legend()\n",
    "plt.show()"
   ]
  },
  {
   "cell_type": "markdown",
   "id": "4fbca2f2",
   "metadata": {},
   "source": [
    "**SimpleRNN**"
   ]
  },
  {
   "cell_type": "code",
   "execution_count": 79,
   "id": "f6f58397",
   "metadata": {},
   "outputs": [
    {
     "name": "stdout",
     "output_type": "stream",
     "text": [
      "Model: \"sequential_8\"\n",
      "_________________________________________________________________\n",
      " Layer (type)                Output Shape              Param #   \n",
      "=================================================================\n",
      " embedding_5 (Embedding)     (None, 200, 50)           500000    \n",
      "                                                                 \n",
      " simple_rnn (SimpleRNN)      (None, 200, 64)           7360      \n",
      "                                                                 \n",
      " simple_rnn_1 (SimpleRNN)    (None, 32)                3104      \n",
      "                                                                 \n",
      " dense_20 (Dense)            (None, 32)                1056      \n",
      "                                                                 \n",
      " dropout_4 (Dropout)         (None, 32)                0         \n",
      "                                                                 \n",
      " dense_21 (Dense)            (None, 1)                 33        \n",
      "                                                                 \n",
      "=================================================================\n",
      "Total params: 511,553\n",
      "Trainable params: 511,553\n",
      "Non-trainable params: 0\n",
      "_________________________________________________________________\n",
      "INFO:tensorflow:Assets written to: /models/model_7\\assets\n",
      "Epoch 1/10\n",
      "625/625 - 58s - loss: 0.6944 - accuracy: 0.5153 - val_loss: 0.6920 - val_accuracy: 0.5249 - 58s/epoch - 93ms/step\n",
      "Epoch 2/10\n",
      "625/625 - 55s - loss: 0.6924 - accuracy: 0.5205 - val_loss: 0.6919 - val_accuracy: 0.5249 - 55s/epoch - 87ms/step\n",
      "Epoch 3/10\n",
      "625/625 - 54s - loss: 0.6939 - accuracy: 0.5221 - val_loss: 0.6885 - val_accuracy: 0.5524 - 54s/epoch - 87ms/step\n",
      "Epoch 4/10\n",
      "625/625 - 53s - loss: 0.6881 - accuracy: 0.5547 - val_loss: 0.6879 - val_accuracy: 0.5520 - 53s/epoch - 85ms/step\n",
      "Epoch 5/10\n",
      "625/625 - 56s - loss: 0.6870 - accuracy: 0.5577 - val_loss: 0.6877 - val_accuracy: 0.5523 - 56s/epoch - 90ms/step\n",
      "Epoch 6/10\n",
      "625/625 - 57s - loss: 0.6875 - accuracy: 0.5572 - val_loss: 0.6878 - val_accuracy: 0.5519 - 57s/epoch - 92ms/step\n",
      "Epoch 7/10\n",
      "625/625 - 55s - loss: 0.6873 - accuracy: 0.5572 - val_loss: 0.6879 - val_accuracy: 0.5522 - 55s/epoch - 89ms/step\n",
      "Epoch 8/10\n",
      "625/625 - 56s - loss: 0.6873 - accuracy: 0.5573 - val_loss: 0.6878 - val_accuracy: 0.5523 - 56s/epoch - 90ms/step\n"
     ]
    }
   ],
   "source": [
    "from keras.models import Sequential\n",
    "from keras.layers import Dense, GlobalAveragePooling1D, Convolution1D, Dropout, SimpleRNN\n",
    "from keras.callbacks import LearningRateScheduler, ModelCheckpoint, EarlyStopping\n",
    "\n",
    "\n",
    "max_epochs = 10 # number epochs to use\n",
    "\n",
    "model_7 = Sequential()  # define the model\n",
    "model_7.add(Embedding(max_words, embedding_dim, input_length = max_length))\n",
    "model_7.add(SimpleRNN(64, return_sequences=True)) # add the RNN Layer\n",
    "model_7.add(SimpleRNN(32))  \n",
    "model_7.add(Dense(32, activation='relu'))             # add the dense layers   \n",
    "model_7.add(Dropout(0.25)) \n",
    "model_7.add(Dense(1, activation='sigmoid'))\n",
    "\n",
    "# compile the mode\n",
    "model_7.compile(loss='binary_crossentropy',optimizer='adam',metrics=['accuracy'])\n",
    "\n",
    "model_7.summary() # model summarize\n",
    "\n",
    "save_model_7 = model_7.save(\"/models/model_7\") # saving model\n",
    "\n",
    "early_stopping = EarlyStopping(monitor=\"val_loss\", \n",
    "                               patience=3, \n",
    "                               restore_best_weights=True)\n",
    "# fit the model\n",
    "history_7 = model_7.fit(x_train, y_train, \n",
    "                        epochs=max_epochs,\n",
    "                        batch_size=32, \n",
    "                        validation_data=(x_test, y_test),\n",
    "                        callbacks=[early_stopping],\n",
    "                        verbose=2)"
   ]
  },
  {
   "cell_type": "code",
   "execution_count": 106,
   "id": "fd4f642b",
   "metadata": {
    "scrolled": true
   },
   "outputs": [
    {
     "name": "stdout",
     "output_type": "stream",
     "text": [
      "Train accuracy for SRNN: 55.79\n",
      "Test accuracy for  SRNN: 55.23\n"
     ]
    }
   ],
   "source": [
    "# model evaluation\n",
    "train_gru_results =model_7.evaluate(x_train, y_train, verbose=0, batch_size=32)\n",
    "test_gru_results = model_7.evaluate(x_test, y_test, verbose=0, batch_size=32)\n",
    "print(f'Train accuracy for SRNN: {train_gru_results[1]*100:0.2f}')\n",
    "print(f'Test accuracy for  SRNN: {test_gru_results[1]*100:0.2f}')"
   ]
  },
  {
   "cell_type": "code",
   "execution_count": 123,
   "id": "8b866211",
   "metadata": {},
   "outputs": [
    {
     "name": "stdout",
     "output_type": "stream",
     "text": [
      "[[0.44518036]\n",
      " [0.54741526]]\n"
     ]
    }
   ],
   "source": [
    "#check the model\n",
    "sentences = ['lesbian consider father indiana amazing one', \"terrifying server whole heartedly care guest dining experience\"]\n",
    "sequencess = token.texts_to_sequences(sentences)\n",
    "\n",
    "padded = pad_sequences(sequencess, maxlen=max_length, padding=padding_type, truncating=trunc_type)\n",
    "\n",
    "# make a prediction\n",
    "pred_7 = model_7.predict(padded)\n",
    "print(pred_7)"
   ]
  },
  {
   "cell_type": "code",
   "execution_count": 81,
   "id": "d67ef21f",
   "metadata": {},
   "outputs": [
    {
     "data": {
      "image/png": "[encoded data removed]",
      "text/plain": [
       "<Figure size 432x288 with 1 Axes>"
      ]
     },
     "metadata": {
      "needs_background": "light"
     },
     "output_type": "display_data"
    }
   ],
   "source": [
    "plt.plot(history_7.history['accuracy'], label = \"acc_m_8\")\n",
    "plt.plot(history_7.history['val_accuracy'], label = \"val_acc_m_8\")\n",
    "#\n",
    "#plt.plot(Adam_history.history['binary_accuracy'], label = \"acc_m_2\")\n",
    "#plt.plot(Adam_history.history['val_binary_accuracy'], label = \"val_acc_m2\")\n",
    "#\n",
    "#plt.plot(history_5.history['accuracy'], label = \"acc_mod_5\")\n",
    "#plt.plot(history_5.history['accuracy'], label = \"val_acc_mod_5\")\n",
    "\n",
    "\n",
    "plt.xlabel(\"Epochs\")\n",
    "plt.ylabel(\"Accuracy\")\n",
    "plt.legend()\n",
    "plt.show()"
   ]
  },
  {
   "cell_type": "markdown",
   "id": "58b1b572",
   "metadata": {},
   "source": [
    "**SimpleRNN & Bidirectional**"
   ]
  },
  {
   "cell_type": "code",
   "execution_count": 82,
   "id": "b8071ab3",
   "metadata": {},
   "outputs": [
    {
     "name": "stdout",
     "output_type": "stream",
     "text": [
      "Model: \"sequential_9\"\n",
      "_________________________________________________________________\n",
      " Layer (type)                Output Shape              Param #   \n",
      "=================================================================\n",
      " embedding_6 (Embedding)     (None, 200, 50)           500000    \n",
      "                                                                 \n",
      " bidirectional (Bidirectiona  (None, 200, 128)         14720     \n",
      " l)                                                              \n",
      "                                                                 \n",
      " simple_rnn_3 (SimpleRNN)    (None, 32)                5152      \n",
      "                                                                 \n",
      " dense_22 (Dense)            (None, 32)                1056      \n",
      "                                                                 \n",
      " dense_23 (Dense)            (None, 1)                 33        \n",
      "                                                                 \n",
      "=================================================================\n",
      "Total params: 520,961\n",
      "Trainable params: 520,961\n",
      "Non-trainable params: 0\n",
      "_________________________________________________________________\n",
      "INFO:tensorflow:Assets written to: /models/model_9\\assets\n",
      "Epoch 1/30\n",
      "625/625 - 88s - loss: 0.6955 - accuracy: 0.5097 - val_loss: 0.7034 - val_accuracy: 0.4662 - 88s/epoch - 141ms/step\n",
      "Epoch 2/30\n",
      "625/625 - 80s - loss: 0.6922 - accuracy: 0.5267 - val_loss: 0.6893 - val_accuracy: 0.5419 - 80s/epoch - 128ms/step\n",
      "Epoch 3/30\n",
      "625/625 - 78s - loss: 0.6908 - accuracy: 0.5328 - val_loss: 0.6936 - val_accuracy: 0.5421 - 78s/epoch - 124ms/step\n",
      "Epoch 4/30\n",
      "625/625 - 81s - loss: 0.6909 - accuracy: 0.5347 - val_loss: 0.6904 - val_accuracy: 0.5278 - 81s/epoch - 129ms/step\n",
      "Epoch 5/30\n",
      "625/625 - 82s - loss: 0.6910 - accuracy: 0.5354 - val_loss: 0.6932 - val_accuracy: 0.5366 - 82s/epoch - 131ms/step\n"
     ]
    }
   ],
   "source": [
    "from keras.models import Sequential\n",
    "from keras.layers import Dense, GlobalAveragePooling1D, Convolution1D, Dropout, SimpleRNN, Bidirectional\n",
    "from keras.callbacks import LearningRateScheduler, ModelCheckpoint, EarlyStopping\n",
    "\n",
    "max_epochs = 30 # number epochs to use\n",
    "\n",
    "model_8 = Sequential()  # define the model\n",
    "model_8.add(Embedding(max_words, embedding_dim, input_length = max_length))\n",
    "model_8.add(Bidirectional(SimpleRNN(64, return_sequences=True))) # add the RNN Layer\n",
    "model_8.add(SimpleRNN(32))  \n",
    "model_8.add(Dense(32, activation='relu'))             # add the dense layers                   \n",
    "model_8.add(Dense(1, activation='sigmoid'))\n",
    "\n",
    "# compile the mode\n",
    "model_8.compile(loss='binary_crossentropy',optimizer='adam',metrics=['accuracy'])\n",
    "model_8.summary() # model summarize\n",
    "\n",
    "save_model8 = model_8.save(\"/models/model_9\") # saving model\n",
    "\n",
    "early_stopping = EarlyStopping(monitor=\"val_loss\", \n",
    "                               patience=3, \n",
    "                               restore_best_weights=True)\n",
    "# fit the model\n",
    "history_8 = model_8.fit(x_train, y_train, \n",
    "                        epochs=max_epochs,\n",
    "                        batch_size=32, \n",
    "                        validation_data=(x_test, y_test),\n",
    "                        callbacks=[early_stopping],\n",
    "                        verbose=2)"
   ]
  },
  {
   "cell_type": "code",
   "execution_count": 107,
   "id": "5a84ffb4",
   "metadata": {},
   "outputs": [
    {
     "name": "stdout",
     "output_type": "stream",
     "text": [
      "Train accuracy for Bidirectional: 54.28\n",
      "Test accuracy for  Bidirectional: 54.19\n"
     ]
    }
   ],
   "source": [
    "# model evaluation\n",
    "train_gru_results =model_8.evaluate(x_train, y_train, verbose=0, batch_size=32)\n",
    "test_gru_results = model_8.evaluate(x_test, y_test, verbose=0, batch_size=32)\n",
    "print(f'Train accuracy for Bidirectional: {train_gru_results[1]*100:0.2f}')\n",
    "print(f'Test accuracy for  Bidirectional: {test_gru_results[1]*100:0.2f}')"
   ]
  },
  {
   "cell_type": "code",
   "execution_count": 124,
   "id": "f8c76d5c",
   "metadata": {},
   "outputs": [
    {
     "name": "stdout",
     "output_type": "stream",
     "text": [
      "[[0.4593295]\n",
      " [0.5541181]]\n"
     ]
    }
   ],
   "source": [
    "#check the model\n",
    "sentences = ['lesbian consider father indiana amazing one', \"terrifying server whole heartedly care guest dining experience\"]\n",
    "sequencess = token.texts_to_sequences(sentences)\n",
    "\n",
    "padded = pad_sequences(sequencess, maxlen=max_length, padding=padding_type, truncating=trunc_type)\n",
    "\n",
    "# make a prediction\n",
    "pred_8 = model_8.predict(padded)\n",
    "print(pred_8)"
   ]
  },
  {
   "cell_type": "code",
   "execution_count": 84,
   "id": "bb60d5ab",
   "metadata": {},
   "outputs": [
    {
     "data": {
      "image/png": "[encoded data removed]",
      "text/plain": [
       "<Figure size 432x288 with 1 Axes>"
      ]
     },
     "metadata": {
      "needs_background": "light"
     },
     "output_type": "display_data"
    }
   ],
   "source": [
    "plt.plot(history_8.history['accuracy'], label = \"acc_m_8\")\n",
    "plt.plot(history_8.history['val_accuracy'], label = \"val_acc_m_8\")\n",
    "#\n",
    "#plt.plot(Adam_history.history['binary_accuracy'], label = \"acc_m_2\")\n",
    "#plt.plot(Adam_history.history['val_binary_accuracy'], label = \"val_acc_m2\")\n",
    "#\n",
    "#plt.plot(history_5.history['accuracy'], label = \"acc_mod_5\")\n",
    "#plt.plot(history_5.history['accuracy'], label = \"val_acc_mod_5\")\n",
    "\n",
    "\n",
    "plt.xlabel(\"Epochs\")\n",
    "plt.ylabel(\"Accuracy\")\n",
    "plt.legend()\n",
    "plt.show()"
   ]
  },
  {
   "cell_type": "markdown",
   "id": "76d1ddf4",
   "metadata": {},
   "source": [
    "**LSTM**"
   ]
  },
  {
   "cell_type": "code",
   "execution_count": 85,
   "id": "284a1d74",
   "metadata": {},
   "outputs": [
    {
     "name": "stdout",
     "output_type": "stream",
     "text": [
      "Model: \"sequential_10\"\n",
      "_________________________________________________________________\n",
      " Layer (type)                Output Shape              Param #   \n",
      "=================================================================\n",
      " embedding_7 (Embedding)     (None, 200, 50)           500000    \n",
      "                                                                 \n",
      " lstm (LSTM)                 (None, 100)               60400     \n",
      "                                                                 \n",
      " dense_24 (Dense)            (None, 50)                5050      \n",
      "                                                                 \n",
      " dropout_5 (Dropout)         (None, 50)                0         \n",
      "                                                                 \n",
      " dense_25 (Dense)            (None, 1)                 51        \n",
      "                                                                 \n",
      "=================================================================\n",
      "Total params: 565,501\n",
      "Trainable params: 565,501\n",
      "Non-trainable params: 0\n",
      "_________________________________________________________________\n",
      "INFO:tensorflow:Assets written to: /models/model_9\\assets\n"
     ]
    },
    {
     "name": "stderr",
     "output_type": "stream",
     "text": [
      "WARNING:absl:<keras.layers.recurrent.LSTMCell object at 0x000001B42BD0B2E0> has the same name 'LSTMCell' as a built-in Keras object. Consider renaming <class 'keras.layers.recurrent.LSTMCell'> to avoid naming conflicts when loading with `tf.keras.models.load_model`. If renaming is not possible, pass the object in the `custom_objects` parameter of the load function.\n"
     ]
    },
    {
     "name": "stdout",
     "output_type": "stream",
     "text": [
      "Epoch 1/10\n",
      "625/625 - 95s - loss: 0.6937 - accuracy: 0.5212 - val_loss: 0.6922 - val_accuracy: 0.5249 - 95s/epoch - 152ms/step\n",
      "Epoch 2/10\n",
      "625/625 - 104s - loss: 0.6922 - accuracy: 0.5231 - val_loss: 0.6919 - val_accuracy: 0.5249 - 104s/epoch - 166ms/step\n",
      "Epoch 3/10\n",
      "625/625 - 99s - loss: 0.6921 - accuracy: 0.5231 - val_loss: 0.6919 - val_accuracy: 0.5249 - 99s/epoch - 159ms/step\n",
      "Epoch 4/10\n",
      "625/625 - 98s - loss: 0.6921 - accuracy: 0.5231 - val_loss: 0.6919 - val_accuracy: 0.5249 - 98s/epoch - 157ms/step\n",
      "Epoch 5/10\n",
      "625/625 - 96s - loss: 0.6921 - accuracy: 0.5231 - val_loss: 0.6919 - val_accuracy: 0.5249 - 96s/epoch - 153ms/step\n"
     ]
    }
   ],
   "source": [
    "from keras.models import Sequential\n",
    "from keras.layers import Dense, GlobalAveragePooling1D, Convolution1D, Dropout, LSTM\n",
    "from keras.callbacks import LearningRateScheduler, ModelCheckpoint\n",
    "\n",
    "max_epochs = 10 # number epochs to use\n",
    "\n",
    "model_9 = Sequential()  # define the model\n",
    "model_9.add(Embedding(max_words, embedding_dim, input_length = max_length))\n",
    "model_9.add(LSTM(100, activation='sigmoid'))    # add the Long Short-Term Memory Layer\n",
    "model_9.add(Dense(50, activation='relu'))             # add the dense layers\n",
    "model_9.add(Dropout(0.5))                            # add the drop out layer\n",
    "model_9.add(Dense(1, activation='sigmoid'))\n",
    "\n",
    "model_9.compile(loss='binary_crossentropy',optimizer='adam',metrics=['accuracy']) # compile the model\n",
    "\n",
    "model_9.summary() # model summarize\n",
    "\n",
    "save_model9 = model_9.save(\"/models/model_9\") # saving model\n",
    "#lrate = LearningRateScheduler(scheduler)\n",
    "early_stopping = EarlyStopping(monitor=\"val_loss\", \n",
    "                               patience=3, \n",
    "                               restore_best_weights=True)\n",
    "\n",
    "# fit the model\n",
    "history_9 = model_9.fit(x_train, y_train, \n",
    "                          epochs=max_epochs,\n",
    "                          batch_size=32,\n",
    "                          validation_data=(x_test, y_test),\n",
    "                          callbacks=[early_stopping],\n",
    "                          verbose=2)"
   ]
  },
  {
   "cell_type": "code",
   "execution_count": 104,
   "id": "ba2363a8",
   "metadata": {},
   "outputs": [
    {
     "name": "stdout",
     "output_type": "stream",
     "text": [
      "Train accuracy for LSTM: 52.31\n",
      "Test accuracy for  LSTM: 52.49\n"
     ]
    }
   ],
   "source": [
    "# model evaluation\n",
    "train_gru_results =model_9.evaluate(x_train, y_train, verbose=0, batch_size=32)\n",
    "test_gru_results = model_9.evaluate(x_test, y_test, verbose=0, batch_size=32)\n",
    "print(f'Train accuracy for LSTM: {train_gru_results[1]*100:0.2f}')\n",
    "print(f'Test accuracy for  LSTM: {test_gru_results[1]*100:0.2f}')"
   ]
  },
  {
   "cell_type": "code",
   "execution_count": 125,
   "id": "b88da977",
   "metadata": {},
   "outputs": [
    {
     "name": "stdout",
     "output_type": "stream",
     "text": [
      "[[0.47676355]\n",
      " [0.47676355]]\n"
     ]
    }
   ],
   "source": [
    "#check the model\n",
    "sentences = ['lesbian consider father indiana amazing one', \"terrifying server whole heartedly care guest dining experience\"]\n",
    "sequencess = token.texts_to_sequences(sentences)\n",
    "\n",
    "padded = pad_sequences(sequencess, maxlen=max_length, padding=padding_type, truncating=trunc_type)\n",
    "\n",
    "# make a prediction\n",
    "pred_9 = model_9.predict(padded)\n",
    "print(pred_9)"
   ]
  },
  {
   "cell_type": "code",
   "execution_count": 87,
   "id": "f21a8b9e",
   "metadata": {},
   "outputs": [
    {
     "data": {
      "image/png": "[encoded data removed]",
      "text/plain": [
       "<Figure size 432x288 with 1 Axes>"
      ]
     },
     "metadata": {
      "needs_background": "light"
     },
     "output_type": "display_data"
    }
   ],
   "source": [
    "plt.plot(history_9.history['accuracy'], label = \"acc_m_9\")\n",
    "plt.plot(history_9.history['val_accuracy'], label = \"val_acc_m_9\")\n",
    "#\n",
    "#plt.plot(Adam_history.history['binary_accuracy'], label = \"acc_m_2\")\n",
    "#plt.plot(Adam_history.history['val_binary_accuracy'], label = \"val_acc_m2\")\n",
    "#\n",
    "#plt.plot(history_5.history['accuracy'], label = \"acc_mod_5\")\n",
    "#plt.plot(history_5.history['accuracy'], label = \"val_acc_mod_5\")\n",
    "\n",
    "\n",
    "plt.xlabel(\"Epochs\")\n",
    "plt.ylabel(\"Accuracy\")\n",
    "plt.legend()\n",
    "plt.show()"
   ]
  },
  {
   "cell_type": "markdown",
   "id": "06ad6ec8",
   "metadata": {},
   "source": [
    "**GRU**"
   ]
  },
  {
   "cell_type": "code",
   "execution_count": 88,
   "id": "8f0e8fcc",
   "metadata": {},
   "outputs": [
    {
     "name": "stdout",
     "output_type": "stream",
     "text": [
      "Model: \"sequential_11\"\n",
      "_________________________________________________________________\n",
      " Layer (type)                Output Shape              Param #   \n",
      "=================================================================\n",
      " embedding_8 (Embedding)     (None, 200, 50)           500000    \n",
      "                                                                 \n",
      " gru (GRU)                   (None, 200, 50)           15300     \n",
      "                                                                 \n",
      " flatten (Flatten)           (None, 10000)             0         \n",
      "                                                                 \n",
      " dense_26 (Dense)            (None, 25)                250025    \n",
      "                                                                 \n",
      " dropout_6 (Dropout)         (None, 25)                0         \n",
      "                                                                 \n",
      " dense_27 (Dense)            (None, 1)                 26        \n",
      "                                                                 \n",
      "=================================================================\n",
      "Total params: 765,351\n",
      "Trainable params: 765,351\n",
      "Non-trainable params: 0\n",
      "_________________________________________________________________\n"
     ]
    },
    {
     "name": "stderr",
     "output_type": "stream",
     "text": [
      "WARNING:absl:Found untraced functions such as gru_cell_layer_call_fn, gru_cell_layer_call_and_return_conditional_losses, gru_cell_layer_call_fn, gru_cell_layer_call_and_return_conditional_losses, gru_cell_layer_call_and_return_conditional_losses while saving (showing 5 of 5). These functions will not be directly callable after loading.\n"
     ]
    },
    {
     "name": "stdout",
     "output_type": "stream",
     "text": [
      "INFO:tensorflow:Assets written to: /models/model_10\\assets\n"
     ]
    },
    {
     "name": "stderr",
     "output_type": "stream",
     "text": [
      "INFO:tensorflow:Assets written to: /models/model_10\\assets\n",
      "WARNING:absl:<keras.layers.recurrent.GRUCell object at 0x000001B42BD262E0> has the same name 'GRUCell' as a built-in Keras object. Consider renaming <class 'keras.layers.recurrent.GRUCell'> to avoid naming conflicts when loading with `tf.keras.models.load_model`. If renaming is not possible, pass the object in the `custom_objects` parameter of the load function.\n"
     ]
    },
    {
     "name": "stdout",
     "output_type": "stream",
     "text": [
      "Epoch 1/10\n",
      "625/625 - 52s - loss: 0.5330 - accuracy: 0.7139 - val_loss: 0.4282 - val_accuracy: 0.8009 - 52s/epoch - 83ms/step\n",
      "Epoch 2/10\n",
      "625/625 - 48s - loss: 0.3129 - accuracy: 0.8687 - val_loss: 0.4279 - val_accuracy: 0.8013 - 48s/epoch - 76ms/step\n",
      "Epoch 3/10\n",
      "625/625 - 48s - loss: 0.2084 - accuracy: 0.9182 - val_loss: 0.5068 - val_accuracy: 0.7966 - 48s/epoch - 77ms/step\n",
      "Epoch 4/10\n",
      "625/625 - 48s - loss: 0.1476 - accuracy: 0.9452 - val_loss: 0.6008 - val_accuracy: 0.7897 - 48s/epoch - 76ms/step\n",
      "Epoch 5/10\n",
      "625/625 - 47s - loss: 0.0956 - accuracy: 0.9661 - val_loss: 0.8057 - val_accuracy: 0.7808 - 47s/epoch - 76ms/step\n"
     ]
    }
   ],
   "source": [
    "from keras.models import Sequential\n",
    "from keras.layers import Dense, GlobalAveragePooling1D, GRU\n",
    "from keras.callbacks import LearningRateScheduler, ModelCheckpoint\n",
    "\n",
    "max_epochs = 10 #number epochs to use\n",
    "\n",
    "model_10 = Sequential()\n",
    "model_10.add(Embedding(max_words, embedding_dim, input_length = max_length))\n",
    "model_10.add(GRU(50, activation='tanh',  return_sequences=True))\n",
    "model_10.add(Flatten())\n",
    "model_10.add(Dense(25, activation='relu'))\n",
    "model_10.add(Dropout(0.25))\n",
    "model_10.add(Dense(1, activation='sigmoid'))\n",
    "\n",
    "model_10.compile(loss='binary_crossentropy',optimizer='adam',metrics=['accuracy'])\n",
    "\n",
    "model_10.summary()\n",
    "\n",
    "early_stopping = EarlyStopping(monitor=\"val_loss\", \n",
    "                               patience=3, \n",
    "                               restore_best_weights=True)\n",
    "\n",
    "save_model_10 = model_10.save(\"/models/model_10\") # saving model\n",
    "lrate = LearningRateScheduler(scheduler)\n",
    "\n",
    "history_10 = model_10.fit(x_train, y_train, \n",
    "                    epochs=max_epochs,\n",
    "                          batch_size=32,\n",
    "                          validation_data=(x_test, y_test),\n",
    "                          callbacks=[early_stopping],\n",
    "                          verbose=2)"
   ]
  },
  {
   "cell_type": "code",
   "execution_count": 103,
   "id": "94db8d28",
   "metadata": {},
   "outputs": [
    {
     "name": "stdout",
     "output_type": "stream",
     "text": [
      "Train accuracy for GRU: 87.96\n",
      "Test accuracy for GRU : 80.14\n"
     ]
    }
   ],
   "source": [
    "# model evaluation\n",
    "train_gru_results =model_10.evaluate(x_train, y_train, verbose=0, batch_size=32)\n",
    "test_gru_results = model_10.evaluate(x_test, y_test, verbose=0, batch_size=32)\n",
    "print(f'Train accuracy for GRU: {train_gru_results[1]*100:0.2f}')\n",
    "print(f'Test accuracy for GRU : {test_gru_results[1]*100:0.2f}')"
   ]
  },
  {
   "cell_type": "code",
   "execution_count": 126,
   "id": "0fc61eb0",
   "metadata": {},
   "outputs": [
    {
     "name": "stdout",
     "output_type": "stream",
     "text": [
      "[[0.1932449]\n",
      " [0.9334065]]\n"
     ]
    }
   ],
   "source": [
    "#check the model\n",
    "sentences = ['lesbian consider father indiana amazing one', \"terrifying server whole heartedly care guest dining experience\"]\n",
    "sequencess = token.texts_to_sequences(sentences)\n",
    "\n",
    "padded = pad_sequences(sequencess, maxlen=max_length, padding=padding_type, truncating=trunc_type)\n",
    "\n",
    "# make a prediction\n",
    "pred_10 = model_10.predict(padded)\n",
    "print(pred_10)"
   ]
  },
  {
   "cell_type": "code",
   "execution_count": 136,
   "id": "0397a0a1",
   "metadata": {},
   "outputs": [
    {
     "data": {
      "image/png": "[encoded data removed]",
      "text/plain": [
       "<Figure size 432x288 with 1 Axes>"
      ]
     },
     "metadata": {
      "needs_background": "light"
     },
     "output_type": "display_data"
    }
   ],
   "source": [
    "plt.plot(history_10.history['accuracy'], label = \"acc_mod_10\")\n",
    "plt.plot(history_10.history['val_accuracy'], label = \"val_acc_mod_10\")\n",
    "\n",
    "#plt.plot(Adam_history.history['binary_accuracy'], label = \"acc_mod_2\")\n",
    "#plt.plot(Adam_history.history['val_binary_accuracy'], label = \"val_acc_mod2\")\n",
    "#\n",
    "plt.xlabel(\"Epochs\")\n",
    "plt.ylabel(\"Accuracy\")\n",
    "plt.legend()\n",
    "plt.show()"
   ]
  },
  {
   "cell_type": "code",
   "execution_count": 100,
   "id": "cdd98b59",
   "metadata": {},
   "outputs": [
    {
     "name": "stdout",
     "output_type": "stream",
     "text": [
      "Model: \"sequential_15\"\n",
      "_________________________________________________________________\n",
      " Layer (type)                Output Shape              Param #   \n",
      "=================================================================\n",
      " embedding_12 (Embedding)    (None, 200, 50)           500000    \n",
      "                                                                 \n",
      " gru_3 (GRU)                 (None, 200, 100)          45600     \n",
      "                                                                 \n",
      " flatten_3 (Flatten)         (None, 20000)             0         \n",
      "                                                                 \n",
      " dense_34 (Dense)            (None, 50)                1000050   \n",
      "                                                                 \n",
      " dropout_9 (Dropout)         (None, 50)                0         \n",
      "                                                                 \n",
      " dense_35 (Dense)            (None, 1)                 51        \n",
      "                                                                 \n",
      "=================================================================\n",
      "Total params: 1,545,701\n",
      "Trainable params: 1,545,701\n",
      "Non-trainable params: 0\n",
      "_________________________________________________________________\n"
     ]
    },
    {
     "name": "stderr",
     "output_type": "stream",
     "text": [
      "WARNING:absl:Found untraced functions such as gru_cell_3_layer_call_fn, gru_cell_3_layer_call_and_return_conditional_losses, gru_cell_3_layer_call_fn, gru_cell_3_layer_call_and_return_conditional_losses, gru_cell_3_layer_call_and_return_conditional_losses while saving (showing 5 of 5). These functions will not be directly callable after loading.\n"
     ]
    },
    {
     "name": "stdout",
     "output_type": "stream",
     "text": [
      "INFO:tensorflow:Assets written to: /models/model_11\\assets\n"
     ]
    },
    {
     "name": "stderr",
     "output_type": "stream",
     "text": [
      "INFO:tensorflow:Assets written to: /models/model_11\\assets\n",
      "WARNING:absl:<keras.layers.recurrent.GRUCell object at 0x000001B4408FE670> has the same name 'GRUCell' as a built-in Keras object. Consider renaming <class 'keras.layers.recurrent.GRUCell'> to avoid naming conflicts when loading with `tf.keras.models.load_model`. If renaming is not possible, pass the object in the `custom_objects` parameter of the load function.\n"
     ]
    },
    {
     "name": "stdout",
     "output_type": "stream",
     "text": [
      "Epoch 1/50\n",
      "625/625 - 79s - loss: 0.5043 - accuracy: 0.7391 - val_loss: 0.4131 - val_accuracy: 0.8066 - 79s/epoch - 126ms/step\n",
      "Epoch 2/50\n",
      "625/625 - 99s - loss: 0.2932 - accuracy: 0.8753 - val_loss: 0.4236 - val_accuracy: 0.8074 - 99s/epoch - 158ms/step\n",
      "Epoch 3/50\n",
      "625/625 - 81s - loss: 0.1841 - accuracy: 0.9274 - val_loss: 0.5149 - val_accuracy: 0.7938 - 81s/epoch - 129ms/step\n",
      "Epoch 4/50\n",
      "625/625 - 80s - loss: 0.1116 - accuracy: 0.9599 - val_loss: 0.6554 - val_accuracy: 0.7894 - 80s/epoch - 128ms/step\n"
     ]
    }
   ],
   "source": [
    "from keras.models import Sequential\n",
    "from keras.layers import Dense, GlobalAveragePooling1D, GRU\n",
    "from keras.callbacks import LearningRateScheduler, ModelCheckpoint\n",
    "\n",
    "# define function for lerning rate schedule \n",
    "def scheduler(epoch, lr): \n",
    "      if epoch < 10:\n",
    "        return lr\n",
    "      else:\n",
    "        return lr * tf.math.exp(-0.1)\n",
    "\n",
    "max_epochs = 50 #number epochs to use\n",
    "\n",
    "model_11 = Sequential()\n",
    "model_11.add(Embedding(max_words, embedding_dim, input_length = max_length))\n",
    "model_11.add(GRU(100, activation='tanh',  return_sequences=True))\n",
    "model_11.add(Flatten())\n",
    "model_11.add(Dense(50, activation='relu'))\n",
    "model_11.add(Dropout(0.25))\n",
    "model_11.add(Dense(1, activation='sigmoid'))\n",
    "\n",
    "model_11.compile(loss='binary_crossentropy',optimizer='adam',metrics=['accuracy'])\n",
    "\n",
    "model_11.summary()\n",
    "\n",
    "early_stopping = EarlyStopping(monitor=\"val_loss\", \n",
    "                               patience=3, \n",
    "                               restore_best_weights=True)\n",
    "\n",
    "save_model_11 = model_11.save(\"/models/model_11\") # saving model\n",
    "\n",
    "\n",
    "history_11 = model_11.fit(x_train, y_train, \n",
    "                    epochs=max_epochs,\n",
    "                          batch_size=32,\n",
    "                          validation_data=(x_test, y_test),\n",
    "                          callbacks=[early_stopping],\n",
    "                          verbose=2)"
   ]
  },
  {
   "cell_type": "code",
   "execution_count": 102,
   "id": "6d46f700",
   "metadata": {},
   "outputs": [
    {
     "name": "stdout",
     "output_type": "stream",
     "text": [
      "Train accuracy for GRU: 90.18\n",
      "Test accuracy for GRU : 80.66\n"
     ]
    }
   ],
   "source": [
    "# model evaluation\n",
    "train_gru_results =model_11.evaluate(x_train, y_train, verbose=0, batch_size=32)\n",
    "test_gru_results = model_11.evaluate(x_test, y_test, verbose=0, batch_size=32)\n",
    "print(f'Train accuracy for GRU: {train_gru_results[1]*100:0.2f}')\n",
    "print(f'Test accuracy for GRU : {test_gru_results[1]*100:0.2f}')"
   ]
  },
  {
   "cell_type": "code",
   "execution_count": 127,
   "id": "cf70d149",
   "metadata": {},
   "outputs": [
    {
     "name": "stdout",
     "output_type": "stream",
     "text": [
      "[[0.12063676]\n",
      " [0.9569127 ]]\n"
     ]
    }
   ],
   "source": [
    "#check the model\n",
    "sentences = ['lesbian consider father indiana amazing one', \"terrifying server whole heartedly care guest dining experience\"]\n",
    "sequencess = token.texts_to_sequences(sentences)\n",
    "\n",
    "padded = pad_sequences(sequencess, maxlen=max_length, padding=padding_type, truncating=trunc_type)\n",
    "\n",
    "# make a prediction\n",
    "pred_11= model_11.predict(padded)\n",
    "print(pred_11)"
   ]
  },
  {
   "cell_type": "code",
   "execution_count": 139,
   "id": "9eb3307f",
   "metadata": {},
   "outputs": [
    {
     "data": {
      "image/png": "[encoded data removed]",
      "text/plain": [
       "<Figure size 432x288 with 1 Axes>"
      ]
     },
     "metadata": {
      "needs_background": "light"
     },
     "output_type": "display_data"
    },
    {
     "data": {
      "image/png": "[encoded data removed]",
      "text/plain": [
       "<Figure size 432x288 with 1 Axes>"
      ]
     },
     "metadata": {
      "needs_background": "light"
     },
     "output_type": "display_data"
    }
   ],
   "source": [
    "plt.plot(history_11.history['accuracy'], label = \"acc_mod_11\")\n",
    "plt.plot(history_11.history['val_accuracy'], label = \"val_acc_mod_11\")\n",
    "plt.xlabel(\"Epochs\")\n",
    "plt.ylabel(\"Accuracy\")\n",
    "plt.legend()\n",
    "plt.show()\n",
    "\n",
    "plt.plot(history_11.history['loss'], label = \"loss_mod_11\")\n",
    "plt.plot(history_11.history['val_loss'], label = \"val_loss_mod_11\")\n",
    "\n",
    "\n",
    "plt.xlabel(\"Epochs\")\n",
    "plt.ylabel(\"Loss\")\n",
    "plt.legend()\n",
    "plt.show()"
   ]
  },
  {
   "cell_type": "code",
   "execution_count": 129,
   "id": "5523152d",
   "metadata": {},
   "outputs": [],
   "source": [
    "pred_GRU = model_11.predict(x_test)"
   ]
  },
  {
   "cell_type": "code",
   "execution_count": 133,
   "id": "82a78a35",
   "metadata": {},
   "outputs": [
    {
     "data": {
      "image/png": "[encoded data removed]",
      "text/plain": [
       "<Figure size 576x432 with 2 Axes>"
      ]
     },
     "metadata": {
      "needs_background": "light"
     },
     "output_type": "display_data"
    }
   ],
   "source": [
    "from sklearn.metrics import confusion_matrix,classification_report\n",
    "conf_mtx=confusion_matrix(pred_GRU.round(), y_test)\n",
    "\n",
    "plt.figure(figsize=(8,6))\n",
    "sns.heatmap(conf_mtx,annot=True,fmt='d',cmap='Blues')\n",
    "plt.title(\"0 - Non_sarcastic     1 - Sarcastic\")\n",
    "plt.show()"
   ]
  },
  {
   "cell_type": "code",
   "execution_count": 134,
   "id": "37778f21",
   "metadata": {},
   "outputs": [
    {
     "data": {
      "text/plain": [
       "0.8065900916579649"
      ]
     },
     "execution_count": 134,
     "metadata": {},
     "output_type": "execute_result"
    }
   ],
   "source": [
    "(3775+3177)/(3775+918+3177+749) #check accuracy with confusion matrix result"
   ]
  },
  {
   "cell_type": "code",
   "execution_count": null,
   "id": "485b1c93",
   "metadata": {},
   "outputs": [],
   "source": []
  }
 ],
 "metadata": {
  "kernelspec": {
   "display_name": "Python 3",
   "language": "python",
   "name": "python3"
  },
  "language_info": {
   "codemirror_mode": {
    "name": "ipython",
    "version": 3
   },
   "file_extension": ".py",
   "mimetype": "text/x-python",
   "name": "python",
   "nbconvert_exporter": "python",
   "pygments_lexer": "ipython3",
   "version": "3.8.8"
  }
 },
 "nbformat": 4,
 "nbformat_minor": 5
}
