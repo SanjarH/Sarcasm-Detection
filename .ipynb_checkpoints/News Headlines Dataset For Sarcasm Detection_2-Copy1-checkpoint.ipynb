{
 "cells": [
  {
   "cell_type": "markdown",
   "id": "04048101",
   "metadata": {},
   "source": [
    "**NEWS HEADLINES DATASET FOR SARCASM DETECTION PART 2**"
   ]
  },
  {
   "cell_type": "markdown",
   "id": "ce2a907c",
   "metadata": {},
   "source": [
    "*In this part we will build the module for toidentify sarcastic sentences.*\n",
    "\n",
    "***Plan to work:***\n",
    "\n",
    "        >>> Load and preprocess data  \n",
    "   \n",
    "        >>> Define the Deep Lerning models \n",
    "       \n",
    "        >>> Get the best model to solve the problem \n",
    "       \n",
    "        >>> Save model. "
   ]
  },
  {
   "cell_type": "markdown",
   "id": "fb6d04e0",
   "metadata": {},
   "source": [
    "**Import library necessary**"
   ]
  },
  {
   "cell_type": "code",
   "execution_count": 1,
   "id": "a5ade9d6",
   "metadata": {},
   "outputs": [],
   "source": [
    "import numpy as np\n",
    "import pandas as pd\n",
    "import seaborn as sns\n",
    "import matplotlib.pyplot as plt\n",
    "import os\n",
    "import sys\n",
    "import tensorflow as tf\n",
    "from keras.models import Sequential\n",
    "from keras.layers import Dense\n",
    "from keras.callbacks import LearningRateScheduler\n",
    "from keras.callbacks import ModelCheckpoint\n",
    "from keras.callbacks import EarlyStopping\n",
    "from keras.layers import Dropout\n",
    "from keras.layers import BatchNormalization\n",
    "from keras.layers import Activation\n",
    "from keras.layers import Flatten\n",
    "from keras.layers.convolutional import Conv2D, MaxPooling2D, AveragePooling2D\n",
    "from keras.layers import Dense, Dropout, Embedding, SimpleRNN, LSTM, Bidirectional\n",
    "from keras.callbacks import History"
   ]
  },
  {
   "cell_type": "code",
   "execution_count": 2,
   "id": "a2b1e626",
   "metadata": {
    "scrolled": true
   },
   "outputs": [],
   "source": [
    "import nltk\n",
    "#nltk.download()"
   ]
  },
  {
   "cell_type": "markdown",
   "id": "26ee32ce",
   "metadata": {},
   "source": [
    "**Reading the Data**"
   ]
  },
  {
   "cell_type": "code",
   "execution_count": 3,
   "id": "8e1ecb08",
   "metadata": {},
   "outputs": [],
   "source": [
    "# load the data\n",
    "data = pd.read_json('Sarcasm_Headlines_Dataset_v2.json', lines=True)"
   ]
  },
  {
   "cell_type": "code",
   "execution_count": 4,
   "id": "3058af67",
   "metadata": {},
   "outputs": [
    {
     "data": {
      "text/html": [
       "<div>\n",
       "<style scoped>\n",
       "    .dataframe tbody tr th:only-of-type {\n",
       "        vertical-align: middle;\n",
       "    }\n",
       "\n",
       "    .dataframe tbody tr th {\n",
       "        vertical-align: top;\n",
       "    }\n",
       "\n",
       "    .dataframe thead th {\n",
       "        text-align: right;\n",
       "    }\n",
       "</style>\n",
       "<table border=\"1\" class=\"dataframe\">\n",
       "  <thead>\n",
       "    <tr style=\"text-align: right;\">\n",
       "      <th></th>\n",
       "      <th>is_sarcastic</th>\n",
       "      <th>headline</th>\n",
       "      <th>article_link</th>\n",
       "    </tr>\n",
       "  </thead>\n",
       "  <tbody>\n",
       "    <tr>\n",
       "      <th>0</th>\n",
       "      <td>1</td>\n",
       "      <td>thirtysomething scientists unveil doomsday clo...</td>\n",
       "      <td>https://www.theonion.com/thirtysomething-scien...</td>\n",
       "    </tr>\n",
       "    <tr>\n",
       "      <th>1</th>\n",
       "      <td>0</td>\n",
       "      <td>dem rep. totally nails why congress is falling...</td>\n",
       "      <td>https://www.huffingtonpost.com/entry/donna-edw...</td>\n",
       "    </tr>\n",
       "    <tr>\n",
       "      <th>2</th>\n",
       "      <td>0</td>\n",
       "      <td>eat your veggies: 9 deliciously different recipes</td>\n",
       "      <td>https://www.huffingtonpost.com/entry/eat-your-...</td>\n",
       "    </tr>\n",
       "    <tr>\n",
       "      <th>3</th>\n",
       "      <td>1</td>\n",
       "      <td>inclement weather prevents liar from getting t...</td>\n",
       "      <td>https://local.theonion.com/inclement-weather-p...</td>\n",
       "    </tr>\n",
       "    <tr>\n",
       "      <th>4</th>\n",
       "      <td>1</td>\n",
       "      <td>mother comes pretty close to using word 'strea...</td>\n",
       "      <td>https://www.theonion.com/mother-comes-pretty-c...</td>\n",
       "    </tr>\n",
       "    <tr>\n",
       "      <th>5</th>\n",
       "      <td>0</td>\n",
       "      <td>my white inheritance</td>\n",
       "      <td>https://www.huffingtonpost.com/entry/my-white-...</td>\n",
       "    </tr>\n",
       "    <tr>\n",
       "      <th>6</th>\n",
       "      <td>0</td>\n",
       "      <td>5 ways to file your taxes with less stress</td>\n",
       "      <td>https://www.huffingtonpost.com/entry/5-ways-to...</td>\n",
       "    </tr>\n",
       "    <tr>\n",
       "      <th>7</th>\n",
       "      <td>1</td>\n",
       "      <td>richard branson's global-warming donation near...</td>\n",
       "      <td>https://www.theonion.com/richard-bransons-glob...</td>\n",
       "    </tr>\n",
       "    <tr>\n",
       "      <th>8</th>\n",
       "      <td>1</td>\n",
       "      <td>shadow government getting too large to meet in...</td>\n",
       "      <td>https://politics.theonion.com/shadow-governmen...</td>\n",
       "    </tr>\n",
       "    <tr>\n",
       "      <th>9</th>\n",
       "      <td>0</td>\n",
       "      <td>lots of parents know this scenario</td>\n",
       "      <td>https://www.huffingtonpost.comhttp://pubx.co/6...</td>\n",
       "    </tr>\n",
       "  </tbody>\n",
       "</table>\n",
       "</div>"
      ],
      "text/plain": [
       "   is_sarcastic                                           headline  \\\n",
       "0             1  thirtysomething scientists unveil doomsday clo...   \n",
       "1             0  dem rep. totally nails why congress is falling...   \n",
       "2             0  eat your veggies: 9 deliciously different recipes   \n",
       "3             1  inclement weather prevents liar from getting t...   \n",
       "4             1  mother comes pretty close to using word 'strea...   \n",
       "5             0                               my white inheritance   \n",
       "6             0         5 ways to file your taxes with less stress   \n",
       "7             1  richard branson's global-warming donation near...   \n",
       "8             1  shadow government getting too large to meet in...   \n",
       "9             0                 lots of parents know this scenario   \n",
       "\n",
       "                                        article_link  \n",
       "0  https://www.theonion.com/thirtysomething-scien...  \n",
       "1  https://www.huffingtonpost.com/entry/donna-edw...  \n",
       "2  https://www.huffingtonpost.com/entry/eat-your-...  \n",
       "3  https://local.theonion.com/inclement-weather-p...  \n",
       "4  https://www.theonion.com/mother-comes-pretty-c...  \n",
       "5  https://www.huffingtonpost.com/entry/my-white-...  \n",
       "6  https://www.huffingtonpost.com/entry/5-ways-to...  \n",
       "7  https://www.theonion.com/richard-bransons-glob...  \n",
       "8  https://politics.theonion.com/shadow-governmen...  \n",
       "9  https://www.huffingtonpost.comhttp://pubx.co/6...  "
      ]
     },
     "execution_count": 4,
     "metadata": {},
     "output_type": "execute_result"
    }
   ],
   "source": [
    "# view the data\n",
    "data.head(10)"
   ]
  },
  {
   "cell_type": "code",
   "execution_count": 5,
   "id": "dafe91ed",
   "metadata": {},
   "outputs": [
    {
     "name": "stdout",
     "output_type": "stream",
     "text": [
      "We have 287674 words in the headline\n"
     ]
    }
   ],
   "source": [
    "data_len = data['headline'].apply(lambda x: len(x.split(' '))).sum()\n",
    "print(f'We have {data_len} words in the headline')"
   ]
  },
  {
   "cell_type": "markdown",
   "id": "aef967d6",
   "metadata": {},
   "source": [
    "***Text pre-processing***\n",
    "\n",
    "For the text cleaning we can use a some libreries as nltk and spacy. "
   ]
  },
  {
   "cell_type": "code",
   "execution_count": 6,
   "id": "a0438285",
   "metadata": {},
   "outputs": [],
   "source": [
    "from nltk.tokenize import word_tokenize, sent_tokenize\n",
    "from nltk.corpus import stopwords\n",
    "import spacy\n",
    "import string\n",
    "import re\n",
    "\n",
    "nlp = spacy.load('en_core_web_sm')  #load spacy\n",
    "stop_words = set(stopwords.words('english')) # get the english stropwords\n",
    "def text_clean(text):                        #define function for clean the data  \n",
    "    doc = nlp(text)\n",
    "    lem_tok = [token.lemma_ for token in doc] # tokenize the words using spacy\n",
    "    lem_al = [lemma.lower() for lemma in lem_tok if lemma.isalpha() and lemma not in stop_words]\n",
    "    lem_text = ' '.join(lem_al)\n",
    "    return lem_text\n",
    "\n",
    "data['headline'] = data['headline'].apply(text_clean)"
   ]
  },
  {
   "cell_type": "code",
   "execution_count": 7,
   "id": "2ba6f143",
   "metadata": {},
   "outputs": [
    {
     "name": "stdout",
     "output_type": "stream",
     "text": [
      " After data cleaning we have 204866 words in the headline\n"
     ]
    }
   ],
   "source": [
    "data_len = data['headline'].apply(lambda x: len(x.split(' '))).sum()\n",
    "print(f' After data cleaning we have {data_len} words in the headline')"
   ]
  },
  {
   "cell_type": "code",
   "execution_count": 8,
   "id": "5f63487a",
   "metadata": {},
   "outputs": [],
   "source": [
    "text = data['headline'].tolist()\n",
    "labels = data['is_sarcastic'].tolist()"
   ]
  },
  {
   "cell_type": "markdown",
   "id": "8b9f6d74",
   "metadata": {},
   "source": [
    "*Split, tokenize and padding the text with keras*"
   ]
  },
  {
   "cell_type": "code",
   "execution_count": 9,
   "id": "364d1491",
   "metadata": {},
   "outputs": [],
   "source": [
    "max_words = 10000 # max number of words in \n",
    "max_length = 100 # max length\n",
    "trunc_type='post' # types of padding\n",
    "padding_type='post'\n",
    "oov_tok = \"<OOV>\"  # out-of-vocab\n",
    "training_size = 20000 # size of training data"
   ]
  },
  {
   "cell_type": "code",
   "execution_count": 10,
   "id": "5782c1d3",
   "metadata": {},
   "outputs": [],
   "source": [
    "# split the dataset into training and testing datasets \n",
    "x_train = text[0:training_size]\n",
    "x_test = text[training_size:]\n",
    "y_train  = labels[0:training_size]\n",
    "y_test  = labels[training_size:]"
   ]
  },
  {
   "cell_type": "code",
   "execution_count": 11,
   "id": "5b316451",
   "metadata": {},
   "outputs": [],
   "source": [
    "#import library for tokenize text\n",
    "from tensorflow.keras.preprocessing.text import Tokenizer\n",
    "from tensorflow.keras.preprocessing.sequence import pad_sequences\n",
    "\n",
    "token = Tokenizer(num_words=max_words, oov_token=oov_tok)\n",
    "token.fit_on_texts(x_train)\n",
    "word_index = token.word_index\n",
    "\n",
    "# Transforming train_text to a sequence of integers\n",
    "train_seq = token.texts_to_sequences(x_train)             \n",
    "\n",
    "# Pading train_sequences to the same length\n",
    "train_pad = pad_sequences(train_seq, maxlen=max_length, padding=padding_type, truncating=trunc_type) \n",
    "\n",
    "# Transforming test_text to a sequence of integers\n",
    "test_seq = token.texts_to_sequences(x_test) \n",
    "\n",
    "# Pading test_sequences to the same length\n",
    "test_pad = pad_sequences(test_seq, maxlen=max_length, padding=padding_type, truncating=trunc_type)"
   ]
  },
  {
   "cell_type": "code",
   "execution_count": 12,
   "id": "c8dcbdf2",
   "metadata": {},
   "outputs": [
    {
     "name": "stdout",
     "output_type": "stream",
     "text": [
      "int32\n"
     ]
    }
   ],
   "source": [
    "# conwert the data into numpy array\n",
    "x_train = np.array(train_pad)\n",
    "y_train = np.array(y_train)\n",
    "x_test  = np.array(test_pad)\n",
    "y_test  = np.array(y_test)\n",
    "\n",
    "x_train.shape, y_train.shape, x_test.shape, y_test.shape #check the shapes\n",
    "print(x_train.dtype) # check the type of train values"
   ]
  },
  {
   "cell_type": "markdown",
   "id": "bdad56f0",
   "metadata": {},
   "source": [
    "***Modeling the data***\n",
    "\n",
    "*TensorFlow*"
   ]
  },
  {
   "cell_type": "markdown",
   "id": "1da4bf03",
   "metadata": {},
   "source": [
    "Using Dense, Embedding and GlobalAveragePooling1D layers"
   ]
  },
  {
   "cell_type": "code",
   "execution_count": 13,
   "id": "e76cec19",
   "metadata": {},
   "outputs": [
    {
     "name": "stdout",
     "output_type": "stream",
     "text": [
      "Model: \"sequential\"\n",
      "_________________________________________________________________\n",
      " Layer (type)                Output Shape              Param #   \n",
      "=================================================================\n",
      " embedding (Embedding)       (None, 100, 16)           160000    \n",
      "                                                                 \n",
      " global_average_pooling1d (G  (None, 16)               0         \n",
      " lobalAveragePooling1D)                                          \n",
      "                                                                 \n",
      " dense (Dense)               (None, 16)                272       \n",
      "                                                                 \n",
      " dense_1 (Dense)             (None, 1)                 17        \n",
      "                                                                 \n",
      "=================================================================\n",
      "Total params: 160,289\n",
      "Trainable params: 160,289\n",
      "Non-trainable params: 0\n",
      "_________________________________________________________________\n",
      "INFO:tensorflow:Assets written to: /models/model_1\\assets\n",
      "Epoch 1/30\n",
      "625/625 - 2s - loss: 0.6923 - accuracy: 0.5213 - val_loss: 0.6918 - val_accuracy: 0.5249 - lr: 0.0100 - 2s/epoch - 3ms/step\n",
      "Epoch 2/30\n",
      "625/625 - 1s - loss: 0.6920 - accuracy: 0.5231 - val_loss: 0.6918 - val_accuracy: 0.5249 - lr: 0.0100 - 1s/epoch - 2ms/step\n",
      "Epoch 3/30\n",
      "625/625 - 1s - loss: 0.6920 - accuracy: 0.5231 - val_loss: 0.6917 - val_accuracy: 0.5249 - lr: 0.0100 - 1s/epoch - 2ms/step\n",
      "Epoch 4/30\n",
      "625/625 - 1s - loss: 0.6920 - accuracy: 0.5231 - val_loss: 0.6917 - val_accuracy: 0.5249 - lr: 0.0100 - 1s/epoch - 2ms/step\n",
      "Epoch 5/30\n",
      "625/625 - 1s - loss: 0.6920 - accuracy: 0.5231 - val_loss: 0.6917 - val_accuracy: 0.5249 - lr: 0.0100 - 1s/epoch - 2ms/step\n",
      "Epoch 6/30\n",
      "625/625 - 1s - loss: 0.6919 - accuracy: 0.5231 - val_loss: 0.6916 - val_accuracy: 0.5249 - lr: 0.0100 - 898ms/epoch - 1ms/step\n",
      "Epoch 7/30\n",
      "625/625 - 1s - loss: 0.6918 - accuracy: 0.5231 - val_loss: 0.6918 - val_accuracy: 0.5249 - lr: 0.0100 - 1s/epoch - 2ms/step\n",
      "Epoch 8/30\n",
      "625/625 - 1s - loss: 0.6918 - accuracy: 0.5231 - val_loss: 0.6917 - val_accuracy: 0.5249 - lr: 0.0100 - 1s/epoch - 2ms/step\n",
      "Epoch 9/30\n",
      "625/625 - 1s - loss: 0.6918 - accuracy: 0.5231 - val_loss: 0.6914 - val_accuracy: 0.5249 - lr: 0.0100 - 1s/epoch - 2ms/step\n",
      "Epoch 10/30\n",
      "625/625 - 1s - loss: 0.6917 - accuracy: 0.5231 - val_loss: 0.6914 - val_accuracy: 0.5249 - lr: 0.0100 - 1s/epoch - 2ms/step\n",
      "Epoch 11/30\n",
      "625/625 - 1s - loss: 0.6917 - accuracy: 0.5231 - val_loss: 0.6913 - val_accuracy: 0.5249 - lr: 0.0090 - 1s/epoch - 2ms/step\n",
      "Epoch 12/30\n",
      "625/625 - 1s - loss: 0.6916 - accuracy: 0.5231 - val_loss: 0.6914 - val_accuracy: 0.5249 - lr: 0.0082 - 1s/epoch - 2ms/step\n",
      "Epoch 13/30\n",
      "625/625 - 1s - loss: 0.6916 - accuracy: 0.5231 - val_loss: 0.6913 - val_accuracy: 0.5249 - lr: 0.0074 - 1s/epoch - 2ms/step\n",
      "Epoch 14/30\n",
      "625/625 - 1s - loss: 0.6916 - accuracy: 0.5231 - val_loss: 0.6913 - val_accuracy: 0.5249 - lr: 0.0067 - 1s/epoch - 2ms/step\n",
      "Epoch 15/30\n",
      "625/625 - 1s - loss: 0.6915 - accuracy: 0.5231 - val_loss: 0.6912 - val_accuracy: 0.5249 - lr: 0.0061 - 1s/epoch - 2ms/step\n",
      "Epoch 16/30\n",
      "625/625 - 1s - loss: 0.6915 - accuracy: 0.5231 - val_loss: 0.6912 - val_accuracy: 0.5249 - lr: 0.0055 - 1s/epoch - 2ms/step\n",
      "Epoch 17/30\n",
      "625/625 - 1s - loss: 0.6914 - accuracy: 0.5231 - val_loss: 0.6913 - val_accuracy: 0.5249 - lr: 0.0050 - 1s/epoch - 2ms/step\n",
      "Epoch 18/30\n",
      "625/625 - 1s - loss: 0.6914 - accuracy: 0.5231 - val_loss: 0.6912 - val_accuracy: 0.5249 - lr: 0.0045 - 1s/epoch - 2ms/step\n",
      "Epoch 19/30\n",
      "625/625 - 1s - loss: 0.6914 - accuracy: 0.5231 - val_loss: 0.6911 - val_accuracy: 0.5249 - lr: 0.0041 - 1s/epoch - 2ms/step\n",
      "Epoch 20/30\n",
      "625/625 - 1s - loss: 0.6913 - accuracy: 0.5231 - val_loss: 0.6911 - val_accuracy: 0.5249 - lr: 0.0037 - 1s/epoch - 2ms/step\n",
      "Epoch 21/30\n",
      "625/625 - 1s - loss: 0.6913 - accuracy: 0.5231 - val_loss: 0.6911 - val_accuracy: 0.5249 - lr: 0.0033 - 1s/epoch - 2ms/step\n",
      "Epoch 22/30\n",
      "625/625 - 1s - loss: 0.6913 - accuracy: 0.5231 - val_loss: 0.6911 - val_accuracy: 0.5249 - lr: 0.0030 - 1s/epoch - 2ms/step\n",
      "Epoch 23/30\n",
      "625/625 - 1s - loss: 0.6913 - accuracy: 0.5231 - val_loss: 0.6910 - val_accuracy: 0.5249 - lr: 0.0027 - 1s/epoch - 2ms/step\n",
      "Epoch 24/30\n",
      "625/625 - 1s - loss: 0.6912 - accuracy: 0.5231 - val_loss: 0.6911 - val_accuracy: 0.5249 - lr: 0.0025 - 1s/epoch - 2ms/step\n",
      "Epoch 25/30\n",
      "625/625 - 1s - loss: 0.6912 - accuracy: 0.5231 - val_loss: 0.6910 - val_accuracy: 0.5249 - lr: 0.0022 - 1s/epoch - 2ms/step\n",
      "Epoch 26/30\n",
      "625/625 - 1s - loss: 0.6912 - accuracy: 0.5231 - val_loss: 0.6910 - val_accuracy: 0.5249 - lr: 0.0020 - 1s/epoch - 2ms/step\n",
      "Epoch 27/30\n",
      "625/625 - 1s - loss: 0.6912 - accuracy: 0.5231 - val_loss: 0.6910 - val_accuracy: 0.5249 - lr: 0.0018 - 1s/epoch - 2ms/step\n",
      "Epoch 28/30\n",
      "625/625 - 1s - loss: 0.6912 - accuracy: 0.5231 - val_loss: 0.6910 - val_accuracy: 0.5249 - lr: 0.0017 - 1s/epoch - 2ms/step\n",
      "Epoch 29/30\n",
      "625/625 - 1s - loss: 0.6912 - accuracy: 0.5231 - val_loss: 0.6910 - val_accuracy: 0.5249 - lr: 0.0015 - 1s/epoch - 2ms/step\n",
      "Epoch 30/30\n",
      "625/625 - 1s - loss: 0.6912 - accuracy: 0.5231 - val_loss: 0.6910 - val_accuracy: 0.5249 - lr: 0.0014 - 1s/epoch - 2ms/step\n"
     ]
    }
   ],
   "source": [
    "from keras.models import Sequential\n",
    "from keras.layers import Dense,Embedding, GlobalAveragePooling1D\n",
    "from keras.callbacks import LearningRateScheduler, ModelCheckpoint\n",
    "\n",
    "# define function for lerning rate schedule \n",
    "def scheduler(epoch, lr): \n",
    "      if epoch < 10:\n",
    "        return lr\n",
    "      else:\n",
    "        return lr * tf.math.exp(-0.1)\n",
    "\n",
    "# max number of words to use into model\n",
    "max_words = 10000\n",
    "# max embedding number\n",
    "embedding_dim = 16\n",
    "# number epochs to use\n",
    "max_epochs = 30 \n",
    "# Add Embedding and GlobalAveragePooling1D layers in model\n",
    "model_1 = Sequential() \n",
    "model_1.add(Embedding(max_words, embedding_dim, input_length = max_length))\n",
    "model_1.add(GlobalAveragePooling1D())\n",
    "model_1.add(Dense(16, activation='relu'))\n",
    "model_1.add(Dense(1, activation='sigmoid'))\n",
    "\n",
    "#compile the model \n",
    "model_1.compile(loss='binary_crossentropy',optimizer='sgd',metrics=['accuracy'])\n",
    "\n",
    "#summarize the model\n",
    "model_1.summary()\n",
    "\n",
    "#saving the model\n",
    "save_model1 = model_1.save(\"/models/model_1\")\n",
    "\n",
    "#use early_stopping\n",
    "early_stopping = EarlyStopping(monitor=\"val_loss\", \n",
    "                               patience=3, \n",
    "                               restore_best_weights=True)\n",
    "# learning rate\n",
    "l_rate = LearningRateScheduler(scheduler)\n",
    "# fit the model\n",
    "history_1 = model_1.fit(x_train, y_train, \n",
    "                    epochs=max_epochs,\n",
    "                    batch_size=32,\n",
    "                    callbacks=[l_rate, early_stopping], \n",
    "                    validation_data=(x_test, y_test), \n",
    "                    verbose=2)"
   ]
  },
  {
   "cell_type": "code",
   "execution_count": 14,
   "id": "a0f223b7",
   "metadata": {},
   "outputs": [
    {
     "name": "stdout",
     "output_type": "stream",
     "text": [
      "Train accuracy for GlobalAv1: 52.31\n",
      "Test accuracy for GlobalAv1: 52.49\n"
     ]
    }
   ],
   "source": [
    "# model evaluation\n",
    "train_GlobalAv1 = model_1.evaluate(x_train, y_train, verbose=0, batch_size=32)\n",
    "test_GlobalAv1 = model_1.evaluate(x_test, y_test, verbose=0, batch_size=32)\n",
    "print(f'Train accuracy for GlobalAv1: {train_GlobalAv1[1]*100:0.2f}')\n",
    "print(f'Test accuracy for GlobalAv1: {test_GlobalAv1[1]*100:0.2f}')"
   ]
  },
  {
   "cell_type": "code",
   "execution_count": 15,
   "id": "92341b05",
   "metadata": {},
   "outputs": [
    {
     "name": "stdout",
     "output_type": "stream",
     "text": [
      "[[0.4753083 ]\n",
      " [0.47755906]]\n"
     ]
    }
   ],
   "source": [
    "#check the model\n",
    "sentences = ['lesbian consider father indiana amazing one', \"terrifying server whole heartedly care guest dining experience\"]\n",
    "sequencess = token.texts_to_sequences(sentences)\n",
    "\n",
    "padded = pad_sequences(sequencess, maxlen=max_length, padding=padding_type, truncating=trunc_type)\n",
    "\n",
    "# make a prediction\n",
    "pred_1 = model_1.predict(padded)\n",
    "print(pred_1)"
   ]
  },
  {
   "cell_type": "code",
   "execution_count": 16,
   "id": "6b91bee9",
   "metadata": {},
   "outputs": [
    {
     "data": {
      "image/png": "[encoded data removed]",
      "text/plain": [
       "<Figure size 432x288 with 1 Axes>"
      ]
     },
     "metadata": {
      "needs_background": "light"
     },
     "output_type": "display_data"
    },
    {
     "data": {
      "image/png": "[encoded data removed]",
      "text/plain": [
       "<Figure size 432x288 with 1 Axes>"
      ]
     },
     "metadata": {
      "needs_background": "light"
     },
     "output_type": "display_data"
    }
   ],
   "source": [
    "#plot the accuracy\n",
    "plt.plot(history_1.history['accuracy'], label = \"accuracy\")\n",
    "plt.plot(history_1.history['val_accuracy'], label = \"val_accuracy\")\n",
    "\n",
    "plt.xlabel(\"Epochs\")\n",
    "plt.ylabel(\"Accuracy\")\n",
    "plt.legend()\n",
    "plt.show()\n",
    "\n",
    "plt.plot(history_1.history['loss'], label = \"loss\")\n",
    "plt.plot(history_1.history['val_loss'], label = \"val_loss\")\n",
    "plt.xlabel(\"Epochs\")\n",
    "plt.ylabel(\"Loss\")\n",
    "plt.legend()\n",
    "plt.show()"
   ]
  },
  {
   "cell_type": "code",
   "execution_count": 17,
   "id": "73cd5255",
   "metadata": {},
   "outputs": [
    {
     "name": "stdout",
     "output_type": "stream",
     "text": [
      "Model: \"sequential_1\"\n",
      "_________________________________________________________________\n",
      " Layer (type)                Output Shape              Param #   \n",
      "=================================================================\n",
      " embedding_1 (Embedding)     (None, 100, 16)           160000    \n",
      "                                                                 \n",
      " global_average_pooling1d_1   (None, 16)               0         \n",
      " (GlobalAveragePooling1D)                                        \n",
      "                                                                 \n",
      " dense_2 (Dense)             (None, 150)               2550      \n",
      "                                                                 \n",
      " dense_3 (Dense)             (None, 100)               15100     \n",
      "                                                                 \n",
      " dense_4 (Dense)             (None, 50)                5050      \n",
      "                                                                 \n",
      " dropout (Dropout)           (None, 50)                0         \n",
      "                                                                 \n",
      " dense_5 (Dense)             (None, 1)                 51        \n",
      "                                                                 \n",
      "=================================================================\n",
      "Total params: 182,751\n",
      "Trainable params: 182,751\n",
      "Non-trainable params: 0\n",
      "_________________________________________________________________\n",
      "INFO:tensorflow:Assets written to: /models/model_2\\assets\n",
      "Epoch 1/50\n",
      "625/625 - 2s - loss: 0.7007 - accuracy: 0.5235 - val_loss: 0.6395 - val_accuracy: 0.6817 - lr: 0.0010 - 2s/epoch - 3ms/step\n",
      "Epoch 2/50\n",
      "625/625 - 1s - loss: 0.4616 - accuracy: 0.7842 - val_loss: 0.4387 - val_accuracy: 0.7984 - lr: 0.0010 - 1s/epoch - 2ms/step\n",
      "Epoch 3/50\n",
      "625/625 - 1s - loss: 0.3517 - accuracy: 0.8464 - val_loss: 0.4528 - val_accuracy: 0.7936 - lr: 0.0010 - 1s/epoch - 2ms/step\n",
      "Epoch 4/50\n",
      "625/625 - 1s - loss: 0.3049 - accuracy: 0.8713 - val_loss: 0.4637 - val_accuracy: 0.7972 - lr: 0.0010 - 1s/epoch - 2ms/step\n",
      "Epoch 5/50\n",
      "625/625 - 1s - loss: 0.2681 - accuracy: 0.8907 - val_loss: 0.4907 - val_accuracy: 0.7936 - lr: 0.0010 - 1s/epoch - 2ms/step\n",
      "Epoch 6/50\n",
      "625/625 - 1s - loss: 0.2417 - accuracy: 0.9039 - val_loss: 0.5274 - val_accuracy: 0.7874 - lr: 0.0010 - 1s/epoch - 2ms/step\n",
      "Epoch 7/50\n",
      "625/625 - 1s - loss: 0.2246 - accuracy: 0.9117 - val_loss: 0.5277 - val_accuracy: 0.7898 - lr: 0.0010 - 1s/epoch - 2ms/step\n",
      "Epoch 8/50\n",
      "625/625 - 1s - loss: 0.2078 - accuracy: 0.9200 - val_loss: 0.5693 - val_accuracy: 0.7819 - lr: 0.0010 - 1s/epoch - 2ms/step\n",
      "Epoch 9/50\n",
      "625/625 - 1s - loss: 0.1930 - accuracy: 0.9274 - val_loss: 0.6042 - val_accuracy: 0.7794 - lr: 0.0010 - 1s/epoch - 2ms/step\n"
     ]
    }
   ],
   "source": [
    "from keras.models import Sequential\n",
    "from keras.layers import Dense, GlobalAveragePooling1D\n",
    "\n",
    "# define function for lerning rate schedule \n",
    "def scheduler(epoch, lr): \n",
    "      if epoch < 10:\n",
    "        return lr\n",
    "      else:\n",
    "        return lr * tf.math.exp(-0.1)\n",
    "    \n",
    "max_epochs = 50 #number epochs to use\n",
    "\n",
    "model_2 = Sequential()\n",
    "model_2.add(Embedding(max_words, embedding_dim, input_length = max_length))\n",
    "model_2.add(GlobalAveragePooling1D())\n",
    "model_2.add(Dense(150, activation='relu'))\n",
    "model_2.add(Dense(100, activation='relu'))\n",
    "model_2.add(Dense(50, activation='sigmoid'))\n",
    "model_2.add(Dropout(.2))\n",
    "model_2.add(Dense(1, activation='sigmoid'))\n",
    "\n",
    "model_2.compile(loss='binary_crossentropy',optimizer='adam',metrics=['accuracy'])\n",
    "model_2.summary()\n",
    "\n",
    "save_model2 = model_2.save(\"/models/model_2\") # saving model\n",
    "\n",
    "#use early_stopping\n",
    "early_stopping = EarlyStopping(monitor=\"val_loss\", \n",
    "                               patience=7, \n",
    "                               restore_best_weights=True)\n",
    "# learning rate\n",
    "l_rate = LearningRateScheduler(scheduler)\n",
    "\n",
    "history_2 = model_2.fit(x_train, y_train, \n",
    "                    epochs=max_epochs,\n",
    "                    batch_size=32,\n",
    "                    callbacks=[l_rate,early_stopping],    \n",
    "                    validation_data=(x_test, y_test),\n",
    "                    verbose=2)"
   ]
  },
  {
   "cell_type": "code",
   "execution_count": 18,
   "id": "098b9636",
   "metadata": {},
   "outputs": [
    {
     "name": "stdout",
     "output_type": "stream",
     "text": [
      "Train accuracy for train_GlobalAv2: 85.90\n",
      "Test accuracy for test_GlobalAv2: 79.84\n"
     ]
    }
   ],
   "source": [
    "# model evaluation\n",
    "train_GlobalAv2 = model_2.evaluate(x_train, y_train, verbose=0, batch_size=32)\n",
    "test_GlobalAv2 = model_2.evaluate(x_test, y_test, verbose=0, batch_size=32)\n",
    "print(f'Train accuracy for train_GlobalAv2: {train_GlobalAv2[1]*100:0.2f}')\n",
    "print(f'Test accuracy for test_GlobalAv2: {test_GlobalAv2[1]*100:0.2f}')"
   ]
  },
  {
   "cell_type": "code",
   "execution_count": 19,
   "id": "1310343d",
   "metadata": {},
   "outputs": [
    {
     "name": "stdout",
     "output_type": "stream",
     "text": [
      "[[0.23646468]\n",
      " [0.93241876]]\n"
     ]
    }
   ],
   "source": [
    "#check the model\n",
    "sentences = ['lesbian consider father indiana amazing one', \"terrifying server whole heartedly care guest dining experience\"]\n",
    "sequencess = token.texts_to_sequences(sentences)\n",
    "\n",
    "padded = pad_sequences(sequencess, maxlen=max_length, padding=padding_type, truncating=trunc_type)\n",
    "\n",
    "# make a prediction\n",
    "pred_2 = model_2.predict(padded)\n",
    "print(pred_2)"
   ]
  },
  {
   "cell_type": "code",
   "execution_count": 20,
   "id": "ac3fd7da",
   "metadata": {},
   "outputs": [
    {
     "data": {
      "image/png": "[encoded data removed]",
      "text/plain": [
       "<Figure size 432x288 with 1 Axes>"
      ]
     },
     "metadata": {
      "needs_background": "light"
     },
     "output_type": "display_data"
    },
    {
     "data": {
      "image/png": "[encoded data removed]",
      "text/plain": [
       "<Figure size 432x288 with 1 Axes>"
      ]
     },
     "metadata": {
      "needs_background": "light"
     },
     "output_type": "display_data"
    }
   ],
   "source": [
    "plt.plot(history_2.history['accuracy'], label = \"acc_mod_2\")\n",
    "plt.plot(history_2.history['val_accuracy'], label = \"val_acc_mod_2\")\n",
    "plt.xlabel(\"Epochs\")\n",
    "plt.ylabel(\"Loss\")\n",
    "plt.legend()\n",
    "plt.show()\n",
    "\n",
    "plt.plot(history_2.history['loss'], label = \"loss\")\n",
    "plt.plot(history_2.history['val_loss'], label = \"val_loss\")\n",
    "plt.xlabel(\"Epochs\")\n",
    "plt.ylabel(\"Loss\")\n",
    "plt.legend()\n",
    "plt.show()"
   ]
  },
  {
   "cell_type": "markdown",
   "id": "fbc4627e",
   "metadata": {},
   "source": [
    "Using the GlobalAveragePooling1D & Convolution1D layers"
   ]
  },
  {
   "cell_type": "code",
   "execution_count": 21,
   "id": "3fbbf8ba",
   "metadata": {},
   "outputs": [
    {
     "name": "stdout",
     "output_type": "stream",
     "text": [
      "Model: \"sequential_2\"\n",
      "_________________________________________________________________\n",
      " Layer (type)                Output Shape              Param #   \n",
      "=================================================================\n",
      " embedding_2 (Embedding)     (None, 100, 16)           160000    \n",
      "                                                                 \n",
      " conv1d (Conv1D)             (None, 98, 200)           9800      \n",
      "                                                                 \n",
      " global_average_pooling1d_2   (None, 200)              0         \n",
      " (GlobalAveragePooling1D)                                        \n",
      "                                                                 \n",
      " dense_6 (Dense)             (None, 150)               30150     \n",
      "                                                                 \n",
      " dense_7 (Dense)             (None, 100)               15100     \n",
      "                                                                 \n",
      " dense_8 (Dense)             (None, 50)                5050      \n",
      "                                                                 \n",
      " dropout_1 (Dropout)         (None, 50)                0         \n",
      "                                                                 \n",
      " dense_9 (Dense)             (None, 1)                 51        \n",
      "                                                                 \n",
      "=================================================================\n",
      "Total params: 220,151\n",
      "Trainable params: 220,151\n",
      "Non-trainable params: 0\n",
      "_________________________________________________________________\n",
      "INFO:tensorflow:Assets written to: /models/model_3\\assets\n",
      "Epoch 1/100\n",
      "625/625 - 4s - loss: 0.6099 - accuracy: 0.6331 - val_loss: 0.4839 - val_accuracy: 0.7680 - lr: 0.0010 - 4s/epoch - 6ms/step\n",
      "Epoch 2/100\n",
      "625/625 - 3s - loss: 0.3963 - accuracy: 0.8219 - val_loss: 0.4719 - val_accuracy: 0.7771 - lr: 0.0010 - 3s/epoch - 5ms/step\n",
      "Epoch 3/100\n",
      "625/625 - 3s - loss: 0.2907 - accuracy: 0.8788 - val_loss: 0.4540 - val_accuracy: 0.7988 - lr: 0.0010 - 3s/epoch - 5ms/step\n",
      "Epoch 4/100\n",
      "625/625 - 3s - loss: 0.2170 - accuracy: 0.9182 - val_loss: 0.5266 - val_accuracy: 0.7914 - lr: 0.0010 - 3s/epoch - 6ms/step\n",
      "Epoch 5/100\n",
      "625/625 - 4s - loss: 0.1618 - accuracy: 0.9446 - val_loss: 0.6042 - val_accuracy: 0.7881 - lr: 0.0010 - 4s/epoch - 6ms/step\n",
      "Epoch 6/100\n",
      "625/625 - 4s - loss: 0.1114 - accuracy: 0.9650 - val_loss: 0.6721 - val_accuracy: 0.7840 - lr: 0.0010 - 4s/epoch - 6ms/step\n",
      "Epoch 7/100\n",
      "625/625 - 4s - loss: 0.0780 - accuracy: 0.9783 - val_loss: 0.7577 - val_accuracy: 0.7828 - lr: 0.0010 - 4s/epoch - 6ms/step\n",
      "Epoch 8/100\n",
      "625/625 - 4s - loss: 0.0576 - accuracy: 0.9854 - val_loss: 0.8630 - val_accuracy: 0.7782 - lr: 0.0010 - 4s/epoch - 6ms/step\n",
      "Epoch 9/100\n",
      "625/625 - 4s - loss: 0.0457 - accuracy: 0.9882 - val_loss: 0.9072 - val_accuracy: 0.7758 - lr: 0.0010 - 4s/epoch - 7ms/step\n",
      "Epoch 10/100\n",
      "625/625 - 4s - loss: 0.0379 - accuracy: 0.9903 - val_loss: 0.9989 - val_accuracy: 0.7769 - lr: 0.0010 - 4s/epoch - 6ms/step\n"
     ]
    }
   ],
   "source": [
    "from keras.models import Sequential\n",
    "from keras.layers import Dense, GlobalAveragePooling1D, Convolution1D\n",
    "from keras.callbacks import LearningRateScheduler, ModelCheckpoint\n",
    "\n",
    "# define function for lerning rate schedule \n",
    "def scheduler(epoch, lr): \n",
    "      if epoch < 10:\n",
    "        return lr\n",
    "      else:\n",
    "        return lr * tf.math.exp(-0.1)\n",
    "max_epochs = 100 # number epochs to use\n",
    "\n",
    "model_3 = Sequential()  # define the model\n",
    "model_3.add(Embedding(max_words, embedding_dim, input_length = max_length))\n",
    "model_3.add(Convolution1D(200,3, activation='relu'))  # add the convolutional Layer\n",
    "model_3.add(GlobalAveragePooling1D())                 # add the average polling\n",
    "model_3.add(Dense(150, activation='relu'))\n",
    "model_3.add(Dense(100, activation='relu'))             # add the dense layers\n",
    "model_3.add(Dense(50, activation='sigmoid'))\n",
    "model_3.add(Dropout(.1))\n",
    "model_3.add(Dense(1, activation='sigmoid'))\n",
    "\n",
    "model_3.compile(loss='binary_crossentropy',optimizer='adam',metrics=['accuracy']) # compile the model\n",
    "\n",
    "model_3.summary() # model summarize\n",
    "\n",
    "save_model3 = model_3.save(\"/models/model_3\") # saving model\n",
    "\n",
    "#use early_stopping\n",
    "early_stopping = EarlyStopping(monitor=\"val_loss\", \n",
    "                               patience=7, \n",
    "                               restore_best_weights=True)\n",
    "# learning rate\n",
    "l_rate = LearningRateScheduler(scheduler)\n",
    "\n",
    "# fit the model\n",
    "history_3 = model_3.fit(x_train, y_train, \n",
    "                    epochs=max_epochs,\n",
    "                    batch_size=32,\n",
    "                    callbacks=[early_stopping,l_rate],\n",
    "                    validation_data=(x_test, y_test),\n",
    "                    verbose=2)"
   ]
  },
  {
   "cell_type": "code",
   "execution_count": 22,
   "id": "a98d5108",
   "metadata": {},
   "outputs": [
    {
     "name": "stdout",
     "output_type": "stream",
     "text": [
      "Train accuracy for Conv: 93.59\n",
      "Test accuracy for  Conv: 79.88\n"
     ]
    }
   ],
   "source": [
    "# model evaluation\n",
    "train_conv_results =model_3.evaluate(x_train, y_train, verbose=0, batch_size=32)\n",
    "test_conv_results = model_3.evaluate(x_test, y_test, verbose=0, batch_size=32)\n",
    "print(f'Train accuracy for Conv: {train_conv_results[1]*100:0.2f}')\n",
    "print(f'Test accuracy for  Conv: {test_conv_results[1]*100:0.2f}')"
   ]
  },
  {
   "cell_type": "code",
   "execution_count": 23,
   "id": "086666b9",
   "metadata": {},
   "outputs": [
    {
     "name": "stdout",
     "output_type": "stream",
     "text": [
      "[[0.03546032]\n",
      " [0.9841269 ]]\n"
     ]
    }
   ],
   "source": [
    "#check the model\n",
    "sentences = ['lesbian consider father indiana amazing one', \"terrifying server whole heartedly care guest dining experience\"]\n",
    "sequencess = token.texts_to_sequences(sentences)\n",
    "\n",
    "padded = pad_sequences(sequencess, maxlen=max_length, padding=padding_type, truncating=trunc_type)\n",
    "\n",
    "# make a prediction\n",
    "pred_3 = model_3.predict(padded)\n",
    "print(pred_3)"
   ]
  },
  {
   "cell_type": "code",
   "execution_count": 24,
   "id": "4485743e",
   "metadata": {},
   "outputs": [
    {
     "data": {
      "image/png": "[encoded data removed]",
      "text/plain": [
       "<Figure size 432x288 with 1 Axes>"
      ]
     },
     "metadata": {
      "needs_background": "light"
     },
     "output_type": "display_data"
    },
    {
     "data": {
      "image/png": "[encoded data removed]",
      "text/plain": [
       "<Figure size 432x288 with 1 Axes>"
      ]
     },
     "metadata": {
      "needs_background": "light"
     },
     "output_type": "display_data"
    }
   ],
   "source": [
    "plt.plot(history_3.history['accuracy'], label = \"acc_m_3\")\n",
    "plt.plot(history_3.history['val_accuracy'], label = \"val_acc_m_3\")\n",
    "\n",
    "plt.xlabel(\"Epochs\")\n",
    "plt.ylabel(\"Accuracy\")\n",
    "plt.legend()\n",
    "plt.show()\n",
    "\n",
    "plt.plot(history_3.history['loss'], label = \"loss_3\")\n",
    "plt.plot(history_3.history['val_loss'], label = \"val_loss_3\")\n",
    "plt.xlabel(\"Epochs\")\n",
    "plt.ylabel(\"Loss\")\n",
    "plt.legend()\n",
    "plt.show()"
   ]
  },
  {
   "cell_type": "code",
   "execution_count": 25,
   "id": "3eb12850",
   "metadata": {},
   "outputs": [
    {
     "data": {
      "image/png": "[encoded data removed]",
      "text/plain": [
       "<Figure size 432x288 with 1 Axes>"
      ]
     },
     "metadata": {
      "needs_background": "light"
     },
     "output_type": "display_data"
    }
   ],
   "source": [
    "plt.plot(history_3.history['accuracy'], label = \"acc_m_3\")\n",
    "plt.plot(history_3.history['val_accuracy'], label = \"val_acc_m_3\")\n",
    "\n",
    "plt.plot(history_2.history['accuracy'], label = \"acc_mod_2\")\n",
    "plt.plot(history_2.history['accuracy'], label = \"val_acc_mod_2\")\n",
    "\n",
    "\n",
    "plt.xlabel(\"Epochs\")\n",
    "plt.ylabel(\"Accuracy\")\n",
    "plt.legend()\n",
    "plt.show()"
   ]
  },
  {
   "cell_type": "code",
   "execution_count": 26,
   "id": "9824ae79",
   "metadata": {},
   "outputs": [
    {
     "name": "stdout",
     "output_type": "stream",
     "text": [
      "Model: \"sequential_3\"\n",
      "_________________________________________________________________\n",
      " Layer (type)                Output Shape              Param #   \n",
      "=================================================================\n",
      " embedding_3 (Embedding)     (None, 100, 64)           640000    \n",
      "                                                                 \n",
      " conv1d_1 (Conv1D)           (None, 98, 128)           24704     \n",
      "                                                                 \n",
      " global_average_pooling1d_3   (None, 128)              0         \n",
      " (GlobalAveragePooling1D)                                        \n",
      "                                                                 \n",
      " dense_10 (Dense)            (None, 24)                3096      \n",
      "                                                                 \n",
      " dropout_2 (Dropout)         (None, 24)                0         \n",
      "                                                                 \n",
      " dense_11 (Dense)            (None, 1)                 25        \n",
      "                                                                 \n",
      "=================================================================\n",
      "Total params: 667,825\n",
      "Trainable params: 667,825\n",
      "Non-trainable params: 0\n",
      "_________________________________________________________________\n",
      "INFO:tensorflow:Assets written to: /models/model_4\\assets\n",
      "Epoch 1/100\n",
      "625/625 - 7s - loss: 0.5708 - accuracy: 0.6901 - val_loss: 0.4592 - val_accuracy: 0.7843 - 7s/epoch - 11ms/step\n",
      "Epoch 2/100\n",
      "625/625 - 7s - loss: 0.3789 - accuracy: 0.8390 - val_loss: 0.4468 - val_accuracy: 0.7928 - 7s/epoch - 11ms/step\n",
      "Epoch 3/100\n",
      "625/625 - 7s - loss: 0.2916 - accuracy: 0.8855 - val_loss: 0.4590 - val_accuracy: 0.7965 - 7s/epoch - 11ms/step\n",
      "Epoch 4/100\n",
      "625/625 - 7s - loss: 0.2299 - accuracy: 0.9152 - val_loss: 0.5129 - val_accuracy: 0.7878 - 7s/epoch - 11ms/step\n",
      "Epoch 5/100\n",
      "625/625 - 7s - loss: 0.1809 - accuracy: 0.9372 - val_loss: 0.5988 - val_accuracy: 0.7872 - 7s/epoch - 10ms/step\n",
      "Epoch 6/100\n",
      "625/625 - 8s - loss: 0.1376 - accuracy: 0.9538 - val_loss: 0.6698 - val_accuracy: 0.7827 - 8s/epoch - 12ms/step\n",
      "Epoch 7/100\n",
      "625/625 - 7s - loss: 0.0997 - accuracy: 0.9688 - val_loss: 0.8003 - val_accuracy: 0.7816 - 7s/epoch - 11ms/step\n"
     ]
    }
   ],
   "source": [
    "from keras.models import Sequential\n",
    "from keras.layers import Dense, GlobalAveragePooling1D, Convolution1D, Dropout\n",
    "from keras.callbacks import LearningRateScheduler, ModelCheckpoint, EarlyStopping\n",
    "\n",
    "  \n",
    "max_epochs = 100 # number epochs to use\n",
    "\n",
    "embedding_dim = 64\n",
    "\n",
    "model_4 = Sequential()  # define the model\n",
    "model_4.add(Embedding(max_words, embedding_dim, input_length = max_length))\n",
    "model_4.add(Convolution1D(128,3, activation='relu'))  # add the convolutional Layer\n",
    "model_4.add(GlobalAveragePooling1D())                 # add the average polling\n",
    "model_4.add(Dense(24, activation='relu'))             # add the dense layers\n",
    "model_4.add(Dropout(0.25))                            # add the drop out layer\n",
    "model_4.add(Dense(1, activation='sigmoid'))\n",
    "\n",
    "model_4.compile(loss='binary_crossentropy',optimizer='adam',metrics=['accuracy']) # compile the model\n",
    "\n",
    "model_4.summary() # model summarize\n",
    "\n",
    "save_model4 = model_4.save(\"/models/model_4\") # saving model\n",
    "\n",
    "early_stopping = EarlyStopping(monitor=\"val_loss\", \n",
    "                               patience=5, \n",
    "                               restore_best_weights=True)\n",
    "\n",
    "# fit the model\n",
    "history_4 = model_4.fit(x_train, y_train, \n",
    "                        epochs=max_epochs,\n",
    "                        batch_size=32, \n",
    "                        validation_data=(x_test, y_test),\n",
    "                        callbacks=[early_stopping],\n",
    "                        verbose=2)"
   ]
  },
  {
   "cell_type": "code",
   "execution_count": 27,
   "id": "8aa65163",
   "metadata": {},
   "outputs": [
    {
     "name": "stdout",
     "output_type": "stream",
     "text": [
      "Train accuracy for Conv2: 90.61\n",
      "Test accuracy for  Conv2: 79.28\n"
     ]
    }
   ],
   "source": [
    "# model evaluation\n",
    "train_conv2_results =model_4.evaluate(x_train, y_train, verbose=0, batch_size=32)\n",
    "test_conv2_results = model_4.evaluate(x_test, y_test, verbose=0, batch_size=32)\n",
    "print(f'Train accuracy for Conv2: {train_conv2_results[1]*100:0.2f}')\n",
    "print(f'Test accuracy for  Conv2: {test_conv2_results[1]*100:0.2f}')"
   ]
  },
  {
   "cell_type": "code",
   "execution_count": 28,
   "id": "f220013b",
   "metadata": {},
   "outputs": [
    {
     "name": "stdout",
     "output_type": "stream",
     "text": [
      "[[0.11796293]\n",
      " [0.98103034]]\n"
     ]
    }
   ],
   "source": [
    "#check the model\n",
    "sentences = ['lesbian consider father indiana amazing one', \"terrifying server whole heartedly care guest dining experience\"]\n",
    "sequencess = token.texts_to_sequences(sentences)\n",
    "\n",
    "padded = pad_sequences(sequencess, maxlen=max_length, padding=padding_type, truncating=trunc_type)\n",
    "\n",
    "# make a prediction\n",
    "pred_4 = model_4.predict(padded)\n",
    "print(pred_4)"
   ]
  },
  {
   "cell_type": "code",
   "execution_count": 29,
   "id": "e7769f8b",
   "metadata": {},
   "outputs": [
    {
     "data": {
      "image/png": "[encoded data removed]",
      "text/plain": [
       "<Figure size 432x288 with 1 Axes>"
      ]
     },
     "metadata": {
      "needs_background": "light"
     },
     "output_type": "display_data"
    },
    {
     "data": {
      "image/png": "[encoded data removed]",
      "text/plain": [
       "<Figure size 432x288 with 1 Axes>"
      ]
     },
     "metadata": {
      "needs_background": "light"
     },
     "output_type": "display_data"
    }
   ],
   "source": [
    "plt.plot(history_4.history['accuracy'], label = \"acc_m_4\")\n",
    "plt.plot(history_4.history['val_accuracy'], label = \"val_acc_m_4\")\n",
    "plt.xlabel(\"Epochs\")\n",
    "plt.ylabel(\"Accuracy\")\n",
    "plt.legend()\n",
    "plt.show()\n",
    "\n",
    "plt.plot(history_4.history['loss'], label = \"loss_4\")\n",
    "plt.plot(history_4.history['val_loss'], label = \"val_loss_4\")\n",
    "plt.xlabel(\"Epochs\")\n",
    "plt.ylabel(\"Loss\")\n",
    "plt.legend()\n",
    "plt.show()\n"
   ]
  },
  {
   "cell_type": "markdown",
   "id": "4fbca2f2",
   "metadata": {},
   "source": [
    "**SimpleRNN**"
   ]
  },
  {
   "cell_type": "code",
   "execution_count": 30,
   "id": "f6f58397",
   "metadata": {},
   "outputs": [
    {
     "name": "stdout",
     "output_type": "stream",
     "text": [
      "Model: \"sequential_4\"\n",
      "_________________________________________________________________\n",
      " Layer (type)                Output Shape              Param #   \n",
      "=================================================================\n",
      " embedding_4 (Embedding)     (None, 100, 64)           640000    \n",
      "                                                                 \n",
      " simple_rnn (SimpleRNN)      (None, 100, 64)           8256      \n",
      "                                                                 \n",
      " simple_rnn_1 (SimpleRNN)    (None, 32)                3104      \n",
      "                                                                 \n",
      " dense_12 (Dense)            (None, 16)                528       \n",
      "                                                                 \n",
      " dropout_3 (Dropout)         (None, 16)                0         \n",
      "                                                                 \n",
      " dense_13 (Dense)            (None, 1)                 17        \n",
      "                                                                 \n",
      "=================================================================\n",
      "Total params: 651,905\n",
      "Trainable params: 651,905\n",
      "Non-trainable params: 0\n",
      "_________________________________________________________________\n",
      "INFO:tensorflow:Assets written to: /models/model_5\\assets\n",
      "Epoch 1/30\n",
      "625/625 - 19s - loss: 0.6928 - accuracy: 0.5212 - val_loss: 0.6921 - val_accuracy: 0.5249 - 19s/epoch - 31ms/step\n",
      "Epoch 2/30\n",
      "625/625 - 19s - loss: 0.6922 - accuracy: 0.5231 - val_loss: 0.6919 - val_accuracy: 0.5249 - 19s/epoch - 31ms/step\n",
      "Epoch 3/30\n",
      "625/625 - 19s - loss: 0.6930 - accuracy: 0.5228 - val_loss: 0.6918 - val_accuracy: 0.5249 - 19s/epoch - 31ms/step\n",
      "Epoch 4/30\n",
      "625/625 - 21s - loss: 0.6921 - accuracy: 0.5226 - val_loss: 0.6915 - val_accuracy: 0.5249 - 21s/epoch - 34ms/step\n",
      "Epoch 5/30\n",
      "625/625 - 19s - loss: 0.6919 - accuracy: 0.5231 - val_loss: 0.6920 - val_accuracy: 0.5249 - 19s/epoch - 30ms/step\n",
      "Epoch 6/30\n",
      "625/625 - 23s - loss: 0.6921 - accuracy: 0.5231 - val_loss: 0.6919 - val_accuracy: 0.5249 - 23s/epoch - 37ms/step\n",
      "Epoch 7/30\n",
      "625/625 - 25s - loss: 0.6921 - accuracy: 0.5231 - val_loss: 0.6919 - val_accuracy: 0.5249 - 25s/epoch - 40ms/step\n",
      "Epoch 8/30\n",
      "625/625 - 23s - loss: 0.6921 - accuracy: 0.5231 - val_loss: 0.6919 - val_accuracy: 0.5249 - 23s/epoch - 37ms/step\n",
      "Epoch 9/30\n",
      "625/625 - 23s - loss: 0.6921 - accuracy: 0.5231 - val_loss: 0.6919 - val_accuracy: 0.5249 - 23s/epoch - 37ms/step\n"
     ]
    }
   ],
   "source": [
    "from keras.models import Sequential\n",
    "from keras.layers import Dense, GlobalAveragePooling1D, Convolution1D, Dropout, SimpleRNN\n",
    "from keras.callbacks import LearningRateScheduler, ModelCheckpoint, EarlyStopping\n",
    "\n",
    "\n",
    "max_epochs = 30 # number epochs to use\n",
    "\n",
    "model_5 = Sequential()  # define the model\n",
    "model_5.add(Embedding(max_words, embedding_dim, input_length = max_length))\n",
    "model_5.add(SimpleRNN(64, return_sequences=True)) # add the RNN Layer\n",
    "model_5.add(SimpleRNN(32))\n",
    "model_5.add(Dense(16, activation='relu'))             # add the dense layers   \n",
    "model_5.add(Dropout(0.25)) \n",
    "model_5.add(Dense(1, activation='sigmoid'))\n",
    "\n",
    "# compile the mode\n",
    "model_5.compile(loss='binary_crossentropy',optimizer='adam',metrics=['accuracy'])\n",
    "\n",
    "model_5.summary() # model summarize\n",
    "\n",
    "save_model_5 = model_5.save(\"/models/model_5\") # saving model\n",
    "\n",
    "early_stopping = EarlyStopping(monitor=\"val_loss\", \n",
    "                               patience=5, \n",
    "                               restore_best_weights=True)\n",
    "# fit the model\n",
    "history_5 = model_5.fit(x_train, y_train, \n",
    "                        epochs=max_epochs,\n",
    "                        batch_size=32, \n",
    "                        validation_data=(x_test, y_test),\n",
    "                        callbacks=[early_stopping],\n",
    "                        verbose=2)"
   ]
  },
  {
   "cell_type": "code",
   "execution_count": 31,
   "id": "fd4f642b",
   "metadata": {
    "scrolled": true
   },
   "outputs": [
    {
     "name": "stdout",
     "output_type": "stream",
     "text": [
      "Train accuracy for SRNN: 52.31\n",
      "Test accuracy for  SRNN: 52.49\n"
     ]
    }
   ],
   "source": [
    "# model evaluation\n",
    "train_SRNN_results =model_5.evaluate(x_train, y_train, verbose=0, batch_size=32)\n",
    "test_SRNN_results = model_5.evaluate(x_test, y_test, verbose=0, batch_size=32)\n",
    "print(f'Train accuracy for SRNN: {train_SRNN_results[1]*100:0.2f}')\n",
    "print(f'Test accuracy for  SRNN: {test_SRNN_results[1]*100:0.2f}')"
   ]
  },
  {
   "cell_type": "code",
   "execution_count": 32,
   "id": "8b866211",
   "metadata": {},
   "outputs": [
    {
     "name": "stdout",
     "output_type": "stream",
     "text": [
      "WARNING:tensorflow:5 out of the last 5 calls to <function Model.make_predict_function.<locals>.predict_function at 0x000001D7A3BF0430> triggered tf.function retracing. Tracing is expensive and the excessive number of tracings could be due to (1) creating @tf.function repeatedly in a loop, (2) passing tensors with different shapes, (3) passing Python objects instead of tensors. For (1), please define your @tf.function outside of the loop. For (2), @tf.function has experimental_relax_shapes=True option that relaxes argument shapes that can avoid unnecessary retracing. For (3), please refer to https://www.tensorflow.org/guide/function#controlling_retracing and https://www.tensorflow.org/api_docs/python/tf/function for  more details.\n",
      "[[0.47722352]\n",
      " [0.47296005]]\n"
     ]
    }
   ],
   "source": [
    "#check the model\n",
    "sentences = ['lesbian consider father indiana amazing one', \"terrifying server whole heartedly care guest dining experience\"]\n",
    "sequencess = token.texts_to_sequences(sentences)\n",
    "\n",
    "padded = pad_sequences(sequencess, maxlen=max_length, padding=padding_type, truncating=trunc_type)\n",
    "\n",
    "# make a prediction\n",
    "pred_5 = model_5.predict(padded)\n",
    "print(pred_5)"
   ]
  },
  {
   "cell_type": "code",
   "execution_count": 33,
   "id": "d67ef21f",
   "metadata": {},
   "outputs": [
    {
     "data": {
      "image/png": "[encoded data removed]",
      "text/plain": [
       "<Figure size 432x288 with 1 Axes>"
      ]
     },
     "metadata": {
      "needs_background": "light"
     },
     "output_type": "display_data"
    },
    {
     "data": {
      "image/png": "[encoded data removed]",
      "text/plain": [
       "<Figure size 432x288 with 1 Axes>"
      ]
     },
     "metadata": {
      "needs_background": "light"
     },
     "output_type": "display_data"
    }
   ],
   "source": [
    "plt.plot(history_5.history['accuracy'], label = \"acc_m_5\")\n",
    "plt.plot(history_5.history['val_accuracy'], label = \"val_acc_m_5\")\n",
    "plt.xlabel(\"Epochs\")\n",
    "plt.ylabel(\"Accuracy\")\n",
    "plt.legend()\n",
    "plt.show()\n",
    "\n",
    "plt.plot(history_5.history['loss'], label = \"loss_5\")\n",
    "plt.plot(history_5.history['val_loss'], label = \"val_loss_5\")\n",
    "plt.xlabel(\"Epochs\")\n",
    "plt.ylabel(\"Loss\")\n",
    "plt.legend()\n",
    "plt.show()\n"
   ]
  },
  {
   "cell_type": "markdown",
   "id": "58b1b572",
   "metadata": {},
   "source": [
    "**SimpleRNN & Bidirectional**"
   ]
  },
  {
   "cell_type": "code",
   "execution_count": 34,
   "id": "b8071ab3",
   "metadata": {},
   "outputs": [
    {
     "name": "stdout",
     "output_type": "stream",
     "text": [
      "Model: \"sequential_5\"\n",
      "_________________________________________________________________\n",
      " Layer (type)                Output Shape              Param #   \n",
      "=================================================================\n",
      " embedding_5 (Embedding)     (None, 100, 64)           640000    \n",
      "                                                                 \n",
      " bidirectional (Bidirectiona  (None, 100, 128)         16512     \n",
      " l)                                                              \n",
      "                                                                 \n",
      " simple_rnn_3 (SimpleRNN)    (None, 32)                5152      \n",
      "                                                                 \n",
      " dense_14 (Dense)            (None, 32)                1056      \n",
      "                                                                 \n",
      " dense_15 (Dense)            (None, 1)                 33        \n",
      "                                                                 \n",
      "=================================================================\n",
      "Total params: 662,753\n",
      "Trainable params: 662,753\n",
      "Non-trainable params: 0\n",
      "_________________________________________________________________\n",
      "INFO:tensorflow:Assets written to: /models/model_6\\assets\n",
      "Epoch 1/50\n",
      "625/625 - 33s - loss: 0.6919 - accuracy: 0.5271 - val_loss: 0.6735 - val_accuracy: 0.5800 - 33s/epoch - 53ms/step\n",
      "Epoch 2/50\n",
      "625/625 - 31s - loss: 0.6343 - accuracy: 0.6619 - val_loss: 0.6485 - val_accuracy: 0.6428 - 31s/epoch - 50ms/step\n",
      "Epoch 3/50\n",
      "625/625 - 31s - loss: 0.5358 - accuracy: 0.7538 - val_loss: 0.5870 - val_accuracy: 0.7032 - 31s/epoch - 50ms/step\n",
      "Epoch 4/50\n",
      "625/625 - 31s - loss: 0.4528 - accuracy: 0.8060 - val_loss: 0.6102 - val_accuracy: 0.7039 - 31s/epoch - 50ms/step\n",
      "Epoch 5/50\n",
      "625/625 - 31s - loss: 0.4689 - accuracy: 0.7959 - val_loss: 0.6249 - val_accuracy: 0.7007 - 31s/epoch - 50ms/step\n",
      "Epoch 6/50\n",
      "625/625 - 31s - loss: 0.4603 - accuracy: 0.8001 - val_loss: 0.6261 - val_accuracy: 0.7004 - 31s/epoch - 50ms/step\n",
      "Epoch 7/50\n",
      "625/625 - 32s - loss: 0.4602 - accuracy: 0.8005 - val_loss: 0.6222 - val_accuracy: 0.7007 - 32s/epoch - 51ms/step\n",
      "Epoch 8/50\n",
      "625/625 - 32s - loss: 0.4601 - accuracy: 0.8007 - val_loss: 0.6136 - val_accuracy: 0.7003 - 32s/epoch - 51ms/step\n",
      "Epoch 9/50\n",
      "625/625 - 31s - loss: 0.4594 - accuracy: 0.8007 - val_loss: 0.6098 - val_accuracy: 0.7015 - 31s/epoch - 50ms/step\n",
      "Epoch 10/50\n",
      "625/625 - 31s - loss: 0.4599 - accuracy: 0.8008 - val_loss: 0.6093 - val_accuracy: 0.7032 - 31s/epoch - 50ms/step\n"
     ]
    }
   ],
   "source": [
    "from keras.models import Sequential\n",
    "from keras.layers import Dense, GlobalAveragePooling1D, Convolution1D, Dropout, SimpleRNN, Bidirectional\n",
    "from keras.callbacks import LearningRateScheduler, ModelCheckpoint, EarlyStopping\n",
    "\n",
    "max_epochs = 50 # number epochs to use\n",
    "\n",
    "model_6 = Sequential()  # define the model\n",
    "model_6.add(Embedding(max_words, embedding_dim, input_length = max_length))\n",
    "model_6.add(Bidirectional(SimpleRNN(64, return_sequences=True))) # add the RNN Layer\n",
    "model_6.add(SimpleRNN(32))  \n",
    "model_6.add(Dense(32, activation='relu'))             # add the dense layers                   \n",
    "model_6.add(Dense(1, activation='sigmoid'))\n",
    "\n",
    "# compile the model\n",
    "model_6.compile(loss='binary_crossentropy',optimizer='adam',metrics=['accuracy'])\n",
    "model_6.summary() # model summarize\n",
    "\n",
    "save_model6 = model_6.save(\"/models/model_6\") # saving model\n",
    "\n",
    "early_stopping = EarlyStopping(monitor=\"val_loss\", \n",
    "                               patience=7, \n",
    "                               restore_best_weights=True)\n",
    "# fit the model\n",
    "history_6 = model_6.fit(x_train, y_train, \n",
    "                        epochs=max_epochs,\n",
    "                        batch_size=32, \n",
    "                        validation_data=(x_test, y_test),\n",
    "                        callbacks=[early_stopping],\n",
    "                        verbose=2)"
   ]
  },
  {
   "cell_type": "code",
   "execution_count": 35,
   "id": "5a84ffb4",
   "metadata": {},
   "outputs": [
    {
     "name": "stdout",
     "output_type": "stream",
     "text": [
      "Train accuracy for SRNN_Bidirectional: 80.92\n",
      "Test accuracy for  SRNN_Bidirectional: 70.32\n"
     ]
    }
   ],
   "source": [
    "# model evaluation\n",
    "train_SRNN_Bid_results =model_6.evaluate(x_train, y_train, verbose=0, batch_size=32)\n",
    "test_SRNN_Bid_results = model_6.evaluate(x_test, y_test, verbose=0, batch_size=32)\n",
    "print(f'Train accuracy for SRNN_Bidirectional: {train_SRNN_Bid_results[1]*100:0.2f}')\n",
    "print(f'Test accuracy for  SRNN_Bidirectional: {test_SRNN_Bid_results[1]*100:0.2f}')"
   ]
  },
  {
   "cell_type": "code",
   "execution_count": 36,
   "id": "f8c76d5c",
   "metadata": {},
   "outputs": [
    {
     "name": "stdout",
     "output_type": "stream",
     "text": [
      "WARNING:tensorflow:6 out of the last 6 calls to <function Model.make_predict_function.<locals>.predict_function at 0x000001D7A3F34F70> triggered tf.function retracing. Tracing is expensive and the excessive number of tracings could be due to (1) creating @tf.function repeatedly in a loop, (2) passing tensors with different shapes, (3) passing Python objects instead of tensors. For (1), please define your @tf.function outside of the loop. For (2), @tf.function has experimental_relax_shapes=True option that relaxes argument shapes that can avoid unnecessary retracing. For (3), please refer to https://www.tensorflow.org/guide/function#controlling_retracing and https://www.tensorflow.org/api_docs/python/tf/function for  more details.\n",
      "[[0.22997513]\n",
      " [0.29760385]]\n"
     ]
    }
   ],
   "source": [
    "#check the model\n",
    "sentences = ['lesbian consider father indiana amazing one', \"terrifying server whole heartedly care guest dining experience\"]\n",
    "sequencess = token.texts_to_sequences(sentences)\n",
    "\n",
    "padded = pad_sequences(sequencess, maxlen=max_length, padding=padding_type, truncating=trunc_type)\n",
    "\n",
    "# make a prediction\n",
    "pred_6 = model_6.predict(padded)\n",
    "print(pred_6)"
   ]
  },
  {
   "cell_type": "code",
   "execution_count": 37,
   "id": "bb60d5ab",
   "metadata": {},
   "outputs": [
    {
     "data": {
      "image/png": "[encoded data removed]",
      "text/plain": [
       "<Figure size 432x288 with 1 Axes>"
      ]
     },
     "metadata": {
      "needs_background": "light"
     },
     "output_type": "display_data"
    },
    {
     "data": {
      "image/png": "[encoded data removed]",
      "text/plain": [
       "<Figure size 432x288 with 1 Axes>"
      ]
     },
     "metadata": {
      "needs_background": "light"
     },
     "output_type": "display_data"
    }
   ],
   "source": [
    "plt.plot(history_6.history['accuracy'], label = \"acc_m_6\")\n",
    "plt.plot(history_6.history['val_accuracy'], label = \"val_acc_m_6\")\n",
    "plt.xlabel(\"Epochs\")\n",
    "plt.ylabel(\"Accuracy\")\n",
    "plt.legend()\n",
    "plt.show()\n",
    "\n",
    "plt.plot(history_6.history['loss'], label = \"loss_6\")\n",
    "plt.plot(history_6.history['val_loss'], label = \"val_loss_6\")\n",
    "plt.xlabel(\"Epochs\")\n",
    "plt.ylabel(\"Loss\")\n",
    "plt.legend()\n",
    "plt.show()"
   ]
  },
  {
   "cell_type": "markdown",
   "id": "76d1ddf4",
   "metadata": {},
   "source": [
    "**LSTM**"
   ]
  },
  {
   "cell_type": "code",
   "execution_count": 38,
   "id": "284a1d74",
   "metadata": {},
   "outputs": [
    {
     "name": "stdout",
     "output_type": "stream",
     "text": [
      "Model: \"sequential_6\"\n",
      "_________________________________________________________________\n",
      " Layer (type)                Output Shape              Param #   \n",
      "=================================================================\n",
      " embedding_6 (Embedding)     (None, 100, 64)           640000    \n",
      "                                                                 \n",
      " bidirectional_1 (Bidirectio  (None, 64)               24832     \n",
      " nal)                                                            \n",
      "                                                                 \n",
      " dense_16 (Dense)            (None, 24)                1560      \n",
      "                                                                 \n",
      " dense_17 (Dense)            (None, 1)                 25        \n",
      "                                                                 \n",
      "=================================================================\n",
      "Total params: 666,417\n",
      "Trainable params: 666,417\n",
      "Non-trainable params: 0\n",
      "_________________________________________________________________\n"
     ]
    },
    {
     "name": "stderr",
     "output_type": "stream",
     "text": [
      "WARNING:absl:Found untraced functions such as lstm_cell_1_layer_call_fn, lstm_cell_1_layer_call_and_return_conditional_losses, lstm_cell_2_layer_call_fn, lstm_cell_2_layer_call_and_return_conditional_losses, lstm_cell_1_layer_call_fn while saving (showing 5 of 10). These functions will not be directly callable after loading.\n"
     ]
    },
    {
     "name": "stdout",
     "output_type": "stream",
     "text": [
      "INFO:tensorflow:Assets written to: /models/model_7\\assets\n"
     ]
    },
    {
     "name": "stderr",
     "output_type": "stream",
     "text": [
      "INFO:tensorflow:Assets written to: /models/model_7\\assets\n",
      "WARNING:absl:<keras.layers.recurrent.LSTMCell object at 0x000001D7B7DDB3D0> has the same name 'LSTMCell' as a built-in Keras object. Consider renaming <class 'keras.layers.recurrent.LSTMCell'> to avoid naming conflicts when loading with `tf.keras.models.load_model`. If renaming is not possible, pass the object in the `custom_objects` parameter of the load function.\n",
      "WARNING:absl:<keras.layers.recurrent.LSTMCell object at 0x000001D7B7DB4D90> has the same name 'LSTMCell' as a built-in Keras object. Consider renaming <class 'keras.layers.recurrent.LSTMCell'> to avoid naming conflicts when loading with `tf.keras.models.load_model`. If renaming is not possible, pass the object in the `custom_objects` parameter of the load function.\n"
     ]
    },
    {
     "name": "stdout",
     "output_type": "stream",
     "text": [
      "Epoch 1/30\n",
      "625/625 - 25s - loss: 0.4990 - accuracy: 0.7448 - val_loss: 0.4187 - val_accuracy: 0.8091 - 25s/epoch - 41ms/step\n",
      "Epoch 2/30\n",
      "625/625 - 24s - loss: 0.2950 - accuracy: 0.8767 - val_loss: 0.4294 - val_accuracy: 0.8079 - 24s/epoch - 39ms/step\n",
      "Epoch 3/30\n",
      "625/625 - 23s - loss: 0.1980 - accuracy: 0.9232 - val_loss: 0.5154 - val_accuracy: 0.7946 - 23s/epoch - 38ms/step\n",
      "Epoch 4/30\n",
      "625/625 - 24s - loss: 0.1414 - accuracy: 0.9467 - val_loss: 0.5804 - val_accuracy: 0.7906 - 24s/epoch - 39ms/step\n",
      "Epoch 5/30\n",
      "625/625 - 23s - loss: 0.0991 - accuracy: 0.9633 - val_loss: 0.6949 - val_accuracy: 0.7864 - 23s/epoch - 37ms/step\n",
      "Epoch 6/30\n",
      "625/625 - 24s - loss: 0.0706 - accuracy: 0.9743 - val_loss: 0.8578 - val_accuracy: 0.7884 - 24s/epoch - 39ms/step\n",
      "Epoch 7/30\n",
      "625/625 - 23s - loss: 0.0498 - accuracy: 0.9810 - val_loss: 1.0587 - val_accuracy: 0.7755 - 23s/epoch - 38ms/step\n",
      "Epoch 8/30\n",
      "625/625 - 24s - loss: 0.0365 - accuracy: 0.9863 - val_loss: 1.1515 - val_accuracy: 0.7764 - 24s/epoch - 39ms/step\n"
     ]
    }
   ],
   "source": [
    "from keras.models import Sequential\n",
    "from keras.layers import Dense, GlobalAveragePooling1D, Convolution1D, Dropout, LSTM, Bidirectional\n",
    "from keras.callbacks import LearningRateScheduler, ModelCheckpoint\n",
    "\n",
    "max_epochs = 30 # number epochs to use\n",
    "\n",
    "model_7 = Sequential()  # define the model\n",
    "model_7.add(Embedding(max_words, embedding_dim, input_length = max_length))\n",
    "model_7.add(Bidirectional(LSTM(32)))  # add the Bidirectional & Long Short-Term Memory Layer\n",
    "model_7.add(Dense(24, activation='relu'))             # add the dense layers\n",
    "#model_7.add(Dropout(0.5))                            # add the drop out layer\n",
    "model_7.add(Dense(1, activation='sigmoid'))\n",
    "\n",
    "model_7.compile(loss='binary_crossentropy',optimizer='adam',metrics=['accuracy']) # compile the model\n",
    "\n",
    "model_7.summary() # model summarize\n",
    "\n",
    "save_model7 = model_7.save(\"/models/model_7\") # saving model\n",
    "#lrate = LearningRateScheduler(scheduler)\n",
    "early_stopping = EarlyStopping(monitor=\"val_loss\", \n",
    "                               patience=7, \n",
    "                               restore_best_weights=True)\n",
    "\n",
    "# fit the model\n",
    "history_7 = model_7.fit(x_train, y_train, \n",
    "                          epochs=max_epochs,\n",
    "                          batch_size=32,\n",
    "                          validation_data=(x_test, y_test),\n",
    "                          callbacks=[early_stopping],\n",
    "                          verbose=2)"
   ]
  },
  {
   "cell_type": "code",
   "execution_count": 39,
   "id": "ba2363a8",
   "metadata": {},
   "outputs": [
    {
     "name": "stdout",
     "output_type": "stream",
     "text": [
      "Train accuracy for LSTM: 89.96\n",
      "Test accuracy for LSTM: 80.91\n"
     ]
    }
   ],
   "source": [
    "# model evaluation\n",
    "train_LSTM_results =model_7.evaluate(x_train, y_train, verbose=0, batch_size=32)\n",
    "test_LSTM_results = model_7.evaluate(x_test, y_test, verbose=0, batch_size=32)\n",
    "print(f'Train accuracy for LSTM: {train_LSTM_results[1]*100:0.2f}')\n",
    "print(f'Test accuracy for LSTM: {test_LSTM_results[1]*100:0.2f}')"
   ]
  },
  {
   "cell_type": "code",
   "execution_count": 40,
   "id": "b88da977",
   "metadata": {},
   "outputs": [
    {
     "name": "stdout",
     "output_type": "stream",
     "text": [
      "[[0.15389842]\n",
      " [0.95396197]]\n"
     ]
    }
   ],
   "source": [
    "#check the model\n",
    "sentences = ['lesbian consider father indiana amazing one', \"terrifying server whole heartedly care guest dining experience\"]\n",
    "sequencess = token.texts_to_sequences(sentences)\n",
    "\n",
    "padded = pad_sequences(sequencess, maxlen=max_length, padding=padding_type, truncating=trunc_type)\n",
    "\n",
    "# make a prediction\n",
    "pred_7 = model_7.predict(padded)\n",
    "print(pred_7)"
   ]
  },
  {
   "cell_type": "code",
   "execution_count": 41,
   "id": "f21a8b9e",
   "metadata": {},
   "outputs": [
    {
     "data": {
      "image/png": "[encoded data removed]",
      "text/plain": [
       "<Figure size 432x288 with 1 Axes>"
      ]
     },
     "metadata": {
      "needs_background": "light"
     },
     "output_type": "display_data"
    },
    {
     "data": {
      "image/png": "[encoded data removed]",
      "text/plain": [
       "<Figure size 432x288 with 1 Axes>"
      ]
     },
     "metadata": {
      "needs_background": "light"
     },
     "output_type": "display_data"
    }
   ],
   "source": [
    "plt.plot(history_7.history['accuracy'], label = \"acc_m_7\")\n",
    "plt.plot(history_7.history['val_accuracy'], label = \"val_acc_m_7\")\n",
    "plt.xlabel(\"Epochs\")\n",
    "plt.ylabel(\"Accuracy\")\n",
    "plt.legend()\n",
    "plt.show()\n",
    "\n",
    "plt.plot(history_7.history['loss'], label = \"loss_7\")\n",
    "plt.plot(history_7.history['val_loss'], label = \"val_loss_7\")\n",
    "plt.xlabel(\"Epochs\")\n",
    "plt.ylabel(\"Loss\")\n",
    "plt.legend()\n",
    "plt.show()"
   ]
  },
  {
   "cell_type": "markdown",
   "id": "06ad6ec8",
   "metadata": {},
   "source": [
    "**GRU**"
   ]
  },
  {
   "cell_type": "code",
   "execution_count": 45,
   "id": "8f0e8fcc",
   "metadata": {},
   "outputs": [
    {
     "name": "stdout",
     "output_type": "stream",
     "text": [
      "Model: \"sequential_8\"\n",
      "_________________________________________________________________\n",
      " Layer (type)                Output Shape              Param #   \n",
      "=================================================================\n",
      " embedding_8 (Embedding)     (None, 100, 64)           640000    \n",
      "                                                                 \n",
      " gru_1 (GRU)                 (None, 100, 50)           17400     \n",
      "                                                                 \n",
      " flatten_1 (Flatten)         (None, 5000)              0         \n",
      "                                                                 \n",
      " dense_20 (Dense)            (None, 25)                125025    \n",
      "                                                                 \n",
      " dropout_5 (Dropout)         (None, 25)                0         \n",
      "                                                                 \n",
      " dense_21 (Dense)            (None, 1)                 26        \n",
      "                                                                 \n",
      "=================================================================\n",
      "Total params: 782,451\n",
      "Trainable params: 782,451\n",
      "Non-trainable params: 0\n",
      "_________________________________________________________________\n"
     ]
    },
    {
     "name": "stderr",
     "output_type": "stream",
     "text": [
      "WARNING:absl:Found untraced functions such as gru_cell_1_layer_call_fn, gru_cell_1_layer_call_and_return_conditional_losses, gru_cell_1_layer_call_fn, gru_cell_1_layer_call_and_return_conditional_losses, gru_cell_1_layer_call_and_return_conditional_losses while saving (showing 5 of 5). These functions will not be directly callable after loading.\n"
     ]
    },
    {
     "name": "stdout",
     "output_type": "stream",
     "text": [
      "INFO:tensorflow:Assets written to: /models/model_8\\assets\n"
     ]
    },
    {
     "name": "stderr",
     "output_type": "stream",
     "text": [
      "INFO:tensorflow:Assets written to: /models/model_8\\assets\n",
      "WARNING:absl:<keras.layers.recurrent.GRUCell object at 0x000001D7C358B220> has the same name 'GRUCell' as a built-in Keras object. Consider renaming <class 'keras.layers.recurrent.GRUCell'> to avoid naming conflicts when loading with `tf.keras.models.load_model`. If renaming is not possible, pass the object in the `custom_objects` parameter of the load function.\n"
     ]
    },
    {
     "name": "stdout",
     "output_type": "stream",
     "text": [
      "Epoch 1/50\n",
      "625/625 - 15s - loss: 0.5060 - accuracy: 0.7388 - val_loss: 0.4182 - val_accuracy: 0.8064 - 15s/epoch - 24ms/step\n",
      "Epoch 2/50\n",
      "625/625 - 16s - loss: 0.2938 - accuracy: 0.8759 - val_loss: 0.4411 - val_accuracy: 0.8050 - 16s/epoch - 25ms/step\n",
      "Epoch 3/50\n",
      "625/625 - 18s - loss: 0.1907 - accuracy: 0.9268 - val_loss: 0.5179 - val_accuracy: 0.7963 - 18s/epoch - 28ms/step\n",
      "Epoch 4/50\n",
      "625/625 - 16s - loss: 0.1207 - accuracy: 0.9566 - val_loss: 0.6954 - val_accuracy: 0.7899 - 16s/epoch - 26ms/step\n",
      "Epoch 5/50\n",
      "625/625 - 16s - loss: 0.0735 - accuracy: 0.9733 - val_loss: 0.9384 - val_accuracy: 0.7833 - 16s/epoch - 26ms/step\n",
      "Epoch 6/50\n",
      "625/625 - 16s - loss: 0.0427 - accuracy: 0.9851 - val_loss: 1.0403 - val_accuracy: 0.7755 - 16s/epoch - 26ms/step\n",
      "Epoch 7/50\n",
      "625/625 - 17s - loss: 0.0300 - accuracy: 0.9901 - val_loss: 1.2465 - val_accuracy: 0.7729 - 17s/epoch - 27ms/step\n",
      "Epoch 8/50\n",
      "625/625 - 16s - loss: 0.0200 - accuracy: 0.9930 - val_loss: 1.3293 - val_accuracy: 0.7743 - 16s/epoch - 26ms/step\n"
     ]
    }
   ],
   "source": [
    "from keras.models import Sequential\n",
    "from keras.layers import Dense, GlobalAveragePooling1D, GRU, Flatten, Embedding\n",
    "\n",
    "max_epochs = 50 #number epochs to use\n",
    "\n",
    "model_8 = Sequential()\n",
    "model_8.add(Embedding(max_words, embedding_dim, input_length = max_length))\n",
    "model_8.add(GRU(50, activation='tanh',  return_sequences=True)) # add the GRU layer\n",
    "model_8.add(Flatten())                                          # add the Flatten layer\n",
    "model_8.add(Dense(25, activation='relu'))                       # add the Dense layer \n",
    "model_8.add(Dropout(0.25))                                      # add the Dropout layer\n",
    "model_8.add(Dense(1, activation='sigmoid'))\n",
    "\n",
    "model_8.compile(loss='binary_crossentropy',optimizer='adam',metrics=['accuracy'])\n",
    "\n",
    "model_8.summary()\n",
    "\n",
    "early_stopping = EarlyStopping(monitor=\"val_loss\", \n",
    "                               patience=7, \n",
    "                               restore_best_weights=True)\n",
    "\n",
    "save_model_8 = model_8.save(\"/models/model_8\") # saving model\n",
    "lrate = LearningRateScheduler(scheduler)\n",
    "\n",
    "history_8 = model_8.fit(x_train, y_train, \n",
    "                    epochs=max_epochs,\n",
    "                          batch_size=32,\n",
    "                          validation_data=(x_test, y_test),\n",
    "                          callbacks=[early_stopping],\n",
    "                          verbose=2)"
   ]
  },
  {
   "cell_type": "code",
   "execution_count": 46,
   "id": "94db8d28",
   "metadata": {},
   "outputs": [
    {
     "name": "stdout",
     "output_type": "stream",
     "text": [
      "Train accuracy for GRU: 90.50\n",
      "Test accuracy for GRU : 80.64\n"
     ]
    }
   ],
   "source": [
    "# model evaluation\n",
    "train_gru_results =model_8.evaluate(x_train, y_train, verbose=0, batch_size=32)\n",
    "test_gru_results = model_8.evaluate(x_test, y_test, verbose=0, batch_size=32)\n",
    "print(f'Train accuracy for GRU: {train_gru_results[1]*100:0.2f}')\n",
    "print(f'Test accuracy for GRU : {test_gru_results[1]*100:0.2f}')"
   ]
  },
  {
   "cell_type": "code",
   "execution_count": 47,
   "id": "0fc61eb0",
   "metadata": {},
   "outputs": [
    {
     "name": "stdout",
     "output_type": "stream",
     "text": [
      "[[0.17826337]\n",
      " [0.8780551 ]]\n"
     ]
    }
   ],
   "source": [
    "#check the model\n",
    "sentences = ['lesbian consider father indiana amazing one', \"terrifying server whole heartedly care guest dining experience\"]\n",
    "sequencess = token.texts_to_sequences(sentences)\n",
    "\n",
    "padded = pad_sequences(sequencess, maxlen=max_length, padding=padding_type, truncating=trunc_type)\n",
    "\n",
    "# make a prediction\n",
    "pred_8 = model_8.predict(padded)\n",
    "print(pred_8)"
   ]
  },
  {
   "cell_type": "code",
   "execution_count": 48,
   "id": "0397a0a1",
   "metadata": {},
   "outputs": [
    {
     "data": {
      "image/png": "[encoded data removed]",
      "text/plain": [
       "<Figure size 432x288 with 1 Axes>"
      ]
     },
     "metadata": {
      "needs_background": "light"
     },
     "output_type": "display_data"
    }
   ],
   "source": [
    "plt.plot(history_8.history['accuracy'], label = \"acc_mod_8\")\n",
    "plt.plot(history_8.history['val_accuracy'], label = \"val_acc_mod_8\")\n",
    "\n",
    "#plt.plot(Adam_history.history['binary_accuracy'], label = \"acc_mod_2\")\n",
    "#plt.plot(Adam_history.history['val_binary_accuracy'], label = \"val_acc_mod2\")\n",
    "#\n",
    "plt.xlabel(\"Epochs\")\n",
    "plt.ylabel(\"Accuracy\")\n",
    "plt.legend()\n",
    "plt.show()"
   ]
  },
  {
   "cell_type": "markdown",
   "id": "507d9d63",
   "metadata": {},
   "source": [
    "GRU & LearningRateScheduler"
   ]
  },
  {
   "cell_type": "code",
   "execution_count": 49,
   "id": "cdd98b59",
   "metadata": {
    "scrolled": true
   },
   "outputs": [
    {
     "name": "stdout",
     "output_type": "stream",
     "text": [
      "Model: \"sequential_9\"\n",
      "_________________________________________________________________\n",
      " Layer (type)                Output Shape              Param #   \n",
      "=================================================================\n",
      " embedding_9 (Embedding)     (None, 100, 64)           640000    \n",
      "                                                                 \n",
      " gru_2 (GRU)                 (None, 100, 150)          97200     \n",
      "                                                                 \n",
      " flatten_2 (Flatten)         (None, 15000)             0         \n",
      "                                                                 \n",
      " dense_22 (Dense)            (None, 100)               1500100   \n",
      "                                                                 \n",
      " dense_23 (Dense)            (None, 50)                5050      \n",
      "                                                                 \n",
      " dense_24 (Dense)            (None, 1)                 51        \n",
      "                                                                 \n",
      "=================================================================\n",
      "Total params: 2,242,401\n",
      "Trainable params: 2,242,401\n",
      "Non-trainable params: 0\n",
      "_________________________________________________________________\n"
     ]
    },
    {
     "name": "stderr",
     "output_type": "stream",
     "text": [
      "WARNING:absl:Found untraced functions such as gru_cell_2_layer_call_fn, gru_cell_2_layer_call_and_return_conditional_losses, gru_cell_2_layer_call_fn, gru_cell_2_layer_call_and_return_conditional_losses, gru_cell_2_layer_call_and_return_conditional_losses while saving (showing 5 of 5). These functions will not be directly callable after loading.\n"
     ]
    },
    {
     "name": "stdout",
     "output_type": "stream",
     "text": [
      "INFO:tensorflow:Assets written to: /models/model_9\\assets\n"
     ]
    },
    {
     "name": "stderr",
     "output_type": "stream",
     "text": [
      "INFO:tensorflow:Assets written to: /models/model_9\\assets\n",
      "WARNING:absl:<keras.layers.recurrent.GRUCell object at 0x000001D7D6584100> has the same name 'GRUCell' as a built-in Keras object. Consider renaming <class 'keras.layers.recurrent.GRUCell'> to avoid naming conflicts when loading with `tf.keras.models.load_model`. If renaming is not possible, pass the object in the `custom_objects` parameter of the load function.\n"
     ]
    },
    {
     "name": "stdout",
     "output_type": "stream",
     "text": [
      "Epoch 1/50\n",
      "625/625 - 54s - loss: 0.4984 - accuracy: 0.7452 - val_loss: 0.4133 - val_accuracy: 0.8048 - lr: 0.0010 - 54s/epoch - 87ms/step\n",
      "Epoch 2/50\n",
      "625/625 - 59s - loss: 0.2875 - accuracy: 0.8780 - val_loss: 0.4627 - val_accuracy: 0.8000 - lr: 0.0010 - 59s/epoch - 94ms/step\n",
      "Epoch 3/50\n",
      "625/625 - 70s - loss: 0.1872 - accuracy: 0.9280 - val_loss: 0.5302 - val_accuracy: 0.7942 - lr: 0.0010 - 70s/epoch - 111ms/step\n",
      "Epoch 4/50\n",
      "625/625 - 66s - loss: 0.1074 - accuracy: 0.9614 - val_loss: 0.5800 - val_accuracy: 0.7922 - lr: 0.0010 - 66s/epoch - 105ms/step\n",
      "Epoch 5/50\n",
      "625/625 - 66s - loss: 0.0678 - accuracy: 0.9758 - val_loss: 0.7785 - val_accuracy: 0.7847 - lr: 0.0010 - 66s/epoch - 106ms/step\n",
      "Epoch 6/50\n",
      "625/625 - 67s - loss: 0.0402 - accuracy: 0.9858 - val_loss: 1.0122 - val_accuracy: 0.7757 - lr: 0.0010 - 67s/epoch - 107ms/step\n",
      "Epoch 7/50\n",
      "625/625 - 73s - loss: 0.0273 - accuracy: 0.9906 - val_loss: 1.1136 - val_accuracy: 0.7770 - lr: 0.0010 - 73s/epoch - 117ms/step\n",
      "Epoch 8/50\n",
      "625/625 - 77s - loss: 0.0196 - accuracy: 0.9926 - val_loss: 1.4124 - val_accuracy: 0.7739 - lr: 0.0010 - 77s/epoch - 124ms/step\n"
     ]
    }
   ],
   "source": [
    "from keras.models import Sequential\n",
    "from keras.layers import Dense, GlobalAveragePooling1D, GRU, Dropout\n",
    "from keras.callbacks import LearningRateScheduler, ModelCheckpoint\n",
    "\n",
    "# define function for lerning rate schedule \n",
    "def scheduler(epoch, lr): \n",
    "      if epoch < 10:\n",
    "        return lr\n",
    "      else:\n",
    "        return lr * tf.math.exp(-0.1)\n",
    "\n",
    "max_epochs = 50 #number epochs to use\n",
    "\n",
    "model_9 = Sequential()\n",
    "model_9.add(Embedding(max_words, embedding_dim, input_length = max_length))\n",
    "model_9.add(GRU(150, activation='tanh',  return_sequences=True)) # add the GRU layer\n",
    "model_9.add(Flatten())                                          # add the Flatten layer\n",
    "model_9.add(Dense(100, activation='relu'))                       # add the Dense layer\n",
    "model_9.add(Dense(50, activation='relu'))                       # add the Dense layer\n",
    "#model_9.add(Dropout(0.25))                                      # add the Dropout layer\n",
    "model_9.add(Dense(1, activation='sigmoid'))\n",
    "\n",
    "model_9.compile(loss='binary_crossentropy',optimizer='adam',metrics=['accuracy'])\n",
    "\n",
    "model_9.summary()\n",
    "\n",
    "early_stopping = EarlyStopping(monitor=\"val_loss\", \n",
    "                               patience=7, \n",
    "                               restore_best_weights=True)\n",
    "\n",
    "save_model_9 = model_9.save(\"/models/model_9\") # saving model\n",
    "\n",
    "# learning rate\n",
    "l_rate = LearningRateScheduler(scheduler)\n",
    "history_9 = model_9.fit(x_train, y_train, \n",
    "                    epochs=max_epochs,\n",
    "                          batch_size=32,\n",
    "                          validation_data=(x_test, y_test),\n",
    "                          callbacks=[early_stopping,l_rate],\n",
    "                          verbose=2)"
   ]
  },
  {
   "cell_type": "code",
   "execution_count": 50,
   "id": "6d46f700",
   "metadata": {},
   "outputs": [
    {
     "name": "stdout",
     "output_type": "stream",
     "text": [
      "Train accuracy for GRU: 90.34\n",
      "Test accuracy for GRU : 80.48\n"
     ]
    }
   ],
   "source": [
    "# model evaluation\n",
    "train_gru_results =model_9.evaluate(x_train, y_train, verbose=0, batch_size=32)\n",
    "test_gru_results = model_9.evaluate(x_test, y_test, verbose=0, batch_size=32)\n",
    "print(f'Train accuracy for GRU: {train_gru_results[1]*100:0.2f}')\n",
    "print(f'Test accuracy for GRU : {test_gru_results[1]*100:0.2f}')"
   ]
  },
  {
   "cell_type": "code",
   "execution_count": 51,
   "id": "cf70d149",
   "metadata": {},
   "outputs": [
    {
     "name": "stdout",
     "output_type": "stream",
     "text": [
      "[[0.27521688]\n",
      " [0.9515751 ]]\n"
     ]
    }
   ],
   "source": [
    "#check the model\n",
    "sentences = ['lesbian consider father indiana amazing one', \"terrifying server whole heartedly care guest dining experience\"]\n",
    "sequencess = token.texts_to_sequences(sentences)\n",
    "\n",
    "padded = pad_sequences(sequencess, maxlen=max_length, padding=padding_type, truncating=trunc_type)\n",
    "\n",
    "# make a prediction\n",
    "pred_9= model_9.predict(padded)\n",
    "print(pred_9)"
   ]
  },
  {
   "cell_type": "code",
   "execution_count": 52,
   "id": "9eb3307f",
   "metadata": {},
   "outputs": [
    {
     "data": {
      "image/png": "[encoded data removed]",
      "text/plain": [
       "<Figure size 432x288 with 1 Axes>"
      ]
     },
     "metadata": {
      "needs_background": "light"
     },
     "output_type": "display_data"
    },
    {
     "data": {
      "image/png": "[encoded data removed]",
      "text/plain": [
       "<Figure size 432x288 with 1 Axes>"
      ]
     },
     "metadata": {
      "needs_background": "light"
     },
     "output_type": "display_data"
    }
   ],
   "source": [
    "plt.plot(history_9.history['accuracy'], label = \"acc_mod_9\")\n",
    "plt.plot(history_9.history['val_accuracy'], label = \"val_acc_mod_9\")\n",
    "plt.xlabel(\"Epochs\")\n",
    "plt.ylabel(\"Accuracy\")\n",
    "plt.legend()\n",
    "plt.show()\n",
    "\n",
    "plt.plot(history_9.history['loss'], label = \"loss_mod_9\")\n",
    "plt.plot(history_9.history['val_loss'], label = \"val_loss_mod_9\")\n",
    "plt.xlabel(\"Epochs\")\n",
    "plt.ylabel(\"Loss\")\n",
    "plt.legend()\n",
    "plt.show()"
   ]
  },
  {
   "cell_type": "code",
   "execution_count": 62,
   "id": "250806df",
   "metadata": {},
   "outputs": [
    {
     "name": "stdout",
     "output_type": "stream",
     "text": [
      "Model: \"sequential_16\"\n",
      "_________________________________________________________________\n",
      " Layer (type)                Output Shape              Param #   \n",
      "=================================================================\n",
      " embedding_16 (Embedding)    (None, 100, 64)           640000    \n",
      "                                                                 \n",
      " bidirectional_8 (Bidirectio  (None, 100, 200)         99600     \n",
      " nal)                                                            \n",
      "                                                                 \n",
      " flatten_9 (Flatten)         (None, 20000)             0         \n",
      "                                                                 \n",
      " dense_33 (Dense)            (None, 75)                1500075   \n",
      "                                                                 \n",
      " dense_34 (Dense)            (None, 50)                3800      \n",
      "                                                                 \n",
      " dropout_9 (Dropout)         (None, 50)                0         \n",
      "                                                                 \n",
      " dense_35 (Dense)            (None, 1)                 51        \n",
      "                                                                 \n",
      "=================================================================\n",
      "Total params: 2,243,526\n",
      "Trainable params: 1,603,526\n",
      "Non-trainable params: 640,000\n",
      "_________________________________________________________________\n"
     ]
    },
    {
     "name": "stderr",
     "output_type": "stream",
     "text": [
      "WARNING:absl:Found untraced functions such as gru_cell_22_layer_call_fn, gru_cell_22_layer_call_and_return_conditional_losses, gru_cell_23_layer_call_fn, gru_cell_23_layer_call_and_return_conditional_losses, gru_cell_22_layer_call_fn while saving (showing 5 of 10). These functions will not be directly callable after loading.\n"
     ]
    },
    {
     "name": "stdout",
     "output_type": "stream",
     "text": [
      "INFO:tensorflow:Assets written to: /models/model_10\\assets\n"
     ]
    },
    {
     "name": "stderr",
     "output_type": "stream",
     "text": [
      "INFO:tensorflow:Assets written to: /models/model_10\\assets\n",
      "WARNING:absl:<keras.layers.recurrent.GRUCell object at 0x000001D7FE63B7C0> has the same name 'GRUCell' as a built-in Keras object. Consider renaming <class 'keras.layers.recurrent.GRUCell'> to avoid naming conflicts when loading with `tf.keras.models.load_model`. If renaming is not possible, pass the object in the `custom_objects` parameter of the load function.\n",
      "WARNING:absl:<keras.layers.recurrent.GRUCell object at 0x000001D7FE62C610> has the same name 'GRUCell' as a built-in Keras object. Consider renaming <class 'keras.layers.recurrent.GRUCell'> to avoid naming conflicts when loading with `tf.keras.models.load_model`. If renaming is not possible, pass the object in the `custom_objects` parameter of the load function.\n"
     ]
    },
    {
     "name": "stdout",
     "output_type": "stream",
     "text": [
      "Epoch 1/50\n",
      "625/625 - 90s - loss: 0.6466 - accuracy: 0.6193 - val_loss: 0.6270 - val_accuracy: 0.6372 - lr: 0.0010 - 90s/epoch - 143ms/step\n",
      "Epoch 2/50\n",
      "625/625 - 85s - loss: 0.6164 - accuracy: 0.6496 - val_loss: 0.6224 - val_accuracy: 0.6335 - lr: 0.0010 - 85s/epoch - 137ms/step\n",
      "Epoch 3/50\n",
      "625/625 - 87s - loss: 0.6019 - accuracy: 0.6597 - val_loss: 0.6201 - val_accuracy: 0.6387 - lr: 0.0010 - 87s/epoch - 140ms/step\n",
      "Epoch 4/50\n",
      "625/625 - 85s - loss: 0.5869 - accuracy: 0.6712 - val_loss: 0.6033 - val_accuracy: 0.6573 - lr: 0.0010 - 85s/epoch - 137ms/step\n",
      "Epoch 5/50\n",
      "625/625 - 83s - loss: 0.5713 - accuracy: 0.6849 - val_loss: 0.6016 - val_accuracy: 0.6645 - lr: 0.0010 - 83s/epoch - 132ms/step\n",
      "Epoch 6/50\n",
      "625/625 - 83s - loss: 0.5527 - accuracy: 0.6982 - val_loss: 0.6044 - val_accuracy: 0.6678 - lr: 0.0010 - 83s/epoch - 133ms/step\n",
      "Epoch 7/50\n",
      "625/625 - 83s - loss: 0.5238 - accuracy: 0.7242 - val_loss: 0.6260 - val_accuracy: 0.6616 - lr: 0.0010 - 83s/epoch - 132ms/step\n",
      "Epoch 8/50\n",
      "625/625 - 89s - loss: 0.4863 - accuracy: 0.7523 - val_loss: 0.6407 - val_accuracy: 0.6581 - lr: 0.0010 - 89s/epoch - 142ms/step\n",
      "Epoch 9/50\n",
      "625/625 - 89s - loss: 0.4380 - accuracy: 0.7873 - val_loss: 0.6808 - val_accuracy: 0.6544 - lr: 0.0010 - 89s/epoch - 142ms/step\n",
      "Epoch 10/50\n",
      "625/625 - 87s - loss: 0.3759 - accuracy: 0.8274 - val_loss: 0.7696 - val_accuracy: 0.6518 - lr: 0.0010 - 87s/epoch - 140ms/step\n",
      "Epoch 11/50\n",
      "625/625 - 84s - loss: 0.3045 - accuracy: 0.8688 - val_loss: 0.8762 - val_accuracy: 0.6520 - lr: 9.0484e-04 - 84s/epoch - 135ms/step\n",
      "Epoch 12/50\n",
      "625/625 - 84s - loss: 0.2388 - accuracy: 0.9029 - val_loss: 0.9613 - val_accuracy: 0.6420 - lr: 8.1873e-04 - 84s/epoch - 134ms/step\n"
     ]
    }
   ],
   "source": [
    "from keras.models import Sequential\n",
    "from keras.layers import Dense, GlobalAveragePooling1D, GRU, Dropout, MaxPool1D\n",
    "from keras.callbacks import LearningRateScheduler, ModelCheckpoint\n",
    "\n",
    "# define function for lerning rate schedule \n",
    "def scheduler(epoch, lr): \n",
    "      if epoch < 10:\n",
    "        return lr\n",
    "      else:\n",
    "        return lr * tf.math.exp(-0.1)\n",
    "\n",
    "max_epochs = 50 #number epochs to use\n",
    "\n",
    "model_10 = Sequential()\n",
    "model_10.add(Embedding(max_words, embedding_dim, input_length = max_length, trainable = False,mask_zero=True))\n",
    "model_10.add(Bidirectional(GRU(100, activation='tanh',  return_sequences=True))) # add the GRU layer\n",
    "model_10.add(Flatten())                                        # add the Flatten layer\n",
    "model_10.add(Dense(75, activation='relu'))                       # add the Dense layer\n",
    "model_10.add(Dense(50, activation='relu'))                       # add the Dense layer\n",
    "model_10.add(Dropout(0.25))                                      # add the Dropout layer\n",
    "model_10.add(Dense(1, activation='sigmoid'))\n",
    "\n",
    "model_10.compile(loss='binary_crossentropy',optimizer='adam',metrics=['accuracy'])\n",
    "\n",
    "model_10.summary()\n",
    "\n",
    "early_stopping = EarlyStopping(monitor=\"val_loss\", \n",
    "                               patience=7, \n",
    "                               restore_best_weights=True)\n",
    "\n",
    "save_model_10 = model_10.save(\"/models/model_10\") # saving model\n",
    "\n",
    "# learning rate\n",
    "l_rate = LearningRateScheduler(scheduler)\n",
    "history_10 = model_10.fit(x_train, y_train, \n",
    "                    epochs=max_epochs,\n",
    "                          batch_size=32,\n",
    "                          validation_data=(x_test, y_test),\n",
    "                          callbacks=[early_stopping,l_rate],\n",
    "                          verbose=2)"
   ]
  },
  {
   "cell_type": "code",
   "execution_count": 63,
   "id": "89a72352",
   "metadata": {},
   "outputs": [
    {
     "name": "stdout",
     "output_type": "stream",
     "text": [
      "Train accuracy for GRU: 71.14\n",
      "Test accuracy for GRU : 66.45\n"
     ]
    }
   ],
   "source": [
    "# model evaluation\n",
    "train_gru_bid_results =model_10.evaluate(x_train, y_train, verbose=0, batch_size=32)\n",
    "test_gru_bid_results = model_10.evaluate(x_test, y_test, verbose=0, batch_size=32)\n",
    "print(f'Train accuracy for GRU: {train_gru_bid_results[1]*100:0.2f}')\n",
    "print(f'Test accuracy for GRU : {test_gru_bid_results[1]*100:0.2f}')"
   ]
  },
  {
   "cell_type": "code",
   "execution_count": null,
   "id": "5523152d",
   "metadata": {},
   "outputs": [],
   "source": [
    "pred_GRU = model_11.predict(x_test)"
   ]
  },
  {
   "cell_type": "code",
   "execution_count": null,
   "id": "82a78a35",
   "metadata": {},
   "outputs": [],
   "source": [
    "from sklearn.metrics import confusion_matrix,classification_report\n",
    "conf_mtx=confusion_matrix(pred_GRU.round(), y_test)\n",
    "\n",
    "plt.figure(figsize=(8,6))\n",
    "sns.heatmap(conf_mtx,annot=True,fmt='d',cmap='Blues')\n",
    "plt.title(\"0 - Non_sarcastic     1 - Sarcastic\")\n",
    "plt.show()"
   ]
  },
  {
   "cell_type": "code",
   "execution_count": null,
   "id": "37778f21",
   "metadata": {},
   "outputs": [],
   "source": [
    "(3775+3177)/(3775+918+3177+749) #check accuracy with confusion matrix result"
   ]
  },
  {
   "cell_type": "code",
   "execution_count": 61,
   "id": "485b1c93",
   "metadata": {},
   "outputs": [
    {
     "ename": "NameError",
     "evalue": "name 'loss' is not defined",
     "output_type": "error",
     "traceback": [
      "\u001b[1;31m---------------------------------------------------------------------------\u001b[0m",
      "\u001b[1;31mNameError\u001b[0m                                 Traceback (most recent call last)",
      "Input \u001b[1;32mIn [61]\u001b[0m, in \u001b[0;36m<cell line: 3>\u001b[1;34m()\u001b[0m\n\u001b[0;32m      1\u001b[0m \u001b[38;5;66;03m#creat the Data Frame for scores in models\u001b[39;00m\n\u001b[0;32m      2\u001b[0m \u001b[38;5;28;01mimport\u001b[39;00m \u001b[38;5;21;01mpandas\u001b[39;00m \u001b[38;5;28;01mas\u001b[39;00m \u001b[38;5;21;01mpd\u001b[39;00m\n\u001b[1;32m----> 3\u001b[0m scores \u001b[38;5;241m=\u001b[39m {\u001b[38;5;124m'\u001b[39m\u001b[38;5;124mloss\u001b[39m\u001b[38;5;124m'\u001b[39m: \u001b[43mloss\u001b[49m, \n\u001b[0;32m      4\u001b[0m      \u001b[38;5;124m'\u001b[39m\u001b[38;5;124mval_loss\u001b[39m\u001b[38;5;124m'\u001b[39m: val_loss, \n\u001b[0;32m      5\u001b[0m      \u001b[38;5;124m'\u001b[39m\u001b[38;5;124maccuracy\u001b[39m\u001b[38;5;124m'\u001b[39m: accuracy,\n\u001b[0;32m      6\u001b[0m      \u001b[38;5;124m'\u001b[39m\u001b[38;5;124mval_accuracy\u001b[39m\u001b[38;5;124m'\u001b[39m : val_accuracy\n\u001b[0;32m      7\u001b[0m     }\n\u001b[0;32m      8\u001b[0m df \u001b[38;5;241m=\u001b[39m pd\u001b[38;5;241m.\u001b[39mDataFrame(data\u001b[38;5;241m=\u001b[39mscores)\n\u001b[0;32m      9\u001b[0m df\u001b[38;5;241m.\u001b[39minsert(loc\u001b[38;5;241m=\u001b[39m\u001b[38;5;241m0\u001b[39m, column\u001b[38;5;241m=\u001b[39m\u001b[38;5;124m'\u001b[39m\u001b[38;5;124mModel\u001b[39m\u001b[38;5;124m'\u001b[39m, value\u001b[38;5;241m=\u001b[39m[\u001b[38;5;124m'\u001b[39m\u001b[38;5;124mmodel_1\u001b[39m\u001b[38;5;124m'\u001b[39m, \u001b[38;5;124m'\u001b[39m\u001b[38;5;124mmodel_2\u001b[39m\u001b[38;5;124m'\u001b[39m,\u001b[38;5;124m'\u001b[39m\u001b[38;5;124mmodel_3\u001b[39m\u001b[38;5;124m'\u001b[39m,\u001b[38;5;124m'\u001b[39m\u001b[38;5;124mmodel_4\u001b[39m\u001b[38;5;124m'\u001b[39m,\u001b[38;5;124m'\u001b[39m\u001b[38;5;124mmodel_5\u001b[39m\u001b[38;5;124m'\u001b[39m,\n\u001b[0;32m     10\u001b[0m                                         \u001b[38;5;124m'\u001b[39m\u001b[38;5;124mmodel_6\u001b[39m\u001b[38;5;124m'\u001b[39m,\u001b[38;5;124m'\u001b[39m\u001b[38;5;124mmodel_7\u001b[39m\u001b[38;5;124m'\u001b[39m, \u001b[38;5;124m'\u001b[39m\u001b[38;5;124mmodel_8\u001b[39m\u001b[38;5;124m'\u001b[39m, \u001b[38;5;124m\"\u001b[39m\u001b[38;5;124mmodel_9\u001b[39m\u001b[38;5;124m\"\u001b[39m, \u001b[38;5;124m\"\u001b[39m\u001b[38;5;124mmodel_10\u001b[39m\u001b[38;5;124m\"\u001b[39m])\n",
      "\u001b[1;31mNameError\u001b[0m: name 'loss' is not defined"
     ]
    }
   ],
   "source": [
    "#creat the Data Frame for scores in models\n",
    "import pandas as pd\n",
    "scores = {'loss': loss, \n",
    "     'val_loss': val_loss, \n",
    "     'accuracy': accuracy,\n",
    "     'val_accuracy' : val_accuracy\n",
    "    }\n",
    "df = pd.DataFrame(data=scores)\n",
    "df.insert(loc=0, column='Model', value=['model_1', 'model_2','model_3','model_4','model_5',\n",
    "                                        'model_6','model_7', 'model_8', \"model_9\", \"model_10\"])\n",
    "df.sort_values('accuracy',ascending=False)"
   ]
  },
  {
   "cell_type": "code",
   "execution_count": 72,
   "id": "d3aad482",
   "metadata": {},
   "outputs": [
    {
     "name": "stdout",
     "output_type": "stream",
     "text": [
      "M1\n",
      "train_accuracy [0.6911529898643494, 0.5231000185012817]\n",
      "test_accuracy: {} [0.6909643411636353, 0.5248869061470032]\n",
      "M2\n",
      "train_accuracy [0.3404698371887207, 0.859000027179718]\n",
      "test_accuracy: {} [0.4387097954750061, 0.7983524799346924]\n",
      "M3\n",
      "train_accuracy [0.20339469611644745, 0.9358500242233276]\n",
      "test_accuracy: {} [0.4539940357208252, 0.7988165616989136]\n",
      "M4\n",
      "train_accuracy [0.26820215582847595, 0.9060500264167786]\n",
      "test_accuracy: {} [0.4467674493789673, 0.7927833795547485]\n",
      "M5\n",
      "train_accuracy [0.6912735104560852, 0.5230500102043152]\n",
      "test_accuracy: {} [0.6915099024772644, 0.5248869061470032]\n",
      "M6\n",
      "train_accuracy [0.46745064854621887, 0.809249997138977]\n",
      "test_accuracy: {} [0.5869798064231873, 0.7032138109207153]\n",
      "M7\n",
      "train_accuracy [0.26990920305252075, 0.8996000289916992]\n",
      "test_accuracy: {} [0.4186791479587555, 0.8091425895690918]\n",
      "M8\n",
      "train_accuracy [0.29578566551208496, 0.9049999713897705]\n",
      "test_accuracy: {} [0.4181869924068451, 0.8063580393791199]\n",
      "M9\n",
      "train_accuracy [0.25998133420944214, 0.9034000039100647]\n",
      "test_accuracy: {} [0.41333213448524475, 0.8048497438430786]\n",
      "M10\n",
      "train_accuracy [0.5380026698112488, 0.7114499807357788]\n",
      "test_accuracy: {} [0.6015782952308655, 0.6644622087478638]\n"
     ]
    }
   ],
   "source": [
    "from sklearn import  metrics # import library for getting scores\n",
    "\n",
    "models = []\n",
    "models.append(('M1', model_1))\n",
    "models.append(('M2', model_2))\n",
    "models.append(('M3', model_3))\n",
    "models.append(('M4', model_4))\n",
    "models.append(('M5', model_5))\n",
    "models.append(('M6', model_6))\n",
    "models.append(('M7', model_7))\n",
    "models.append(('M8', model_8))\n",
    "models.append(('M9', model_9))\n",
    "models.append(('M10', model_10))\n",
    "\n",
    "\n",
    "train_accuracy = []\n",
    "test_accuracy = []\n",
    "for name, model in models:\n",
    "    print(name)\n",
    "    print(\"train_accuracy\", model.evaluate(x_train, y_train, verbose=0, batch_size=32))\n",
    "    print(\"test_accuracy:\", model.evaluate(x_test, y_test, verbose=0, batch_size=32))\n",
    "    \n",
    "    train_accuracy.append(model.evaluate(x_train, y_train, verbose=0, batch_size=32))\n",
    "    test_accuracy.append(model.evaluate(x_test, y_test, verbose=0, batch_size=32))"
   ]
  },
  {
   "cell_type": "code",
   "execution_count": null,
   "id": "9efb1215",
   "metadata": {},
   "outputs": [],
   "source": []
  }
 ],
 "metadata": {
  "kernelspec": {
   "display_name": "Python 3 (ipykernel)",
   "language": "python",
   "name": "python3"
  },
  "language_info": {
   "codemirror_mode": {
    "name": "ipython",
    "version": 3
   },
   "file_extension": ".py",
   "mimetype": "text/x-python",
   "name": "python",
   "nbconvert_exporter": "python",
   "pygments_lexer": "ipython3",
   "version": "3.8.8"
  }
 },
 "nbformat": 4,
 "nbformat_minor": 5
}
