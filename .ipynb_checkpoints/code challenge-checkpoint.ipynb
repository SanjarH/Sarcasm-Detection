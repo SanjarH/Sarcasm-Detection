{
 "cells": [
  {
   "cell_type": "code",
   "execution_count": 1,
   "id": "c8cedaa4",
   "metadata": {},
   "outputs": [],
   "source": [
    "def fct(string, n):\n",
    "    list=[]\n",
    "    \n",
    "    for i in range(n):\n",
    "        list.append(string[i::n])\n",
    "    return list"
   ]
  },
  {
   "cell_type": "code",
   "execution_count": 4,
   "id": "0c2fff54",
   "metadata": {},
   "outputs": [
    {
     "data": {
      "text/plain": [
       "['foo', 'bar']"
      ]
     },
     "execution_count": 4,
     "metadata": {},
     "output_type": "execute_result"
    }
   ],
   "source": [
    "fct('fboaor', 2)"
   ]
  },
  {
   "cell_type": "code",
   "execution_count": 5,
   "id": "a859f3a6",
   "metadata": {},
   "outputs": [
    {
     "data": {
      "text/plain": [
       "['foo', 'bar', 'baz']"
      ]
     },
     "execution_count": 5,
     "metadata": {},
     "output_type": "execute_result"
    }
   ],
   "source": [
    "fct('fbboaaorz', 3)"
   ]
  },
  {
   "cell_type": "code",
   "execution_count": 15,
   "id": "645bd477",
   "metadata": {},
   "outputs": [
    {
     "name": "stdout",
     "output_type": "stream",
     "text": [
      "['foo', 'bar']\n",
      "['foo', 'bar', 'baz']\n",
      "['spam', 'eggs', 'joke']\n"
     ]
    }
   ],
   "source": [
    "fct2 = lambda str, n: [str[i::n] for i in range(n)] \n",
    "\n",
    "test = [\n",
    "    (\"fboaor\", 2),\n",
    "    (\"fbboaaorz\",3),\n",
    "    (\"sejpgoagkmse\",3)\n",
    "]\n",
    "\n",
    "for t in test:\n",
    "    print(fct2(t[0], t[1]))"
   ]
  },
  {
   "cell_type": "code",
   "execution_count": 8,
   "id": "3321db6a",
   "metadata": {},
   "outputs": [
    {
     "data": {
      "text/plain": [
       "['foo', 'bar']"
      ]
     },
     "execution_count": 8,
     "metadata": {},
     "output_type": "execute_result"
    }
   ],
   "source": [
    "fct2('fboaor', 2)"
   ]
  },
  {
   "cell_type": "code",
   "execution_count": 10,
   "id": "4b45ee9f",
   "metadata": {},
   "outputs": [
    {
     "data": {
      "text/plain": [
       "['fooj', 'barz', 'baj']"
      ]
     },
     "execution_count": 10,
     "metadata": {},
     "output_type": "execute_result"
    }
   ],
   "source": [
    "fct2('fbboaaorjjz', 3)"
   ]
  },
  {
   "cell_type": "code",
   "execution_count": null,
   "id": "56a4df59",
   "metadata": {},
   "outputs": [],
   "source": []
  }
 ],
 "metadata": {
  "kernelspec": {
   "display_name": "Python 3 (ipykernel)",
   "language": "python",
   "name": "python3"
  },
  "language_info": {
   "codemirror_mode": {
    "name": "ipython",
    "version": 3
   },
   "file_extension": ".py",
   "mimetype": "text/x-python",
   "name": "python",
   "nbconvert_exporter": "python",
   "pygments_lexer": "ipython3",
   "version": "3.8.8"
  }
 },
 "nbformat": 4,
 "nbformat_minor": 5
}
